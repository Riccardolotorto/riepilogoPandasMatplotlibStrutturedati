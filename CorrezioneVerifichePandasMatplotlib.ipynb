{
  "nbformat": 4,
  "nbformat_minor": 0,
  "metadata": {
    "colab": {
      "provenance": [],
      "collapsed_sections": [
        "MEgiq2lkQzYT",
        "ZsmH8A6OVzAS",
        "9oAD6kxFWI1B"
      ]
    },
    "kernelspec": {
      "name": "python3",
      "display_name": "Python 3"
    },
    "language_info": {
      "name": "python"
    }
  },
  "cells": [
    {
      "cell_type": "markdown",
      "source": [
        "#verifica1"
      ],
      "metadata": {
        "id": "MEgiq2lkQzYT"
      }
    },
    {
      "cell_type": "code",
      "execution_count": null,
      "metadata": {
        "id": "VKFYaCkRCutc"
      },
      "outputs": [],
      "source": [
        "import pandas as pd \n",
        "df = pd.read_json(\"https://raw.githubusercontent.com/wtitze/4E/main/comuni_italiani.json\")\n",
        "df"
      ]
    },
    {
      "cell_type": "markdown",
      "source": [
        "1. il numero di comuni italiani"
      ],
      "metadata": {
        "id": "D5wyseB2DH4R"
      }
    },
    {
      "cell_type": "code",
      "source": [
        "len(set(df[\"Denominazione in italiano\"]))"
      ],
      "metadata": {
        "id": "j6Ls-AxvDK3J"
      },
      "execution_count": null,
      "outputs": []
    },
    {
      "cell_type": "markdown",
      "source": [
        "2. il numero di provincie italiane"
      ],
      "metadata": {
        "id": "uDP20UFSDOcy"
      }
    },
    {
      "cell_type": "code",
      "source": [
        "len(set(df[\"Provincia\"]))"
      ],
      "metadata": {
        "id": "G1msILRLD1Gq"
      },
      "execution_count": null,
      "outputs": []
    },
    {
      "cell_type": "markdown",
      "source": [
        "3. il numero di provincie per ogni regione"
      ],
      "metadata": {
        "id": "9DIabLxWD5-q"
      }
    },
    {
      "cell_type": "code",
      "source": [
        "dfprovincie = df.groupby([\"Denominazione Regione\", \"Provincia\"])[[\"Ripartizione geografica\"]].count()\n",
        "dfprovincie2 = dfprovincie.groupby(\"Denominazione Regione\").count().reset_index()\n",
        "dfprovincie2"
      ],
      "metadata": {
        "id": "P3ta6fvjEt7y"
      },
      "execution_count": null,
      "outputs": []
    },
    {
      "cell_type": "markdown",
      "source": [
        "4. numero di comuni per ogni provincia. ordinare decrescente "
      ],
      "metadata": {
        "id": "x_mRl1y0HFFS"
      }
    },
    {
      "cell_type": "code",
      "source": [
        "dfcomuni = df.groupby(\"Provincia\")[[\"Denominazione in italiano\"]].count().sort_values(by=\"Denominazione in italiano\", ascending = False).reset_index()\n",
        "dfcomuni"
      ],
      "metadata": {
        "id": "Nk6H-6UqHLpB"
      },
      "execution_count": null,
      "outputs": []
    },
    {
      "cell_type": "markdown",
      "source": [
        "5. la provincia con meno comuni"
      ],
      "metadata": {
        "id": "y4VuT_oKHY8i"
      }
    },
    {
      "cell_type": "code",
      "source": [
        "dfcomuni[dfcomuni[\"Denominazione in italiano\"] == dfcomuni[\"Denominazione in italiano\"].min()][[\"Provincia\"]]"
      ],
      "metadata": {
        "id": "SBnelLpnH08r"
      },
      "execution_count": null,
      "outputs": []
    },
    {
      "cell_type": "markdown",
      "source": [
        "6. la regione con più provincie "
      ],
      "metadata": {
        "id": "8p9BY6JQIF-S"
      }
    },
    {
      "cell_type": "code",
      "source": [
        "dfprovincie2[dfprovincie2[\"Ripartizione geografica\"] == dfprovincie2[\"Ripartizione geografica\"].max()][[\"Denominazione Regione\"]]"
      ],
      "metadata": {
        "id": "bPB50jUzIJl5"
      },
      "execution_count": null,
      "outputs": []
    },
    {
      "cell_type": "markdown",
      "source": [
        "7. il numero medio di comuni nelle varie province"
      ],
      "metadata": {
        "id": "gWGb0dnpJ7yZ"
      }
    },
    {
      "cell_type": "code",
      "source": [
        "df.groupby(\"Provincia\")[[\"Denominazione in italiano\"]].count().mean()"
      ],
      "metadata": {
        "id": "uknxZ_UdKN_5"
      },
      "execution_count": null,
      "outputs": []
    },
    {
      "cell_type": "markdown",
      "source": [
        "8. fare grafico a barre orizzontali dell'esercizio 3"
      ],
      "metadata": {
        "id": "mx0g8xTYK6R7"
      }
    },
    {
      "cell_type": "code",
      "source": [
        "import matplotlib.pyplot as plt"
      ],
      "metadata": {
        "id": "lzG1gUgnLYVp"
      },
      "execution_count": null,
      "outputs": []
    },
    {
      "cell_type": "code",
      "source": [
        "dfprovincie = df.groupby([\"Denominazione Regione\", \"Provincia\"])[[\"Ripartizione geografica\"]].count()\n",
        "dfprovincie2 = dfprovincie.groupby(\"Denominazione Regione\").count().reset_index().sort_values(by=\"Ripartizione geografica\", ascending = False)\n",
        "regioni = dfprovincie2[\"Denominazione Regione\"]\n",
        "nProvincie = dfprovincie2[\"Ripartizione geografica\"]\n",
        "\n",
        "fig, ax = plt.subplots(figsize = (15, 8))\n",
        "ax.barh(regioni, nProvincie, label=\"numero di provincie per ogni regione\")\n",
        "ax.legend()"
      ],
      "metadata": {
        "id": "jNce_0QwLCaC"
      },
      "execution_count": null,
      "outputs": []
    },
    {
      "cell_type": "markdown",
      "source": [
        "9. fare grafico treemap dell'esercizio 3"
      ],
      "metadata": {
        "id": "xLUiXDHbMj5D"
      }
    },
    {
      "cell_type": "code",
      "source": [
        "!pip install squarify"
      ],
      "metadata": {
        "id": "h13VjwRgMn5Z"
      },
      "execution_count": null,
      "outputs": []
    },
    {
      "cell_type": "code",
      "source": [
        "import squarify \n",
        "squarify.plot(sizes=nProvincie, label=regioni, alpha=.8, color = [\"red\", \"blue\", \"green\", \"orange\", \"gray\"])\n",
        "plt.axis('off')\n",
        "plt.show()"
      ],
      "metadata": {
        "id": "y8WoW8mmM8AC"
      },
      "execution_count": null,
      "outputs": []
    },
    {
      "cell_type": "markdown",
      "source": [
        "10. caricare il secondo file"
      ],
      "metadata": {
        "id": "xehkLxSmWruq"
      }
    },
    {
      "cell_type": "code",
      "source": [
        "df2 = pd.read_csv(\"https://raw.githubusercontent.com/wtitze/4E/main/netflix_titles.csv\")\n",
        "df2"
      ],
      "metadata": {
        "id": "gwSNUCXqOSGR"
      },
      "execution_count": null,
      "outputs": []
    },
    {
      "cell_type": "markdown",
      "source": [
        "11. il numero di film (movie)"
      ],
      "metadata": {
        "id": "rSKkNfaBRAKT"
      }
    },
    {
      "cell_type": "code",
      "source": [
        "len(df2[df2[\"type\"] == \"Movie\"])"
      ],
      "metadata": {
        "id": "JUQgF6BMRJqE"
      },
      "execution_count": null,
      "outputs": []
    },
    {
      "cell_type": "markdown",
      "source": [
        "12.  il numero di film di cui non si conosce la nazione"
      ],
      "metadata": {
        "id": "pKswk0v_RT5x"
      }
    },
    {
      "cell_type": "code",
      "source": [
        "df2[df2[\"country\"].isnull()][\"title\"].count()"
      ],
      "metadata": {
        "id": "2JI5bbAkRVbR"
      },
      "execution_count": null,
      "outputs": []
    },
    {
      "cell_type": "markdown",
      "source": [
        "13. il numero di tv show rilasciati del 2010 al 2015 (estremi compresi)"
      ],
      "metadata": {
        "id": "VMPU_B5ARkYZ"
      }
    },
    {
      "cell_type": "code",
      "source": [
        "df2[(df2[\"release_year\"] >= 2010) & (df2[\"release_year\"] <= 2015)][\"title\"].count()"
      ],
      "metadata": {
        "id": "ApCMgfV_RmTa"
      },
      "execution_count": null,
      "outputs": []
    },
    {
      "cell_type": "markdown",
      "source": [
        "14. i titoli delle docuseries"
      ],
      "metadata": {
        "id": "-S4_EoIcR8Aa"
      }
    },
    {
      "cell_type": "code",
      "source": [
        "df2[df2[\"listed_in\"].str.contains(\"Docuseries\")][[\"title\"]]"
      ],
      "metadata": {
        "id": "rPy3lfqHR-1z"
      },
      "execution_count": null,
      "outputs": []
    },
    {
      "cell_type": "markdown",
      "source": [
        "15. i titoli dei TV show che hanno nel titolo la parola zombie"
      ],
      "metadata": {
        "id": "uxTXgHUYSQex"
      }
    },
    {
      "cell_type": "code",
      "source": [
        "df2[df2[\"title\"].str.contains(\"Zombie\")][[\"title\"]]"
      ],
      "metadata": {
        "id": "Z7fIFqotSSUx"
      },
      "execution_count": null,
      "outputs": []
    },
    {
      "cell_type": "markdown",
      "source": [
        "16. i film che sono stati aggiunti nel settembre 2021"
      ],
      "metadata": {
        "id": "9nWeuKrNScIK"
      }
    },
    {
      "cell_type": "code",
      "source": [
        "df2[(df2[\"date_added\"].str.startswith(\"September\")) & (df2[\"date_added\"].str.endswith(\"2021\"))][[\"title\"]]"
      ],
      "metadata": {
        "id": "gNJHd3mcSdr5"
      },
      "execution_count": null,
      "outputs": []
    },
    {
      "cell_type": "markdown",
      "source": [
        "17. il numero di TV show iniziati in ogni anno"
      ],
      "metadata": {
        "id": "INM8hhkZS4ax"
      }
    },
    {
      "cell_type": "code",
      "source": [
        "df2.groupby(\"release_year\")[[\"title\"]].count()"
      ],
      "metadata": {
        "id": "sK8LvSBcS6sa"
      },
      "execution_count": null,
      "outputs": []
    },
    {
      "cell_type": "markdown",
      "source": [
        "18.  il grafico a barre verticali dell'esercizio 7"
      ],
      "metadata": {
        "id": "-02GypAoTh_6"
      }
    },
    {
      "cell_type": "code",
      "source": [
        "dfanni = df2.groupby(\"release_year\")[[\"title\"]].count().reset_index()\n",
        "anno = dfanni[\"release_year\"]\n",
        "nFilm = dfanni[\"title\"]\n",
        "\n",
        "fig, ax = plt.subplots(figsize = (15, 8))\n",
        "ax.bar(anno, nFilm, label=\"numero di film rilasciati in ogni anno\")\n",
        "ax.legend()"
      ],
      "metadata": {
        "id": "2EZtEdo7TjzR"
      },
      "execution_count": null,
      "outputs": []
    },
    {
      "cell_type": "markdown",
      "source": [
        "19. il grafico a torta dell'esercizio 7"
      ],
      "metadata": {
        "id": "BeAjiccvUBB5"
      }
    },
    {
      "cell_type": "code",
      "source": [
        "dfanni = df2.groupby(\"release_year\")[[\"title\"]].count().reset_index()\n",
        "anno = dfanni[\"release_year\"]\n",
        "nFilm = dfanni[\"title\"]\n",
        "\n",
        "\n",
        "plt.figure(figsize=(14, 14))\n",
        "plt.pie(nFilm, labels = anno , autopct='%1.2f%%')\n",
        "plt.show()"
      ],
      "metadata": {
        "id": "0H8ja1OmUCuy"
      },
      "execution_count": null,
      "outputs": []
    },
    {
      "cell_type": "markdown",
      "source": [
        "#verifica 2"
      ],
      "metadata": {
        "id": "ZsmH8A6OVzAS"
      }
    },
    {
      "cell_type": "code",
      "source": [
        "import pandas as pd \n",
        "df4 = pd.read_csv(\"https://raw.githubusercontent.com/wtitze/4E/main/prime_titles.csv\", index_col = 0)\n",
        "df4"
      ],
      "metadata": {
        "id": "WX37gfbTV23p"
      },
      "execution_count": null,
      "outputs": []
    },
    {
      "cell_type": "markdown",
      "source": [
        "1. eliminare tutte le righe che non hanno dati"
      ],
      "metadata": {
        "id": "OfcqlSxTaA3R"
      }
    },
    {
      "cell_type": "code",
      "source": [
        "df4.drop(df4[df4[\"Name of the show\"].isnull()].index, inplace = True)"
      ],
      "metadata": {
        "id": "R1kXvFF9aCa6"
      },
      "execution_count": null,
      "outputs": []
    },
    {
      "cell_type": "markdown",
      "source": [
        "2. visualizzare il numero di film per ogni lingua"
      ],
      "metadata": {
        "id": "nfHz3scoaFCh"
      }
    },
    {
      "cell_type": "code",
      "source": [
        "df4.groupby(\"Language\")[[\"Name of the show\"]].count()"
      ],
      "metadata": {
        "id": "VCbsrUO8aGgR"
      },
      "execution_count": null,
      "outputs": []
    },
    {
      "cell_type": "markdown",
      "source": [
        "3. visualizzare il numero di show per ogni anno"
      ],
      "metadata": {
        "id": "sne6QCozaJy5"
      }
    },
    {
      "cell_type": "code",
      "source": [
        "dfanno2 = df4.groupby(\"Year of release\")[[\"Name of the show\"]].count().reset_index()\n",
        "dfanno2"
      ],
      "metadata": {
        "id": "xNnOMN2_aLwa"
      },
      "execution_count": null,
      "outputs": []
    },
    {
      "cell_type": "markdown",
      "source": [
        "4. visualizzare gli anni in cui sono stati prodotti più di 50 show"
      ],
      "metadata": {
        "id": "-KC0z-AhBDc7"
      }
    },
    {
      "cell_type": "code",
      "source": [
        "dfanno2[dfanno2[\"Name of the show\"] > 50][[\"Year of release\"]]"
      ],
      "metadata": {
        "id": "jqJhBi15BGMV"
      },
      "execution_count": null,
      "outputs": []
    },
    {
      "cell_type": "markdown",
      "source": [
        "5. visualizzare l'anno in cui sono stati prodotti più show"
      ],
      "metadata": {
        "id": "XQLEb83gBHUv"
      }
    },
    {
      "cell_type": "code",
      "source": [
        "dfanno2[dfanno2[\"Name of the show\"] == dfanno2[\"Name of the show\"].max()][[\"Year of release\"]]"
      ],
      "metadata": {
        "id": "1HVoDvoABJDY"
      },
      "execution_count": null,
      "outputs": []
    },
    {
      "cell_type": "markdown",
      "source": [
        "6. visualizzare il numero di film drammatici inglesi del 2017"
      ],
      "metadata": {
        "id": "NYHFNTCIBKwv"
      }
    },
    {
      "cell_type": "code",
      "source": [
        "df4[(df4[\"Language\"] == \"English\") & (df4[\"Genre\"].str.contains(\"Drama\")) & (df4[\"Year of release\"] == 2017.0\t)][\"Genre\"].count()"
      ],
      "metadata": {
        "id": "NG5_byMYBO2P"
      },
      "execution_count": null,
      "outputs": []
    },
    {
      "cell_type": "markdown",
      "source": [
        "7. visualizzare il rating medio dei film di ogni lingua"
      ],
      "metadata": {
        "id": "XftGVfhABQfm"
      }
    },
    {
      "cell_type": "code",
      "source": [
        "df4.groupby(\"Language\")[[\"IMDb rating\"]].mean()"
      ],
      "metadata": {
        "id": "9JXnEWZ0BTJn"
      },
      "execution_count": null,
      "outputs": []
    },
    {
      "cell_type": "markdown",
      "source": [
        "8. visualizzare il grafico a barre verticali dell'esercizio 7"
      ],
      "metadata": {
        "id": "Ke9THtQNBeH4"
      }
    },
    {
      "cell_type": "code",
      "source": [
        "import matplotlib.pyplot as plt"
      ],
      "metadata": {
        "id": "GCIG2hTMBhM6"
      },
      "execution_count": 8,
      "outputs": []
    },
    {
      "cell_type": "code",
      "source": [
        "dati2 = df4.groupby(\"Language\")[[\"IMDb rating\"]].mean().reset_index()\n",
        "lingue2 = dati2[\"Language\"]\n",
        "rat2 = dati2[\"IMDb rating\"]\n",
        "\n",
        "fig, ax = plt.subplots(figsize=(15,8))\n",
        "ax.bar(lingue2, rat2, label='numero medio di rating per ogni lingua')\n",
        "ax.set_ylabel(\"rating\")\n",
        "ax.set_xlabel(\"lingua\")\n",
        "ax.set_title('numero medio di rating per ogni lingua')\n",
        "plt.xticks(rotation = 70)\n",
        "ax.legend()"
      ],
      "metadata": {
        "id": "ogHLfmllBi9E"
      },
      "execution_count": null,
      "outputs": []
    },
    {
      "cell_type": "markdown",
      "source": [
        "9. visualizzare il grafico a barre orizzontali dell'esercizio 7"
      ],
      "metadata": {
        "id": "lWMAr4lnBqTJ"
      }
    },
    {
      "cell_type": "code",
      "source": [
        "dati2 = df4.groupby(\"Language\")[[\"IMDb rating\"]].mean().reset_index()\n",
        "lingue2 = dati2[\"Language\"]\n",
        "rat2 = dati2[\"IMDb rating\"]\n",
        "\n",
        "fig, ax = plt.subplots(figsize=(15,8))\n",
        "ax.barh(lingue2, rat2, label='numero medio di  rating per ogni lingua')\n",
        "ax.set_xlabel(\"rating\")\n",
        "ax.set_ylabel(\"lingua\")\n",
        "ax.set_title('numero medio di rating per ogni lingua')\n",
        "ax.legend()"
      ],
      "metadata": {
        "id": "gVdD6bY1Bseb"
      },
      "execution_count": null,
      "outputs": []
    },
    {
      "cell_type": "markdown",
      "source": [
        "10. caricare il secondo file"
      ],
      "metadata": {
        "id": "vcgYieyFBzGY"
      }
    },
    {
      "cell_type": "code",
      "source": [
        "import pandas as pd\n",
        "df5 = pd.read_csv(\"https://raw.githubusercontent.com/wtitze/4E/main/ristoranti.csv\", index_col = 0)\n",
        "df5"
      ],
      "metadata": {
        "id": "8VdAVF_cB09e"
      },
      "execution_count": null,
      "outputs": []
    },
    {
      "cell_type": "markdown",
      "source": [
        "11. eliminare tutte le colonne tranne borough (quartiere), cuisine e name"
      ],
      "metadata": {
        "id": "VwHvD4kBB8Aq"
      }
    },
    {
      "cell_type": "code",
      "source": [
        "df5.drop(['address', 'grades', 'restaurant_id'], axis=1, inplace = True)"
      ],
      "metadata": {
        "id": "Hq8886cOB91h"
      },
      "execution_count": 4,
      "outputs": []
    },
    {
      "cell_type": "markdown",
      "source": [
        "12. visualizzare il numero di ristoranti dei Queens"
      ],
      "metadata": {
        "id": "dcEs6l4zCAcf"
      }
    },
    {
      "cell_type": "code",
      "source": [
        "df5[df5[\"borough\"] == \"Queens\"][\"name\"].count()"
      ],
      "metadata": {
        "id": "-DjSli6iCCwU"
      },
      "execution_count": null,
      "outputs": []
    },
    {
      "cell_type": "markdown",
      "source": [
        "13. visualizzare il numero di ristoranti per ogni quartiere"
      ],
      "metadata": {
        "id": "MWN6QPtICFIM"
      }
    },
    {
      "cell_type": "code",
      "source": [
        "df5.groupby(\"borough\")[[\"name\"]].count()"
      ],
      "metadata": {
        "id": "XE0gr1tbCHAG"
      },
      "execution_count": null,
      "outputs": []
    },
    {
      "cell_type": "markdown",
      "source": [
        "14. visualizzare il numero di tipi di cucina per ogni quartiere"
      ],
      "metadata": {
        "id": "mCiOmF1RCJCs"
      }
    },
    {
      "cell_type": "code",
      "source": [
        "dfcucina = df5.groupby([\"borough\", \"cuisine\"])[[\"name\"]].count() \n",
        "dfcucina2 = dfcucina.groupby(\"borough\").count()\n",
        "dfcucina2"
      ],
      "metadata": {
        "id": "CuHRof0RCK7x"
      },
      "execution_count": null,
      "outputs": []
    },
    {
      "cell_type": "markdown",
      "source": [
        "15. visualizzare i ristoranti che hanno la parola bagels nel nome"
      ],
      "metadata": {
        "id": "0iFx3lhDCUJA"
      }
    },
    {
      "cell_type": "code",
      "source": [
        "df5.loc[df5[\"name\"].str.contains(\"Bagels\", na=False)][[\"name\"]]"
      ],
      "metadata": {
        "id": "gBM6Qkr-CWEw"
      },
      "execution_count": null,
      "outputs": []
    },
    {
      "cell_type": "markdown",
      "source": [
        "16. visualizzare i ristoranti di cui non si conosce il nome"
      ],
      "metadata": {
        "id": "Lldy3MHjCYv8"
      }
    },
    {
      "cell_type": "code",
      "source": [
        "df5[df5[\"name\"].isnull()]"
      ],
      "metadata": {
        "id": "4jBL9ihmCaa5"
      },
      "execution_count": null,
      "outputs": []
    },
    {
      "cell_type": "markdown",
      "source": [
        "17. visualizzare il quartiere con meno ristoranti"
      ],
      "metadata": {
        "id": "eOK_pc_KCbvM"
      }
    },
    {
      "cell_type": "code",
      "source": [
        "dfristoranti = df5.groupby(\"borough\")[[\"name\"]].count().reset_index()\n",
        "dfristoranti[dfristoranti[\"name\"] == dfristoranti[\"name\"].min()][[\"borough\"]]"
      ],
      "metadata": {
        "id": "Q4k96Y62CduI"
      },
      "execution_count": null,
      "outputs": []
    },
    {
      "cell_type": "markdown",
      "source": [
        "18. visualizzare il grafico treemap dell'esercizio 3"
      ],
      "metadata": {
        "id": "qAnKf6N_CgTk"
      }
    },
    {
      "cell_type": "code",
      "source": [
        "!pip install squarify"
      ],
      "metadata": {
        "id": "w8amzu7YCiEa"
      },
      "execution_count": null,
      "outputs": []
    },
    {
      "cell_type": "code",
      "source": [
        "import squarify\n",
        "dati3 = df5.groupby(\"borough\")[[\"name\"]].count().reset_index()\n",
        "quartieri = dati3[\"borough\"]\n",
        "Nristoranti = dati3[\"name\"]\n",
        "squarify.plot(sizes=Nristoranti, label=quartieri, color=[\"red\",\"green\",\"blue\", \"grey\", \"orange\", \"yellow\"], alpha=.4)\n",
        "plt.axis('off')\n",
        "plt.show()"
      ],
      "metadata": {
        "id": "56LrEjjaCsuK"
      },
      "execution_count": null,
      "outputs": []
    },
    {
      "cell_type": "markdown",
      "source": [
        "19. visualizzare il grafico a torta dell'esercizio 4"
      ],
      "metadata": {
        "id": "W0sIWx3bC1oV"
      }
    },
    {
      "cell_type": "code",
      "source": [
        "dati4 = dfcucina2.reset_index()\n",
        "quartieri2 = dati4[\"borough\"]\n",
        "Ncucine = dati4[\"name\"]\n",
        "\n",
        "plt.figure(figsize=(16, 8))\n",
        "plt.pie(Ncucine, labels = quartieri2, autopct = '%1.2f%%') \n",
        "plt.show()"
      ],
      "metadata": {
        "id": "2PVC6wLjC4Xv"
      },
      "execution_count": null,
      "outputs": []
    },
    {
      "cell_type": "markdown",
      "source": [
        "#verifica 3"
      ],
      "metadata": {
        "id": "9oAD6kxFWI1B"
      }
    },
    {
      "cell_type": "code",
      "source": [
        "import pandas as pd "
      ],
      "metadata": {
        "id": "JKeMt8c-WQYy"
      },
      "execution_count": null,
      "outputs": []
    },
    {
      "cell_type": "code",
      "source": [
        "df3 = pd.read_csv(\"https://raw.githubusercontent.com/wtitze/4E/main/prime_titles.csv\")\n",
        "df3"
      ],
      "metadata": {
        "colab": {
          "base_uri": "https://localhost:8080/",
          "height": 424
        },
        "id": "vUFcGRXPXAfh",
        "outputId": "55cc41ae-17e1-40f8-84b2-847b683e0f35"
      },
      "execution_count": null,
      "outputs": [
        {
          "output_type": "execute_result",
          "data": {
            "text/plain": [
              "     S.no.           Name of the show  Year of release  \\\n",
              "0        1                 Pataal Lok           2020.0   \n",
              "1        2                     Upload           2020.0   \n",
              "2        3  The Marvelous Mrs. Maisel           2017.0   \n",
              "3        4     Four More Shots Please           2019.0   \n",
              "4        5                    Fleabag           2016.0   \n",
              "..     ...                        ...              ...   \n",
              "399    400                        NaN              NaN   \n",
              "400    401                        NaN              NaN   \n",
              "401    402                        NaN              NaN   \n",
              "402    403                        NaN              NaN   \n",
              "403    404                        NaN              NaN   \n",
              "\n",
              "     No of seasons available Language          Genre  IMDb rating  \\\n",
              "0                        1.0    Hindi          Drama          7.5   \n",
              "1                        1.0  English  Sci-fi comedy          8.1   \n",
              "2                        3.0  English  Drama, Comedy          8.7   \n",
              "3                        2.0    Hindi  Drama, Comedy          5.3   \n",
              "4                        2.0  English         Comedy          8.7   \n",
              "..                       ...      ...            ...          ...   \n",
              "399                      NaN      NaN            NaN          NaN   \n",
              "400                      NaN      NaN            NaN          NaN   \n",
              "401                      NaN      NaN            NaN          NaN   \n",
              "402                      NaN      NaN            NaN          NaN   \n",
              "403                      NaN      NaN            NaN          NaN   \n",
              "\n",
              "    Age of viewers  \n",
              "0              18+  \n",
              "1              16+  \n",
              "2              16+  \n",
              "3              18+  \n",
              "4              18+  \n",
              "..             ...  \n",
              "399            NaN  \n",
              "400            NaN  \n",
              "401            NaN  \n",
              "402            NaN  \n",
              "403            NaN  \n",
              "\n",
              "[404 rows x 8 columns]"
            ],
            "text/html": [
              "\n",
              "  <div id=\"df-9d40a370-585c-4440-9989-9bdebf6db587\">\n",
              "    <div class=\"colab-df-container\">\n",
              "      <div>\n",
              "<style scoped>\n",
              "    .dataframe tbody tr th:only-of-type {\n",
              "        vertical-align: middle;\n",
              "    }\n",
              "\n",
              "    .dataframe tbody tr th {\n",
              "        vertical-align: top;\n",
              "    }\n",
              "\n",
              "    .dataframe thead th {\n",
              "        text-align: right;\n",
              "    }\n",
              "</style>\n",
              "<table border=\"1\" class=\"dataframe\">\n",
              "  <thead>\n",
              "    <tr style=\"text-align: right;\">\n",
              "      <th></th>\n",
              "      <th>S.no.</th>\n",
              "      <th>Name of the show</th>\n",
              "      <th>Year of release</th>\n",
              "      <th>No of seasons available</th>\n",
              "      <th>Language</th>\n",
              "      <th>Genre</th>\n",
              "      <th>IMDb rating</th>\n",
              "      <th>Age of viewers</th>\n",
              "    </tr>\n",
              "  </thead>\n",
              "  <tbody>\n",
              "    <tr>\n",
              "      <th>0</th>\n",
              "      <td>1</td>\n",
              "      <td>Pataal Lok</td>\n",
              "      <td>2020.0</td>\n",
              "      <td>1.0</td>\n",
              "      <td>Hindi</td>\n",
              "      <td>Drama</td>\n",
              "      <td>7.5</td>\n",
              "      <td>18+</td>\n",
              "    </tr>\n",
              "    <tr>\n",
              "      <th>1</th>\n",
              "      <td>2</td>\n",
              "      <td>Upload</td>\n",
              "      <td>2020.0</td>\n",
              "      <td>1.0</td>\n",
              "      <td>English</td>\n",
              "      <td>Sci-fi comedy</td>\n",
              "      <td>8.1</td>\n",
              "      <td>16+</td>\n",
              "    </tr>\n",
              "    <tr>\n",
              "      <th>2</th>\n",
              "      <td>3</td>\n",
              "      <td>The Marvelous Mrs. Maisel</td>\n",
              "      <td>2017.0</td>\n",
              "      <td>3.0</td>\n",
              "      <td>English</td>\n",
              "      <td>Drama, Comedy</td>\n",
              "      <td>8.7</td>\n",
              "      <td>16+</td>\n",
              "    </tr>\n",
              "    <tr>\n",
              "      <th>3</th>\n",
              "      <td>4</td>\n",
              "      <td>Four More Shots Please</td>\n",
              "      <td>2019.0</td>\n",
              "      <td>2.0</td>\n",
              "      <td>Hindi</td>\n",
              "      <td>Drama, Comedy</td>\n",
              "      <td>5.3</td>\n",
              "      <td>18+</td>\n",
              "    </tr>\n",
              "    <tr>\n",
              "      <th>4</th>\n",
              "      <td>5</td>\n",
              "      <td>Fleabag</td>\n",
              "      <td>2016.0</td>\n",
              "      <td>2.0</td>\n",
              "      <td>English</td>\n",
              "      <td>Comedy</td>\n",
              "      <td>8.7</td>\n",
              "      <td>18+</td>\n",
              "    </tr>\n",
              "    <tr>\n",
              "      <th>...</th>\n",
              "      <td>...</td>\n",
              "      <td>...</td>\n",
              "      <td>...</td>\n",
              "      <td>...</td>\n",
              "      <td>...</td>\n",
              "      <td>...</td>\n",
              "      <td>...</td>\n",
              "      <td>...</td>\n",
              "    </tr>\n",
              "    <tr>\n",
              "      <th>399</th>\n",
              "      <td>400</td>\n",
              "      <td>NaN</td>\n",
              "      <td>NaN</td>\n",
              "      <td>NaN</td>\n",
              "      <td>NaN</td>\n",
              "      <td>NaN</td>\n",
              "      <td>NaN</td>\n",
              "      <td>NaN</td>\n",
              "    </tr>\n",
              "    <tr>\n",
              "      <th>400</th>\n",
              "      <td>401</td>\n",
              "      <td>NaN</td>\n",
              "      <td>NaN</td>\n",
              "      <td>NaN</td>\n",
              "      <td>NaN</td>\n",
              "      <td>NaN</td>\n",
              "      <td>NaN</td>\n",
              "      <td>NaN</td>\n",
              "    </tr>\n",
              "    <tr>\n",
              "      <th>401</th>\n",
              "      <td>402</td>\n",
              "      <td>NaN</td>\n",
              "      <td>NaN</td>\n",
              "      <td>NaN</td>\n",
              "      <td>NaN</td>\n",
              "      <td>NaN</td>\n",
              "      <td>NaN</td>\n",
              "      <td>NaN</td>\n",
              "    </tr>\n",
              "    <tr>\n",
              "      <th>402</th>\n",
              "      <td>403</td>\n",
              "      <td>NaN</td>\n",
              "      <td>NaN</td>\n",
              "      <td>NaN</td>\n",
              "      <td>NaN</td>\n",
              "      <td>NaN</td>\n",
              "      <td>NaN</td>\n",
              "      <td>NaN</td>\n",
              "    </tr>\n",
              "    <tr>\n",
              "      <th>403</th>\n",
              "      <td>404</td>\n",
              "      <td>NaN</td>\n",
              "      <td>NaN</td>\n",
              "      <td>NaN</td>\n",
              "      <td>NaN</td>\n",
              "      <td>NaN</td>\n",
              "      <td>NaN</td>\n",
              "      <td>NaN</td>\n",
              "    </tr>\n",
              "  </tbody>\n",
              "</table>\n",
              "<p>404 rows × 8 columns</p>\n",
              "</div>\n",
              "      <button class=\"colab-df-convert\" onclick=\"convertToInteractive('df-9d40a370-585c-4440-9989-9bdebf6db587')\"\n",
              "              title=\"Convert this dataframe to an interactive table.\"\n",
              "              style=\"display:none;\">\n",
              "        \n",
              "  <svg xmlns=\"http://www.w3.org/2000/svg\" height=\"24px\"viewBox=\"0 0 24 24\"\n",
              "       width=\"24px\">\n",
              "    <path d=\"M0 0h24v24H0V0z\" fill=\"none\"/>\n",
              "    <path d=\"M18.56 5.44l.94 2.06.94-2.06 2.06-.94-2.06-.94-.94-2.06-.94 2.06-2.06.94zm-11 1L8.5 8.5l.94-2.06 2.06-.94-2.06-.94L8.5 2.5l-.94 2.06-2.06.94zm10 10l.94 2.06.94-2.06 2.06-.94-2.06-.94-.94-2.06-.94 2.06-2.06.94z\"/><path d=\"M17.41 7.96l-1.37-1.37c-.4-.4-.92-.59-1.43-.59-.52 0-1.04.2-1.43.59L10.3 9.45l-7.72 7.72c-.78.78-.78 2.05 0 2.83L4 21.41c.39.39.9.59 1.41.59.51 0 1.02-.2 1.41-.59l7.78-7.78 2.81-2.81c.8-.78.8-2.07 0-2.86zM5.41 20L4 18.59l7.72-7.72 1.47 1.35L5.41 20z\"/>\n",
              "  </svg>\n",
              "      </button>\n",
              "      \n",
              "  <style>\n",
              "    .colab-df-container {\n",
              "      display:flex;\n",
              "      flex-wrap:wrap;\n",
              "      gap: 12px;\n",
              "    }\n",
              "\n",
              "    .colab-df-convert {\n",
              "      background-color: #E8F0FE;\n",
              "      border: none;\n",
              "      border-radius: 50%;\n",
              "      cursor: pointer;\n",
              "      display: none;\n",
              "      fill: #1967D2;\n",
              "      height: 32px;\n",
              "      padding: 0 0 0 0;\n",
              "      width: 32px;\n",
              "    }\n",
              "\n",
              "    .colab-df-convert:hover {\n",
              "      background-color: #E2EBFA;\n",
              "      box-shadow: 0px 1px 2px rgba(60, 64, 67, 0.3), 0px 1px 3px 1px rgba(60, 64, 67, 0.15);\n",
              "      fill: #174EA6;\n",
              "    }\n",
              "\n",
              "    [theme=dark] .colab-df-convert {\n",
              "      background-color: #3B4455;\n",
              "      fill: #D2E3FC;\n",
              "    }\n",
              "\n",
              "    [theme=dark] .colab-df-convert:hover {\n",
              "      background-color: #434B5C;\n",
              "      box-shadow: 0px 1px 3px 1px rgba(0, 0, 0, 0.15);\n",
              "      filter: drop-shadow(0px 1px 2px rgba(0, 0, 0, 0.3));\n",
              "      fill: #FFFFFF;\n",
              "    }\n",
              "  </style>\n",
              "\n",
              "      <script>\n",
              "        const buttonEl =\n",
              "          document.querySelector('#df-9d40a370-585c-4440-9989-9bdebf6db587 button.colab-df-convert');\n",
              "        buttonEl.style.display =\n",
              "          google.colab.kernel.accessAllowed ? 'block' : 'none';\n",
              "\n",
              "        async function convertToInteractive(key) {\n",
              "          const element = document.querySelector('#df-9d40a370-585c-4440-9989-9bdebf6db587');\n",
              "          const dataTable =\n",
              "            await google.colab.kernel.invokeFunction('convertToInteractive',\n",
              "                                                     [key], {});\n",
              "          if (!dataTable) return;\n",
              "\n",
              "          const docLinkHtml = 'Like what you see? Visit the ' +\n",
              "            '<a target=\"_blank\" href=https://colab.research.google.com/notebooks/data_table.ipynb>data table notebook</a>'\n",
              "            + ' to learn more about interactive tables.';\n",
              "          element.innerHTML = '';\n",
              "          dataTable['output_type'] = 'display_data';\n",
              "          await google.colab.output.renderOutput(dataTable, element);\n",
              "          const docLink = document.createElement('div');\n",
              "          docLink.innerHTML = docLinkHtml;\n",
              "          element.appendChild(docLink);\n",
              "        }\n",
              "      </script>\n",
              "    </div>\n",
              "  </div>\n",
              "  "
            ]
          },
          "metadata": {},
          "execution_count": 94
        }
      ]
    },
    {
      "cell_type": "markdown",
      "source": [
        "1. visualizzare le serie TV che hanno più di due stagioni"
      ],
      "metadata": {
        "id": "Xi0DK4hxXUcL"
      }
    },
    {
      "cell_type": "code",
      "source": [
        "df3[df3[\"No of seasons available\"] >= 2.0][[\"Name of the show\"]]"
      ],
      "metadata": {
        "id": "BHLs7LVGXXWa"
      },
      "execution_count": null,
      "outputs": []
    },
    {
      "cell_type": "markdown",
      "source": [
        "2.  visualizzare il numero di film per ogni lingua"
      ],
      "metadata": {
        "id": "Gy_rkvtEXhOJ"
      }
    },
    {
      "cell_type": "code",
      "source": [
        "df3.groupby(\"Language\")[[\"Name of the show\"]].count()"
      ],
      "metadata": {
        "id": "69VwufCIXiqg"
      },
      "execution_count": null,
      "outputs": []
    },
    {
      "cell_type": "markdown",
      "source": [
        "3. visualizzare il numero di show per ogni anno"
      ],
      "metadata": {
        "id": "nrxMyrKGXpXR"
      }
    },
    {
      "cell_type": "code",
      "source": [
        "dfanni = df3.groupby(\"Year of release\")[[\"Name of the show\"]].count().reset_index()\n",
        "dfanni"
      ],
      "metadata": {
        "id": "-e1lBMouX3xR"
      },
      "execution_count": null,
      "outputs": []
    },
    {
      "cell_type": "markdown",
      "source": [
        "4. visualizzare gli anni in cui sono stati prodotti meno di 40 show"
      ],
      "metadata": {
        "id": "-Sf4Tg6UX8kF"
      }
    },
    {
      "cell_type": "code",
      "source": [
        "dfanni[dfanni[\"Name of the show\"] < 40][[\"Year of release\"]]"
      ],
      "metadata": {
        "id": "_dN_ZojwX_Jh"
      },
      "execution_count": null,
      "outputs": []
    },
    {
      "cell_type": "markdown",
      "source": [
        "5. visualizzare l'anno in cui sono stati prodotti più show"
      ],
      "metadata": {
        "id": "MadmTlj7YQWa"
      }
    },
    {
      "cell_type": "code",
      "source": [
        "dfanni[dfanni[\"Name of the show\"] == dfanni[\"Name of the show\"].max()][[\"Year of release\"]]"
      ],
      "metadata": {
        "id": "SkrKSoQsYR4p"
      },
      "execution_count": null,
      "outputs": []
    },
    {
      "cell_type": "markdown",
      "source": [
        "6.  visualizzare il numero di commedie in hindi del 2017"
      ],
      "metadata": {
        "id": "kenOpO_xYWbh"
      }
    },
    {
      "cell_type": "code",
      "source": [
        "len(df3[(df3[\"Genre\"].str.contains(\"Comedy\")) & (df3[\"Language\"] == \"Hindi\") & (df3[\"Year of release\"] == 2017)])"
      ],
      "metadata": {
        "id": "tF4_RdTaYYP5"
      },
      "execution_count": null,
      "outputs": []
    },
    {
      "cell_type": "markdown",
      "source": [
        "7. visualizzare il rating medio dei film di ogni lingua"
      ],
      "metadata": {
        "id": "oe_jtFVvZIk5"
      }
    },
    {
      "cell_type": "code",
      "source": [
        "df3.groupby(\"Language\")[[\"IMDb rating\"]].mean()"
      ],
      "metadata": {
        "id": "oYKhFxyqZKO6"
      },
      "execution_count": null,
      "outputs": []
    },
    {
      "cell_type": "markdown",
      "source": [
        "8. visualizzare il grafico a barre verticali dell'esercizio 7"
      ],
      "metadata": {
        "id": "I7rqYFmtZjkL"
      }
    },
    {
      "cell_type": "code",
      "source": [
        "import matplotlib.pyplot as plt\n",
        "     \n",
        "\n",
        "dati = df3.groupby(\"Language\")[[\"IMDb rating\"]].mean().reset_index()\n",
        "lingue = dati[\"Language\"]\n",
        "rat = dati[\"IMDb rating\"]\n",
        "\n",
        "fig, ax = plt.subplots(figsize=(15,8))\n",
        "ax.bar(lingue, rat, label='numero medio di rating per ogni lingua')\n",
        "ax.set_ylabel(\"rating\")\n",
        "ax.set_xlabel(\"lingua\")\n",
        "ax.set_title('numero medio di rating per ogni lingua')\n",
        "plt.xticks(rotation = 70)\n",
        "ax.legend()"
      ],
      "metadata": {
        "id": "wyIQ48c7Znqx"
      },
      "execution_count": null,
      "outputs": []
    },
    {
      "cell_type": "markdown",
      "source": [
        "9. visualizzare il grafico a barre orizzontali dell'esercizio 7"
      ],
      "metadata": {
        "id": "Kr2-_YVnZ1sJ"
      }
    },
    {
      "cell_type": "code",
      "source": [
        "dati = df3.groupby(\"Language\")[[\"IMDb rating\"]].mean().reset_index()\n",
        "lingue = dati[\"Language\"]\n",
        "rat = dati[\"IMDb rating\"]\n",
        "\n",
        "fig, ax = plt.subplots(figsize=(15,8))\n",
        "ax.barh(lingue, rat, label='numero medio di  rating per ogni lingua')\n",
        "ax.set_xlabel(\"rating\")\n",
        "ax.set_ylabel(\"lingua\")\n",
        "ax.set_title('numero medio di rating per ogni lingua')\n",
        "ax.legend()"
      ],
      "metadata": {
        "id": "Zckfc6c1Z1D6"
      },
      "execution_count": null,
      "outputs": []
    }
  ]
}