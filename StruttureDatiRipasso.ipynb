{
  "nbformat": 4,
  "nbformat_minor": 0,
  "metadata": {
    "colab": {
      "provenance": [],
      "collapsed_sections": [
        "pSO2ODcA4ZIZ",
        "dmw4cueB8CW4",
        "3xDaXXyy8E8u"
      ],
      "authorship_tag": "ABX9TyNR7X2vhWrIDY28k261U10M",
      "include_colab_link": true
    },
    "kernelspec": {
      "name": "python3",
      "display_name": "Python 3"
    },
    "language_info": {
      "name": "python"
    }
  },
  "cells": [
    {
      "cell_type": "markdown",
      "metadata": {
        "id": "view-in-github",
        "colab_type": "text"
      },
      "source": [
        "<a href=\"https://colab.research.google.com/github/Riccardolotorto/riepilogoPandasMatplotlibStrutturedati/blob/main/StruttureDatiRipasso.ipynb\" target=\"_parent\"><img src=\"https://colab.research.google.com/assets/colab-badge.svg\" alt=\"Open In Colab\"/></a>"
      ]
    },
    {
      "cell_type": "markdown",
      "source": [
        "#liste"
      ],
      "metadata": {
        "id": "pSO2ODcA4ZIZ"
      }
    },
    {
      "cell_type": "markdown",
      "source": [
        "1. inserire in una lista 100 numeri casuali compresi fra 10 e 200"
      ],
      "metadata": {
        "id": "fYgH7Rc14iu5"
      }
    },
    {
      "cell_type": "code",
      "execution_count": null,
      "metadata": {
        "id": "BNkiBCTo4ST5"
      },
      "outputs": [],
      "source": [
        "import random"
      ]
    },
    {
      "cell_type": "code",
      "source": [
        "listaCasuale = [random.randint(10, 201) for num in range(100)]\n",
        "print(listaCasuale)"
      ],
      "metadata": {
        "id": "ud7tspxe4yf6"
      },
      "execution_count": null,
      "outputs": []
    },
    {
      "cell_type": "markdown",
      "source": [
        "2. trovare i multipli di 5 nella lista precedente e aggiungerli in un'altra lista"
      ],
      "metadata": {
        "id": "rHoDe6qV5Nnm"
      }
    },
    {
      "cell_type": "code",
      "source": [
        "listaMultipli5 = [listaCasuale[indice] for indice in range(len(listaCasuale)) if listaCasuale[indice] % 5 == 0]\n",
        "print(listaMultipli5)"
      ],
      "metadata": {
        "id": "0mkM_y_w5ika"
      },
      "execution_count": null,
      "outputs": []
    },
    {
      "cell_type": "markdown",
      "source": [
        "3. creare due liste e fare la somma tra il primo col primo e via dicendo. Inserire i risultati in un'altra lista"
      ],
      "metadata": {
        "id": "QLEX4Gui69Vy"
      }
    },
    {
      "cell_type": "code",
      "source": [
        "lista1 = [10, 4, 5, 9, 12]\n",
        "lista2 = [30, 5, 6, 14, 20]\n",
        "listaSomma = [lista1[i] + lista2[i] for i in range(len(lista1))]\n",
        "print(listaSomma)"
      ],
      "metadata": {
        "id": "yy50NHrr7vGP"
      },
      "execution_count": null,
      "outputs": []
    },
    {
      "cell_type": "markdown",
      "source": [
        "4. creare una lista di 10 elementi "
      ],
      "metadata": {
        "id": "xvn8PR7G6zTk"
      }
    },
    {
      "cell_type": "code",
      "source": [
        "lista10 = [20, 100, 30, 2, \"ciao\", \"pera\", False, 70, 56, True]"
      ],
      "metadata": {
        "id": "Bgir3SUc61pm"
      },
      "execution_count": 1,
      "outputs": []
    },
    {
      "cell_type": "code",
      "source": [
        "#visualizzare il primo elemento\n",
        "lista10[0]"
      ],
      "metadata": {
        "id": "M5xlVY0D7iBm"
      },
      "execution_count": null,
      "outputs": []
    },
    {
      "cell_type": "code",
      "source": [
        "#visualizzare l'ultimo elemento\n",
        "lista10[-1]"
      ],
      "metadata": {
        "id": "m83HoypR7l4h"
      },
      "execution_count": null,
      "outputs": []
    },
    {
      "cell_type": "code",
      "source": [
        "#visualizzare i quattro elementi centrali\n",
        "lista10[(len(lista10)//2) - 2:(len(lista10)//2) + 2]"
      ],
      "metadata": {
        "id": "C5C6g4977qtf"
      },
      "execution_count": null,
      "outputs": []
    },
    {
      "cell_type": "markdown",
      "source": [
        "5. creare una lista di nomi e una con le età rispettive delle persone"
      ],
      "metadata": {
        "id": "Rb6APJzn-NnQ"
      }
    },
    {
      "cell_type": "code",
      "source": [
        "listaNomi = [\"riccardo\", \"anna\", \"luca\", \"aurora\"]\n",
        "listaEta = [16, 24, 56, 10]"
      ],
      "metadata": {
        "id": "Zn8IRERk_LPi"
      },
      "execution_count": 7,
      "outputs": []
    },
    {
      "cell_type": "code",
      "source": [
        "#trovare l'età corrispondente del nome inserito \n",
        "nomeInserito = input(\"inserire un nome: \")\n",
        "print(listaEta[listaNomi.index(nomeInserito)])"
      ],
      "metadata": {
        "id": "UlasCEA5_o2j"
      },
      "execution_count": null,
      "outputs": []
    },
    {
      "cell_type": "code",
      "source": [
        "#visualizzare il nome del più vecchio\n",
        "print(listaNomi[listaEta.index(max(listaEta))])"
      ],
      "metadata": {
        "id": "UkogFMgNACGH"
      },
      "execution_count": null,
      "outputs": []
    },
    {
      "cell_type": "markdown",
      "source": [
        "#insiemi"
      ],
      "metadata": {
        "id": "dmw4cueB8CW4"
      }
    },
    {
      "cell_type": "markdown",
      "source": [
        "https://github.com/Riccardolotorto/riepilogoPandasMatplotlibStrutturedati/blob/main/EserciziRiapassoInsiemi_e_dizionari.ipynb"
      ],
      "metadata": {
        "id": "ukBJGkQp8Dgp"
      }
    },
    {
      "cell_type": "markdown",
      "source": [
        "#dizionari"
      ],
      "metadata": {
        "id": "3xDaXXyy8E8u"
      }
    },
    {
      "cell_type": "markdown",
      "source": [
        "1. creare un dizionario che contenga tre chiavi: nome, sesso ed età"
      ],
      "metadata": {
        "id": "8uJAV9nz8F7w"
      }
    },
    {
      "cell_type": "code",
      "source": [
        "dizionario = {\n",
        "    \"nome\":\"riccardo\",\n",
        "    \"sesso\":\"maschio\",\n",
        "    \"eta\":16\n",
        "}\n",
        "print(dizionario)"
      ],
      "metadata": {
        "id": "QWpRWAJM8GcL"
      },
      "execution_count": null,
      "outputs": []
    },
    {
      "cell_type": "markdown",
      "source": [
        "2. visualizzare tutti i valori"
      ],
      "metadata": {
        "id": "4fGz8SMwBr2s"
      }
    },
    {
      "cell_type": "code",
      "source": [
        "for value in dizionario.values():\n",
        "  print(value)"
      ],
      "metadata": {
        "id": "7Vmt2MMoBcFf"
      },
      "execution_count": null,
      "outputs": []
    },
    {
      "cell_type": "markdown",
      "source": [
        "3. visualizzare il valore della chiave nome"
      ],
      "metadata": {
        "id": "9e1gVAyHB7hW"
      }
    },
    {
      "cell_type": "code",
      "source": [
        "dizionario.get(\"nome\")"
      ],
      "metadata": {
        "id": "S8ir6jsbCEs1"
      },
      "execution_count": null,
      "outputs": []
    },
    {
      "cell_type": "markdown",
      "source": [
        "4. visualizzare \"maggiorenne\" o \"minorenne\" in base all'età"
      ],
      "metadata": {
        "id": "i9BiiCKoCMWz"
      }
    },
    {
      "cell_type": "code",
      "source": [
        "if dizionario[\"eta\"] > 18:\n",
        "  print(dizionario[\"nome\"] + \" è maggiorenne\")\n",
        "else:\n",
        "  print(dizionario[\"nome\"] + \" è minorenne\")"
      ],
      "metadata": {
        "id": "2iD5EbgcCf8y"
      },
      "execution_count": null,
      "outputs": []
    },
    {
      "cell_type": "markdown",
      "source": [
        "**lista di dizionari**"
      ],
      "metadata": {
        "id": "PYxQZKeqDOm0"
      }
    },
    {
      "cell_type": "markdown",
      "source": [
        "1. creare una lista di dizionari. Essa deve contenere 3 dizionari con tre chiavi: nome, cognome e numero di telefono"
      ],
      "metadata": {
        "id": "02f7id4ZDVil"
      }
    },
    {
      "cell_type": "code",
      "source": [
        "persone = [\n",
        "    {\n",
        "       \"nome\":\"riccardo\",\n",
        "       \"cognome\":\"lotorto\",\n",
        "       \"telefono\": [8754574857948, 457078738, 4875498485]\n",
        "    },\n",
        "    {\n",
        "       \"nome\":\"gianmaria\",\n",
        "       \"cognome\":\"rossi\",\n",
        "       \"telefono\": [75686578678, 67586568, 5685986956]\n",
        "    },\n",
        "    {\n",
        "       \"nome\":\"gianluca\",\n",
        "       \"cognome\":\"fucile\",\n",
        "       \"telefono\": [345778787, 5657676, 45656565]\n",
        "    },\n",
        "]"
      ],
      "metadata": {
        "id": "bZaCw7zpDSme"
      },
      "execution_count": 18,
      "outputs": []
    },
    {
      "cell_type": "markdown",
      "source": [
        "2. visualizzare tutti i cognomi"
      ],
      "metadata": {
        "id": "oXHe0LcMEZco"
      }
    },
    {
      "cell_type": "code",
      "source": [
        "for persona in persone:\n",
        "  print(persona[\"cognome\"])"
      ],
      "metadata": {
        "id": "hwObzitXEYEp"
      },
      "execution_count": null,
      "outputs": []
    },
    {
      "cell_type": "markdown",
      "source": [
        "3. visualizzare il primo telefono del nome inserito dall'utente"
      ],
      "metadata": {
        "id": "g2yIbYbPEf37"
      }
    },
    {
      "cell_type": "code",
      "source": [
        "nome = input(\"inserire un nome: \")\n",
        "for persona in persone:\n",
        "  if nome == persona[\"nome\"]:\n",
        "    print(persona[\"telefono\"][0])"
      ],
      "metadata": {
        "colab": {
          "base_uri": "https://localhost:8080/"
        },
        "id": "-nuCfcUgEq9o",
        "outputId": "907d9b18-8f8e-4996-9020-d4a6fa10fe45"
      },
      "execution_count": 21,
      "outputs": [
        {
          "output_type": "stream",
          "name": "stdout",
          "text": [
            "inserire un nome: riccardo\n",
            "8754574857948\n"
          ]
        }
      ]
    },
    {
      "cell_type": "markdown",
      "source": [
        "4. aggiungere un dizionario alla prima persona"
      ],
      "metadata": {
        "id": "Hqf_rW9-GFVK"
      }
    },
    {
      "cell_type": "code",
      "source": [
        "personeBis = [\n",
        "    {\n",
        "       \"nome\":\"riccardo\",\n",
        "       \"cognome\":\"lotorto\",\n",
        "       \"telefono\": [8754574857948, 457078738, 4875498485],\n",
        "       \"genitori\": {\n",
        "           \"mamma\":\"vittoria\",\n",
        "           \"papà\":\"luca\"\n",
        "       }\n",
        "    },\n",
        "    {\n",
        "       \"nome\":\"gianmaria\",\n",
        "       \"cognome\":\"rossi\",\n",
        "       \"telefono\": [75686578678, 67586568, 5685986956]\n",
        "    },\n",
        "    {\n",
        "       \"nome\":\"gianluca\",\n",
        "       \"cognome\":\"fucile\",\n",
        "       \"telefono\": [345778787, 5657676, 45656565]\n",
        "    },\n",
        "]"
      ],
      "metadata": {
        "id": "XCZrrHYjGRGV"
      },
      "execution_count": 23,
      "outputs": []
    },
    {
      "cell_type": "markdown",
      "source": [
        "5. visualizzare il nome del papa di riccardo"
      ],
      "metadata": {
        "id": "UBnQux3aGpNj"
      }
    },
    {
      "cell_type": "code",
      "source": [
        "print(personeBis[0][\"genitori\"][\"papà\"])"
      ],
      "metadata": {
        "id": "ee3Rnd0oGuT2"
      },
      "execution_count": null,
      "outputs": []
    }
  ]
}