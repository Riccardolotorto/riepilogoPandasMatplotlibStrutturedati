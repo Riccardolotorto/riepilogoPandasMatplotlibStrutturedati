{
  "nbformat": 4,
  "nbformat_minor": 0,
  "metadata": {
    "colab": {
      "provenance": [],
      "collapsed_sections": [
        "mZ_eVqKU-qhl",
        "NpEQUp7W-wyY"
      ],
      "authorship_tag": "ABX9TyM0O7Qmo2U5V5f5VRG7bkFO",
      "include_colab_link": true
    },
    "kernelspec": {
      "name": "python3",
      "display_name": "Python 3"
    },
    "language_info": {
      "name": "python"
    }
  },
  "cells": [
    {
      "cell_type": "markdown",
      "metadata": {
        "id": "view-in-github",
        "colab_type": "text"
      },
      "source": [
        "<a href=\"https://colab.research.google.com/github/Riccardolotorto/Python/blob/main/LotortoVerifica.ipynb\" target=\"_parent\"><img src=\"https://colab.research.google.com/assets/colab-badge.svg\" alt=\"Open In Colab\"/></a>"
      ]
    },
    {
      "cell_type": "markdown",
      "source": [
        "#esercizio 1"
      ],
      "metadata": {
        "id": "mZ_eVqKU-qhl"
      }
    },
    {
      "cell_type": "code",
      "execution_count": null,
      "metadata": {
        "colab": {
          "base_uri": "https://localhost:8080/",
          "height": 455
        },
        "id": "C53Z6oN158LA",
        "outputId": "028919a1-fe98-43c1-888e-0386ac3ce0e1"
      },
      "outputs": [
        {
          "output_type": "execute_result",
          "data": {
            "text/plain": [
              "                Name of the show  Year of release  No of seasons available  \\\n",
              "S.no.                                                                        \n",
              "1                     Pataal Lok           2020.0                      1.0   \n",
              "2                         Upload           2020.0                      1.0   \n",
              "3      The Marvelous Mrs. Maisel           2017.0                      3.0   \n",
              "4         Four More Shots Please           2019.0                      2.0   \n",
              "5                        Fleabag           2016.0                      2.0   \n",
              "...                          ...              ...                      ...   \n",
              "400                          NaN              NaN                      NaN   \n",
              "401                          NaN              NaN                      NaN   \n",
              "402                          NaN              NaN                      NaN   \n",
              "403                          NaN              NaN                      NaN   \n",
              "404                          NaN              NaN                      NaN   \n",
              "\n",
              "      Language          Genre  IMDb rating Age of viewers  \n",
              "S.no.                                                      \n",
              "1        Hindi          Drama          7.5            18+  \n",
              "2      English  Sci-fi comedy          8.1            16+  \n",
              "3      English  Drama, Comedy          8.7            16+  \n",
              "4        Hindi  Drama, Comedy          5.3            18+  \n",
              "5      English         Comedy          8.7            18+  \n",
              "...        ...            ...          ...            ...  \n",
              "400        NaN            NaN          NaN            NaN  \n",
              "401        NaN            NaN          NaN            NaN  \n",
              "402        NaN            NaN          NaN            NaN  \n",
              "403        NaN            NaN          NaN            NaN  \n",
              "404        NaN            NaN          NaN            NaN  \n",
              "\n",
              "[404 rows x 7 columns]"
            ],
            "text/html": [
              "\n",
              "  <div id=\"df-88d150b6-c788-4bba-9ed0-d45fb8c2677e\">\n",
              "    <div class=\"colab-df-container\">\n",
              "      <div>\n",
              "<style scoped>\n",
              "    .dataframe tbody tr th:only-of-type {\n",
              "        vertical-align: middle;\n",
              "    }\n",
              "\n",
              "    .dataframe tbody tr th {\n",
              "        vertical-align: top;\n",
              "    }\n",
              "\n",
              "    .dataframe thead th {\n",
              "        text-align: right;\n",
              "    }\n",
              "</style>\n",
              "<table border=\"1\" class=\"dataframe\">\n",
              "  <thead>\n",
              "    <tr style=\"text-align: right;\">\n",
              "      <th></th>\n",
              "      <th>Name of the show</th>\n",
              "      <th>Year of release</th>\n",
              "      <th>No of seasons available</th>\n",
              "      <th>Language</th>\n",
              "      <th>Genre</th>\n",
              "      <th>IMDb rating</th>\n",
              "      <th>Age of viewers</th>\n",
              "    </tr>\n",
              "    <tr>\n",
              "      <th>S.no.</th>\n",
              "      <th></th>\n",
              "      <th></th>\n",
              "      <th></th>\n",
              "      <th></th>\n",
              "      <th></th>\n",
              "      <th></th>\n",
              "      <th></th>\n",
              "    </tr>\n",
              "  </thead>\n",
              "  <tbody>\n",
              "    <tr>\n",
              "      <th>1</th>\n",
              "      <td>Pataal Lok</td>\n",
              "      <td>2020.0</td>\n",
              "      <td>1.0</td>\n",
              "      <td>Hindi</td>\n",
              "      <td>Drama</td>\n",
              "      <td>7.5</td>\n",
              "      <td>18+</td>\n",
              "    </tr>\n",
              "    <tr>\n",
              "      <th>2</th>\n",
              "      <td>Upload</td>\n",
              "      <td>2020.0</td>\n",
              "      <td>1.0</td>\n",
              "      <td>English</td>\n",
              "      <td>Sci-fi comedy</td>\n",
              "      <td>8.1</td>\n",
              "      <td>16+</td>\n",
              "    </tr>\n",
              "    <tr>\n",
              "      <th>3</th>\n",
              "      <td>The Marvelous Mrs. Maisel</td>\n",
              "      <td>2017.0</td>\n",
              "      <td>3.0</td>\n",
              "      <td>English</td>\n",
              "      <td>Drama, Comedy</td>\n",
              "      <td>8.7</td>\n",
              "      <td>16+</td>\n",
              "    </tr>\n",
              "    <tr>\n",
              "      <th>4</th>\n",
              "      <td>Four More Shots Please</td>\n",
              "      <td>2019.0</td>\n",
              "      <td>2.0</td>\n",
              "      <td>Hindi</td>\n",
              "      <td>Drama, Comedy</td>\n",
              "      <td>5.3</td>\n",
              "      <td>18+</td>\n",
              "    </tr>\n",
              "    <tr>\n",
              "      <th>5</th>\n",
              "      <td>Fleabag</td>\n",
              "      <td>2016.0</td>\n",
              "      <td>2.0</td>\n",
              "      <td>English</td>\n",
              "      <td>Comedy</td>\n",
              "      <td>8.7</td>\n",
              "      <td>18+</td>\n",
              "    </tr>\n",
              "    <tr>\n",
              "      <th>...</th>\n",
              "      <td>...</td>\n",
              "      <td>...</td>\n",
              "      <td>...</td>\n",
              "      <td>...</td>\n",
              "      <td>...</td>\n",
              "      <td>...</td>\n",
              "      <td>...</td>\n",
              "    </tr>\n",
              "    <tr>\n",
              "      <th>400</th>\n",
              "      <td>NaN</td>\n",
              "      <td>NaN</td>\n",
              "      <td>NaN</td>\n",
              "      <td>NaN</td>\n",
              "      <td>NaN</td>\n",
              "      <td>NaN</td>\n",
              "      <td>NaN</td>\n",
              "    </tr>\n",
              "    <tr>\n",
              "      <th>401</th>\n",
              "      <td>NaN</td>\n",
              "      <td>NaN</td>\n",
              "      <td>NaN</td>\n",
              "      <td>NaN</td>\n",
              "      <td>NaN</td>\n",
              "      <td>NaN</td>\n",
              "      <td>NaN</td>\n",
              "    </tr>\n",
              "    <tr>\n",
              "      <th>402</th>\n",
              "      <td>NaN</td>\n",
              "      <td>NaN</td>\n",
              "      <td>NaN</td>\n",
              "      <td>NaN</td>\n",
              "      <td>NaN</td>\n",
              "      <td>NaN</td>\n",
              "      <td>NaN</td>\n",
              "    </tr>\n",
              "    <tr>\n",
              "      <th>403</th>\n",
              "      <td>NaN</td>\n",
              "      <td>NaN</td>\n",
              "      <td>NaN</td>\n",
              "      <td>NaN</td>\n",
              "      <td>NaN</td>\n",
              "      <td>NaN</td>\n",
              "      <td>NaN</td>\n",
              "    </tr>\n",
              "    <tr>\n",
              "      <th>404</th>\n",
              "      <td>NaN</td>\n",
              "      <td>NaN</td>\n",
              "      <td>NaN</td>\n",
              "      <td>NaN</td>\n",
              "      <td>NaN</td>\n",
              "      <td>NaN</td>\n",
              "      <td>NaN</td>\n",
              "    </tr>\n",
              "  </tbody>\n",
              "</table>\n",
              "<p>404 rows × 7 columns</p>\n",
              "</div>\n",
              "      <button class=\"colab-df-convert\" onclick=\"convertToInteractive('df-88d150b6-c788-4bba-9ed0-d45fb8c2677e')\"\n",
              "              title=\"Convert this dataframe to an interactive table.\"\n",
              "              style=\"display:none;\">\n",
              "        \n",
              "  <svg xmlns=\"http://www.w3.org/2000/svg\" height=\"24px\"viewBox=\"0 0 24 24\"\n",
              "       width=\"24px\">\n",
              "    <path d=\"M0 0h24v24H0V0z\" fill=\"none\"/>\n",
              "    <path d=\"M18.56 5.44l.94 2.06.94-2.06 2.06-.94-2.06-.94-.94-2.06-.94 2.06-2.06.94zm-11 1L8.5 8.5l.94-2.06 2.06-.94-2.06-.94L8.5 2.5l-.94 2.06-2.06.94zm10 10l.94 2.06.94-2.06 2.06-.94-2.06-.94-.94-2.06-.94 2.06-2.06.94z\"/><path d=\"M17.41 7.96l-1.37-1.37c-.4-.4-.92-.59-1.43-.59-.52 0-1.04.2-1.43.59L10.3 9.45l-7.72 7.72c-.78.78-.78 2.05 0 2.83L4 21.41c.39.39.9.59 1.41.59.51 0 1.02-.2 1.41-.59l7.78-7.78 2.81-2.81c.8-.78.8-2.07 0-2.86zM5.41 20L4 18.59l7.72-7.72 1.47 1.35L5.41 20z\"/>\n",
              "  </svg>\n",
              "      </button>\n",
              "      \n",
              "  <style>\n",
              "    .colab-df-container {\n",
              "      display:flex;\n",
              "      flex-wrap:wrap;\n",
              "      gap: 12px;\n",
              "    }\n",
              "\n",
              "    .colab-df-convert {\n",
              "      background-color: #E8F0FE;\n",
              "      border: none;\n",
              "      border-radius: 50%;\n",
              "      cursor: pointer;\n",
              "      display: none;\n",
              "      fill: #1967D2;\n",
              "      height: 32px;\n",
              "      padding: 0 0 0 0;\n",
              "      width: 32px;\n",
              "    }\n",
              "\n",
              "    .colab-df-convert:hover {\n",
              "      background-color: #E2EBFA;\n",
              "      box-shadow: 0px 1px 2px rgba(60, 64, 67, 0.3), 0px 1px 3px 1px rgba(60, 64, 67, 0.15);\n",
              "      fill: #174EA6;\n",
              "    }\n",
              "\n",
              "    [theme=dark] .colab-df-convert {\n",
              "      background-color: #3B4455;\n",
              "      fill: #D2E3FC;\n",
              "    }\n",
              "\n",
              "    [theme=dark] .colab-df-convert:hover {\n",
              "      background-color: #434B5C;\n",
              "      box-shadow: 0px 1px 3px 1px rgba(0, 0, 0, 0.15);\n",
              "      filter: drop-shadow(0px 1px 2px rgba(0, 0, 0, 0.3));\n",
              "      fill: #FFFFFF;\n",
              "    }\n",
              "  </style>\n",
              "\n",
              "      <script>\n",
              "        const buttonEl =\n",
              "          document.querySelector('#df-88d150b6-c788-4bba-9ed0-d45fb8c2677e button.colab-df-convert');\n",
              "        buttonEl.style.display =\n",
              "          google.colab.kernel.accessAllowed ? 'block' : 'none';\n",
              "\n",
              "        async function convertToInteractive(key) {\n",
              "          const element = document.querySelector('#df-88d150b6-c788-4bba-9ed0-d45fb8c2677e');\n",
              "          const dataTable =\n",
              "            await google.colab.kernel.invokeFunction('convertToInteractive',\n",
              "                                                     [key], {});\n",
              "          if (!dataTable) return;\n",
              "\n",
              "          const docLinkHtml = 'Like what you see? Visit the ' +\n",
              "            '<a target=\"_blank\" href=https://colab.research.google.com/notebooks/data_table.ipynb>data table notebook</a>'\n",
              "            + ' to learn more about interactive tables.';\n",
              "          element.innerHTML = '';\n",
              "          dataTable['output_type'] = 'display_data';\n",
              "          await google.colab.output.renderOutput(dataTable, element);\n",
              "          const docLink = document.createElement('div');\n",
              "          docLink.innerHTML = docLinkHtml;\n",
              "          element.appendChild(docLink);\n",
              "        }\n",
              "      </script>\n",
              "    </div>\n",
              "  </div>\n",
              "  "
            ]
          },
          "metadata": {},
          "execution_count": 173
        }
      ],
      "source": [
        "import pandas as pd \n",
        "df = pd.read_csv(\"https://raw.githubusercontent.com/wtitze/4E/main/prime_titles.csv\", index_col = 0)\n",
        "df"
      ]
    },
    {
      "cell_type": "markdown",
      "source": [
        "1. eliminare tutte le righe che non hanno dati"
      ],
      "metadata": {
        "id": "zqn5UqJa6MDh"
      }
    },
    {
      "cell_type": "code",
      "source": [
        "df.drop(df[df[\"Name of the show\"].isnull()].index, inplace = True)"
      ],
      "metadata": {
        "id": "0VHRG4lWI_Cn"
      },
      "execution_count": 185,
      "outputs": []
    },
    {
      "cell_type": "markdown",
      "source": [
        "2. visualizzare il numero di film per ogni lingua"
      ],
      "metadata": {
        "id": "E9OJ0BHh7Kxo"
      }
    },
    {
      "cell_type": "code",
      "source": [
        "df.groupby(\"Language\")[[\"Name of the show\"]].count()"
      ],
      "metadata": {
        "id": "dzAum2yb7NMJ"
      },
      "execution_count": null,
      "outputs": []
    },
    {
      "cell_type": "markdown",
      "source": [
        "3. visualizzare il numero di show per ogni anno"
      ],
      "metadata": {
        "id": "9pP8hevc7arp"
      }
    },
    {
      "cell_type": "code",
      "source": [
        "dfanno = df.groupby(\"Year of release\")[[\"Name of the show\"]].count().reset_index()\n",
        "dfanno"
      ],
      "metadata": {
        "id": "n8g5eRVY7csZ"
      },
      "execution_count": null,
      "outputs": []
    },
    {
      "cell_type": "markdown",
      "source": [
        "4. visualizzare gli anni in cui sono stati prodotti più di 50 show"
      ],
      "metadata": {
        "id": "xqQzAry_7me5"
      }
    },
    {
      "cell_type": "code",
      "source": [
        "dfanno[dfanno[\"Name of the show\"] > 50][[\"Year of release\"]]"
      ],
      "metadata": {
        "id": "Z5uBwnHA7oNi"
      },
      "execution_count": null,
      "outputs": []
    },
    {
      "cell_type": "markdown",
      "source": [
        "5. visualizzare l'anno in cui sono stati prodotti più show"
      ],
      "metadata": {
        "id": "SGqgoa2X7_Tw"
      }
    },
    {
      "cell_type": "code",
      "source": [
        "dfanno[dfanno[\"Name of the show\"] == dfanno[\"Name of the show\"].max()][[\"Year of release\"]]"
      ],
      "metadata": {
        "id": "El-hQul68B24"
      },
      "execution_count": null,
      "outputs": []
    },
    {
      "cell_type": "markdown",
      "source": [
        "6.  visualizzare il numero di film drammatici inglesi del 2017"
      ],
      "metadata": {
        "id": "t4tmP5Kh8KEY"
      }
    },
    {
      "cell_type": "code",
      "source": [
        "df[(df[\"Language\"] == \"English\") & (df[\"Genre\"].str.contains(\"Drama\")) & (df[\"Year of release\"] == 2017.0\t)][\"Genre\"].count()"
      ],
      "metadata": {
        "id": "36CXHUeV8Mxx"
      },
      "execution_count": null,
      "outputs": []
    },
    {
      "cell_type": "markdown",
      "source": [
        "7. visualizzare il rating medio dei film di ogni lingua"
      ],
      "metadata": {
        "id": "ZQ4ikDSt8uSA"
      }
    },
    {
      "cell_type": "code",
      "source": [
        "df.groupby(\"Language\")[[\"IMDb rating\"]].mean()"
      ],
      "metadata": {
        "id": "W13fLCaQ8wIx"
      },
      "execution_count": null,
      "outputs": []
    },
    {
      "cell_type": "markdown",
      "source": [
        "8. visualizzare il grafico a barre verticali dell'esercizio 7"
      ],
      "metadata": {
        "id": "LpYSkU6l9UsR"
      }
    },
    {
      "cell_type": "code",
      "source": [
        "import matplotlib.pyplot as plt"
      ],
      "metadata": {
        "id": "lRnytdiY9WkI"
      },
      "execution_count": null,
      "outputs": []
    },
    {
      "cell_type": "code",
      "source": [
        "dati = df.groupby(\"Language\")[[\"IMDb rating\"]].mean().reset_index()\n",
        "lingue = dati[\"Language\"]\n",
        "rat = dati[\"IMDb rating\"]\n",
        "\n",
        "fig, ax = plt.subplots(figsize=(15,8))\n",
        "ax.bar(lingue, rat, label='numero medio di rating per ogni lingua')\n",
        "ax.set_ylabel(\"rating\")\n",
        "ax.set_xlabel(\"lingua\")\n",
        "ax.set_title('numero medio di rating per ogni lingua')\n",
        "plt.xticks(rotation = 70)\n",
        "ax.legend()"
      ],
      "metadata": {
        "id": "FPhE2KWS9fSw"
      },
      "execution_count": null,
      "outputs": []
    },
    {
      "cell_type": "markdown",
      "source": [
        "9. visualizzare il grafico a barre orizzontali dell'esercizio 7"
      ],
      "metadata": {
        "id": "5icSCe6T-VqB"
      }
    },
    {
      "cell_type": "code",
      "source": [
        "dati = df.groupby(\"Language\")[[\"IMDb rating\"]].mean().reset_index()\n",
        "lingue = dati[\"Language\"]\n",
        "rat = dati[\"IMDb rating\"]\n",
        "\n",
        "fig, ax = plt.subplots(figsize=(15,8))\n",
        "ax.barh(lingue, rat, label='numero medio di  rating per ogni lingua')\n",
        "ax.set_xlabel(\"rating\")\n",
        "ax.set_ylabel(\"lingua\")\n",
        "ax.set_title('numero medio di rating per ogni lingua')\n",
        "ax.legend()"
      ],
      "metadata": {
        "id": "03AkakAZ-XXp"
      },
      "execution_count": null,
      "outputs": []
    },
    {
      "cell_type": "markdown",
      "source": [
        "#esercizio 2"
      ],
      "metadata": {
        "id": "NpEQUp7W-wyY"
      }
    },
    {
      "cell_type": "code",
      "source": [
        "df2 = pd.read_csv(\"https://raw.githubusercontent.com/wtitze/4E/main/ristoranti.csv\", index_col = 0)\n",
        "df2"
      ],
      "metadata": {
        "id": "opnj3VlA-pyw"
      },
      "execution_count": null,
      "outputs": []
    },
    {
      "cell_type": "markdown",
      "source": [
        "1. eliminare tutte le colonne tranne borough (quartiere), cuisine e name"
      ],
      "metadata": {
        "id": "2Zmm_W_D_IkZ"
      }
    },
    {
      "cell_type": "code",
      "source": [
        "df2.drop(['address', 'grades', 'restaurant_id'], axis=1, inplace = True)"
      ],
      "metadata": {
        "id": "aXvjy7ai_QHB"
      },
      "execution_count": null,
      "outputs": []
    },
    {
      "cell_type": "markdown",
      "source": [
        "2. visualizzare il numero di ristoranti dei Queens"
      ],
      "metadata": {
        "id": "EZcpED9FABya"
      }
    },
    {
      "cell_type": "code",
      "source": [
        "df2[df2[\"borough\"] == \"Queens\"][\"name\"].count()"
      ],
      "metadata": {
        "id": "LwWnKf4kAGNY"
      },
      "execution_count": null,
      "outputs": []
    },
    {
      "cell_type": "markdown",
      "source": [
        "3. visualizzare il numero di ristoranti per ogni quartiere"
      ],
      "metadata": {
        "id": "8wcCL9fcAWLw"
      }
    },
    {
      "cell_type": "code",
      "source": [
        "df2.groupby(\"borough\")[[\"name\"]].count()"
      ],
      "metadata": {
        "id": "IvYufAf7Aanx"
      },
      "execution_count": null,
      "outputs": []
    },
    {
      "cell_type": "markdown",
      "source": [
        "4. visualizzare il numero di tipi di cucina per ogni quartiere"
      ],
      "metadata": {
        "id": "QbeNj2GeAyWQ"
      }
    },
    {
      "cell_type": "code",
      "source": [
        "df2.groupby(\"borough\")[[\"cuisine\"]].count()"
      ],
      "metadata": {
        "id": "_ySwZHP6A0Rg"
      },
      "execution_count": null,
      "outputs": []
    },
    {
      "cell_type": "markdown",
      "source": [
        "5. visualizzare i ristoranti che hanno la parola bagels nel nome"
      ],
      "metadata": {
        "id": "Bk0i8d6tBg2z"
      }
    },
    {
      "cell_type": "code",
      "source": [
        "df2.loc[df2[\"name\"].str.contains(\"Bagels\", na=False)][[\"name\"]]"
      ],
      "metadata": {
        "id": "4iyMYURiBizI"
      },
      "execution_count": null,
      "outputs": []
    },
    {
      "cell_type": "markdown",
      "source": [
        "6. visualizzare i ristoranti di cui non si conosce il nome"
      ],
      "metadata": {
        "id": "3il7utsuClzQ"
      }
    },
    {
      "cell_type": "code",
      "source": [
        "df2[df2[\"name\"].isnull()]"
      ],
      "metadata": {
        "id": "OWYViCNFCnag"
      },
      "execution_count": null,
      "outputs": []
    },
    {
      "cell_type": "markdown",
      "source": [
        "7. visualizzare il quartiere con meno ristoranti"
      ],
      "metadata": {
        "id": "bhPtHTlYC_c_"
      }
    },
    {
      "cell_type": "code",
      "source": [
        "dfristoranti = df2.groupby(\"borough\")[[\"name\"]].count().reset_index()\n",
        "dfristoranti[dfristoranti[\"name\"] == dfristoranti[\"name\"].min()][[\"borough\"]]"
      ],
      "metadata": {
        "id": "9rSdI3EbDAyQ"
      },
      "execution_count": null,
      "outputs": []
    },
    {
      "cell_type": "markdown",
      "source": [
        "8. visualizzare il grafico treemap dell'esercizio 3"
      ],
      "metadata": {
        "id": "-tErQ7y2DX4o"
      }
    },
    {
      "cell_type": "code",
      "source": [
        "!pip install squarify"
      ],
      "metadata": {
        "colab": {
          "base_uri": "https://localhost:8080/"
        },
        "id": "dyLhu5KyDZ2h",
        "outputId": "b2745a3a-2933-4e90-cbd6-a1fdd0225344"
      },
      "execution_count": 187,
      "outputs": [
        {
          "output_type": "stream",
          "name": "stdout",
          "text": [
            "Looking in indexes: https://pypi.org/simple, https://us-python.pkg.dev/colab-wheels/public/simple/\n",
            "Requirement already satisfied: squarify in /usr/local/lib/python3.8/dist-packages (0.4.3)\n"
          ]
        }
      ]
    },
    {
      "cell_type": "code",
      "source": [
        "import squarify\n",
        "dati2 = df2.groupby(\"borough\")[[\"name\"]].count().reset_index()\n",
        "quartieri = dati2[\"borough\"]\n",
        "Nristoranti = dati2[\"name\"]\n",
        "squarify.plot(sizes=Nristoranti, label=quartieri, color=[\"red\",\"green\",\"blue\", \"grey\", \"orange\", \"yellow\"], alpha=.4)\n",
        "plt.axis('off')\n",
        "plt.show()"
      ],
      "metadata": {
        "id": "1BY_8Aw0De6I"
      },
      "execution_count": null,
      "outputs": []
    },
    {
      "cell_type": "markdown",
      "source": [
        "9. visualizzare il grafico a torta dell'esercizio 4"
      ],
      "metadata": {
        "id": "1ohy8hz1EeXo"
      }
    },
    {
      "cell_type": "code",
      "source": [
        "dati3 = df2.groupby(\"borough\")[[\"cuisine\"]].count().reset_index()\n",
        "quartieri2 = dati3[\"borough\"]\n",
        "Ncucine = dati3[\"cuisine\"]\n",
        "\n",
        "plt.figure(figsize=(16, 8))\n",
        "plt.pie(Ncucine, labels = quartieri2, autopct = '%1.2f%%') \n",
        "plt.show()"
      ],
      "metadata": {
        "id": "3Kq1BSnyEgt4"
      },
      "execution_count": null,
      "outputs": []
    }
  ]
}