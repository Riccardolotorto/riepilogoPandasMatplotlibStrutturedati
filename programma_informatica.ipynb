{
  "nbformat": 4,
  "nbformat_minor": 0,
  "metadata": {
    "colab": {
      "provenance": [],
      "collapsed_sections": [
        "VlfU3EKDvuB5",
        "lS9h1SbYyJ3J",
        "eeMDQKKu1Brz",
        "-wlEbOmI2MmB"
      ],
      "include_colab_link": true
    },
    "kernelspec": {
      "name": "python3",
      "display_name": "Python 3"
    },
    "language_info": {
      "name": "python"
    }
  },
  "cells": [
    {
      "cell_type": "markdown",
      "metadata": {
        "id": "view-in-github",
        "colab_type": "text"
      },
      "source": [
        "<a href=\"https://colab.research.google.com/github/Riccardolotorto/riepilogoPandasMatplotlibStrutturedati/blob/main/programma_informatica.ipynb\" target=\"_parent\"><img src=\"https://colab.research.google.com/assets/colab-badge.svg\" alt=\"Open In Colab\"/></a>"
      ]
    },
    {
      "cell_type": "markdown",
      "source": [
        "#Python base"
      ],
      "metadata": {
        "id": "VlfU3EKDvuB5"
      }
    },
    {
      "cell_type": "markdown",
      "source": [
        "inserimento dati, visualizzazione dati"
      ],
      "metadata": {
        "id": "SPNrHWvYwAiW"
      }
    },
    {
      "cell_type": "code",
      "source": [
        "nome = input(\"inserisci il tuo nome \") #input string\n",
        "print(\"ciao \" + nome)"
      ],
      "metadata": {
        "id": "DgNRSN9D_EAm"
      },
      "execution_count": null,
      "outputs": []
    },
    {
      "cell_type": "code",
      "source": [
        "peso = int(input(\"inserisci il tuo peso \")) #input integer\n",
        "print(\"il tuo peso è \" + str(peso))"
      ],
      "metadata": {
        "id": "x-6jqP9P_bwd"
      },
      "execution_count": null,
      "outputs": []
    },
    {
      "cell_type": "code",
      "source": [
        "altezza = float(input(\"inserisci la tua altezza \")) #input float\n",
        "print(\"la tua altezza è \" + str(altezza))"
      ],
      "metadata": {
        "id": "cYO0M7aB_tr0"
      },
      "execution_count": null,
      "outputs": []
    },
    {
      "cell_type": "markdown",
      "source": [
        "tipi di dati (interi, float, stringhe, booleani, ...) "
      ],
      "metadata": {
        "id": "OwP9zJrwwdfV"
      }
    },
    {
      "cell_type": "code",
      "source": [
        "#creo variabili di tipo diverso (integer, string, float e boolean)\n",
        "a = 5\n",
        "stringa = \"ciao\"\n",
        "bol = True \n",
        "deciamale = 6.7\n",
        "print(a)\n",
        "print(stringa)\n",
        "print(bol)\n",
        "print(peso)"
      ],
      "metadata": {
        "id": "TeoApBaj_Lg2"
      },
      "execution_count": null,
      "outputs": []
    },
    {
      "cell_type": "markdown",
      "source": [
        "scambiare i valori di due variabili"
      ],
      "metadata": {
        "id": "IY-uNq4cOyyF"
      }
    },
    {
      "cell_type": "code",
      "source": [
        "aa = 10\n",
        "bb = 20\n",
        "aa, bb = bb, aa  #scambio i valori delle due variabili \n",
        "print(aa)\n",
        "print(bb)"
      ],
      "metadata": {
        "id": "J4uKILbOO5uA"
      },
      "execution_count": null,
      "outputs": []
    },
    {
      "cell_type": "markdown",
      "source": [
        "assegnare lo stesso valore a più variabili"
      ],
      "metadata": {
        "id": "IeDcbwQTPDAF"
      }
    },
    {
      "cell_type": "code",
      "source": [
        "x = y = z = 0 #assegno il valore 0 a 3 variabili diverse \n",
        "print(x, y, z)"
      ],
      "metadata": {
        "colab": {
          "base_uri": "https://localhost:8080/"
        },
        "id": "I98aVTpKPFz9",
        "outputId": "23312544-9ed6-45c4-e91e-47428d36f2dd"
      },
      "execution_count": null,
      "outputs": [
        {
          "output_type": "stream",
          "name": "stdout",
          "text": [
            "0 0 0\n"
          ]
        }
      ]
    },
    {
      "cell_type": "markdown",
      "source": [
        "operazioni matematiche fondamentali (somma, sottrazione, moltiplicazione, divisione tra interi e tra reali, resto, elevamento a potenza, ...)"
      ],
      "metadata": {
        "id": "mITw5b-7vwsP"
      }
    },
    {
      "cell_type": "code",
      "source": [
        "n1 = 4\n",
        "n2 = 5\n",
        "n3 = n1 + n2 #addizione \n",
        "print(n3)\n",
        "n4 = n2 - n1 #sottrazione \n",
        "print(n4)\n",
        "n5 = n1 * n2 #moltiplicazione \n",
        "print(n5) "
      ],
      "metadata": {
        "id": "Gfn9vmTT_598"
      },
      "execution_count": null,
      "outputs": []
    },
    {
      "cell_type": "code",
      "source": [
        "n6 = 10\n",
        "n7 = 5\n",
        "n8 = 10 / 5 #divisione\n",
        "print(n8)\n",
        "\n",
        "n9 = 10 \n",
        "n10 = 4\n",
        "n11 = n9 // n10  #divisione intera\n",
        "print(n11)"
      ],
      "metadata": {
        "id": "JoIoqwrpORoU"
      },
      "execution_count": null,
      "outputs": []
    },
    {
      "cell_type": "code",
      "source": [
        "pow(2, 3) #primo valore è la base, il secondo è l'esponente"
      ],
      "metadata": {
        "colab": {
          "base_uri": "https://localhost:8080/"
        },
        "id": "KiF7gvR9Poc8",
        "outputId": "445f12dd-ac8f-44e6-d13b-f6389c70e79d"
      },
      "execution_count": null,
      "outputs": [
        {
          "output_type": "execute_result",
          "data": {
            "text/plain": [
              "8"
            ]
          },
          "metadata": {},
          "execution_count": 22
        }
      ]
    },
    {
      "cell_type": "code",
      "source": [
        "numero1 = 10\n",
        "numero2 = 8\n",
        "numero1 % numero2 #calcola il resto tra 10/8"
      ],
      "metadata": {
        "colab": {
          "base_uri": "https://localhost:8080/"
        },
        "id": "Xip_kIlMP4uF",
        "outputId": "659adf2b-c35a-45d7-fc68-9f2c4f2c7cce"
      },
      "execution_count": null,
      "outputs": [
        {
          "output_type": "execute_result",
          "data": {
            "text/plain": [
              "2"
            ]
          },
          "metadata": {},
          "execution_count": 23
        }
      ]
    },
    {
      "cell_type": "markdown",
      "source": [
        "selezione (if, if else, elif)"
      ],
      "metadata": {
        "id": "eKQ9odxpvzEf"
      }
    },
    {
      "cell_type": "code",
      "source": [
        "num1 = 50 \n",
        "num2 = 50\n",
        "if num2 > num1: #condizione \n",
        "  print(\"num2 è maggiore di num1\")\n",
        "elif num1 == num2: #altra condizione \n",
        "  print(\"i due numeri sono uguali\")\n",
        "else: #altrimenti\n",
        "  print(\"num1 è maggiore di num2\")"
      ],
      "metadata": {
        "colab": {
          "base_uri": "https://localhost:8080/"
        },
        "id": "Kw5Lclk4QH4l",
        "outputId": "37befd2f-0004-4d9f-d535-46cf78373a6e"
      },
      "execution_count": null,
      "outputs": [
        {
          "output_type": "stream",
          "name": "stdout",
          "text": [
            "i due numeri sono uguali\n"
          ]
        }
      ]
    },
    {
      "cell_type": "markdown",
      "source": [
        "operatori per il confronto tra variabili (uguale, diverso, maggiore, minore, minore uguale, ...)"
      ],
      "metadata": {
        "id": "Zl4IU_bOxFB1"
      }
    },
    {
      "cell_type": "code",
      "source": [
        "# ==\n",
        "# !=\n",
        "# >\n",
        "# <\n",
        "# >=\n",
        "# <="
      ],
      "metadata": {
        "id": "jpKqRq9PQyy9"
      },
      "execution_count": null,
      "outputs": []
    },
    {
      "cell_type": "markdown",
      "source": [
        "operatori logici (and, or, not)"
      ],
      "metadata": {
        "id": "Q7_OSh5WxxJK"
      }
    },
    {
      "cell_type": "code",
      "source": [
        "if 4 > 2 and 3 > 1: #and: tutte le condizioni devo essere vere\n",
        "  print(\"vero\") \n",
        "else:\n",
        "  print(\"falso\")"
      ],
      "metadata": {
        "colab": {
          "base_uri": "https://localhost:8080/"
        },
        "id": "TjF3MIrERuON",
        "outputId": "7aeb2a66-50e2-4a54-e63a-84c99ab2d11c"
      },
      "execution_count": null,
      "outputs": [
        {
          "output_type": "stream",
          "name": "stdout",
          "text": [
            "vero\n"
          ]
        }
      ]
    },
    {
      "cell_type": "code",
      "source": [
        "if 4 == 4 or 5 > 100: #or: almeno una delle due condizioni deve essere vera\n",
        "  print(\"vero\")\n",
        "else:\n",
        "  print(\"falso\")"
      ],
      "metadata": {
        "id": "SgrMo1FxR7Q0"
      },
      "execution_count": null,
      "outputs": []
    },
    {
      "cell_type": "code",
      "source": [
        "t = True\n",
        "print(not t) #not: cambia il valore da true a false o viceversa"
      ],
      "metadata": {
        "colab": {
          "base_uri": "https://localhost:8080/"
        },
        "id": "wMRFn2AKSOCT",
        "outputId": "5e565a60-8f71-4bd7-dcfb-7952c617f908"
      },
      "execution_count": null,
      "outputs": [
        {
          "output_type": "stream",
          "name": "stdout",
          "text": [
            "False\n"
          ]
        }
      ]
    },
    {
      "cell_type": "markdown",
      "source": [
        "operatori di appartenenza (in, not in)"
      ],
      "metadata": {
        "id": "w2f1OWg6x24S"
      }
    },
    {
      "cell_type": "code",
      "source": [
        "lista = [1, 2, 3, 4, 5, 6, 7, 8, 9]\n",
        "if 2 in lista:   #controllo se il valore c'è nella lista\n",
        "  print(\"presente\")\n",
        "else:\n",
        "  print(\"non è presente\")"
      ],
      "metadata": {
        "colab": {
          "base_uri": "https://localhost:8080/"
        },
        "id": "FzcAzdutSp40",
        "outputId": "685388aa-648f-4957-9403-a1c50252967d"
      },
      "execution_count": null,
      "outputs": [
        {
          "output_type": "stream",
          "name": "stdout",
          "text": [
            "presente\n"
          ]
        }
      ]
    },
    {
      "cell_type": "code",
      "source": [
        "if 100 not in lista:\n",
        "  print(\"non è presente\")"
      ],
      "metadata": {
        "colab": {
          "base_uri": "https://localhost:8080/"
        },
        "id": "R0ljNd1YS1jM",
        "outputId": "91b18174-4555-4b42-bb53-b3be67b4a539"
      },
      "execution_count": null,
      "outputs": [
        {
          "output_type": "stream",
          "name": "stdout",
          "text": [
            "non è presente\n"
          ]
        }
      ]
    },
    {
      "cell_type": "markdown",
      "source": [
        "cicli (while, for)"
      ],
      "metadata": {
        "id": "k5onQQXHx__a"
      }
    },
    {
      "cell_type": "code",
      "source": [
        "seq = [1, 2, 3, 4, 5]\n",
        "for n in seq:   #n assume tutti i valori della lista\n",
        "  print('Il quadrato di', n, 'è', n**2)"
      ],
      "metadata": {
        "id": "NqzwlQU_TJtd"
      },
      "execution_count": null,
      "outputs": []
    },
    {
      "cell_type": "code",
      "source": [
        "for i in range(5):\n",
        "  print(i)\n",
        "#mostro una variabile che assume 5 valori (da 0 a 4)"
      ],
      "metadata": {
        "id": "ZfTtRe0tT5ws"
      },
      "execution_count": null,
      "outputs": []
    },
    {
      "cell_type": "code",
      "source": [
        "n = 0\n",
        "while n < 5:\n",
        "    n += 1\n",
        "    print(n)"
      ],
      "metadata": {
        "id": "YrFDZbumT_U8"
      },
      "execution_count": null,
      "outputs": []
    },
    {
      "cell_type": "markdown",
      "source": [
        "generazione di numeri casuali (interi, float), range()"
      ],
      "metadata": {
        "id": "Ns1JjBYbzMJO"
      }
    },
    {
      "cell_type": "code",
      "source": [
        "import random #importo la libreria random \n",
        "numero_casuale = random.randint(30, 101) #crea un numero casuale inteto (nelle parentesi c'è il range entro il quale sarà il numero casuale)\n",
        "print(numero_casuale)\n",
        "numero_cas_float = random.uniform(30.67, 150.89) #uniform: genera un numero casuale decimale\n",
        "print(numero_cas_float)"
      ],
      "metadata": {
        "colab": {
          "base_uri": "https://localhost:8080/"
        },
        "id": "3Kue8xZ7UYds",
        "outputId": "846e7af1-0393-4420-fd27-7eae27386294"
      },
      "execution_count": null,
      "outputs": [
        {
          "output_type": "stream",
          "name": "stdout",
          "text": [
            "53\n",
            "83.55352679928599\n"
          ]
        }
      ]
    },
    {
      "cell_type": "markdown",
      "source": [
        "determinazione tempo di esecuzione di un programma"
      ],
      "metadata": {
        "id": "fHcv7nA-3Hj_"
      }
    },
    {
      "cell_type": "code",
      "source": [
        "import time\n",
        "start = time.time()\n",
        "if 100 > 50:\n",
        "  print(\"maggiore\")\n",
        "else:\n",
        "  print(\"minore\")\n",
        "end = time.time()\n",
        "print(end - start)"
      ],
      "metadata": {
        "id": "F5kOuAllVSbt"
      },
      "execution_count": null,
      "outputs": []
    },
    {
      "cell_type": "markdown",
      "source": [
        "#Strutture dati"
      ],
      "metadata": {
        "id": "lS9h1SbYyJ3J"
      }
    },
    {
      "cell_type": "markdown",
      "source": [
        "liste (creazione anche con list comprehension, inserimento, modifica, cancellazione, visualizzazione, ricerca, metodi specifici)"
      ],
      "metadata": {
        "id": "eHzg5yNHyRRZ"
      }
    },
    {
      "cell_type": "code",
      "source": [
        "#creazione di una lista\n",
        "lista = [10, 20, 30, 40]\n",
        "print(lista)"
      ],
      "metadata": {
        "colab": {
          "base_uri": "https://localhost:8080/"
        },
        "id": "LWCs8IqlVvl8",
        "outputId": "a4d58f27-6978-4c64-a6bf-54a18e0a4d7c"
      },
      "execution_count": null,
      "outputs": [
        {
          "output_type": "stream",
          "name": "stdout",
          "text": [
            "[10, 20, 30, 40]\n"
          ]
        }
      ]
    },
    {
      "cell_type": "code",
      "source": [
        "#creazione di una lista\n",
        "lista2 = list((100, 200, 300, 400))\n",
        "print(lista2)"
      ],
      "metadata": {
        "colab": {
          "base_uri": "https://localhost:8080/"
        },
        "id": "kBjx2mrxV3lF",
        "outputId": "c72a2ea5-30bc-4db4-e63b-4245663c8683"
      },
      "execution_count": null,
      "outputs": [
        {
          "output_type": "stream",
          "name": "stdout",
          "text": [
            "[100, 200, 300, 400]\n"
          ]
        }
      ]
    },
    {
      "cell_type": "code",
      "source": [
        "#creazione di una lista con list comprehension\n",
        "lista3 = [num for num in range(50)]\n",
        "print(lista3)"
      ],
      "metadata": {
        "id": "EkUZpOeCYTQc"
      },
      "execution_count": null,
      "outputs": []
    },
    {
      "cell_type": "code",
      "source": [
        "#creazione di una lista mista \n",
        "listaMista = [True, \"riccardo\", 500, False, \"hello\"]\n",
        "print(listaMista)"
      ],
      "metadata": {
        "id": "jTqhp0GTYkIF"
      },
      "execution_count": null,
      "outputs": []
    },
    {
      "cell_type": "code",
      "source": [
        "#visualizzare il primo elemento della lista \n",
        "listaMista[0]"
      ],
      "metadata": {
        "id": "Kb1On4S-ZPKN"
      },
      "execution_count": null,
      "outputs": []
    },
    {
      "cell_type": "code",
      "source": [
        "#visualizzare l'ultimo elemento della lista \n",
        "listaMista[-1]"
      ],
      "metadata": {
        "id": "3EuC8llDZVvt"
      },
      "execution_count": null,
      "outputs": []
    },
    {
      "cell_type": "code",
      "source": [
        "#visualizzare dal secondo al quarto elemento (slicing)\n",
        "listaMista[1:4] #il secondo parametro è -1"
      ],
      "metadata": {
        "id": "oBJmHJevZbPD"
      },
      "execution_count": null,
      "outputs": []
    },
    {
      "cell_type": "code",
      "source": [
        "#visualizzare tutti gli elementi di una lista \n",
        "for elemento in listaMista:\n",
        "  print(elemento)"
      ],
      "metadata": {
        "id": "qRMzwKTTZIFr"
      },
      "execution_count": null,
      "outputs": []
    },
    {
      "cell_type": "code",
      "source": [
        "#visualizzare tutti gli elementi di una lista (metodo usando l'indice)\n",
        "for indice in range(len(listaMista)):\n",
        "  print(listaMista[indice])"
      ],
      "metadata": {
        "id": "UGbZIv-NZmJd"
      },
      "execution_count": null,
      "outputs": []
    },
    {
      "cell_type": "code",
      "source": [
        "listaProva = [300, 45.6, 700, 1249, 1, 5]\n",
        "print(listaProva)"
      ],
      "metadata": {
        "id": "D9NgzT7CZ2Nf"
      },
      "execution_count": null,
      "outputs": []
    },
    {
      "cell_type": "code",
      "source": [
        "#aggiungere un elemento alla lista\n",
        "listaProva.append(10) #append aggiunge l'elemento alla fine della lista\n",
        "print(listaProva)"
      ],
      "metadata": {
        "id": "L7-8rC92Z_im"
      },
      "execution_count": null,
      "outputs": []
    },
    {
      "cell_type": "code",
      "source": [
        "#aggiungere un elemento usando insert\n",
        "listaProva.insert(1, 1000) #il metodo insert è composto da due parametri: indice, elemento che voglio aggiungere\n",
        "print(listaProva)"
      ],
      "metadata": {
        "id": "9ss50mUAaOaP"
      },
      "execution_count": null,
      "outputs": []
    },
    {
      "cell_type": "code",
      "source": [
        "#modificare un elemento di una lista\n",
        "listaProva[0] = 900  #modifica l'elemento in posizione 0\n",
        "print(listaProva)"
      ],
      "metadata": {
        "id": "yfSz9gXRal8F"
      },
      "execution_count": null,
      "outputs": []
    },
    {
      "cell_type": "code",
      "source": [
        "#rimuovere elementi da una lista\n",
        "listaProva.remove(1) #nel metodo remove bisogna specificare l'elemento che si vuole rimuovere. SE CI DOVESSERO ESSERE ELEMENTI UGUALI ALL'INTERNO DELLA LISTA, VIENE RIMOSSO SOLO IL PRIMO (PRIMA OCCORRENZA)\n",
        "print(listaProva)"
      ],
      "metadata": {
        "colab": {
          "base_uri": "https://localhost:8080/"
        },
        "id": "O2rOYFgRazq8",
        "outputId": "dca41f40-9404-472d-85ed-408c100db317"
      },
      "execution_count": null,
      "outputs": [
        {
          "output_type": "stream",
          "name": "stdout",
          "text": [
            "[900, 1000, 45.6, 700, 1249, 5, 10]\n"
          ]
        }
      ]
    },
    {
      "cell_type": "code",
      "source": [
        "#rimuovere usando del\n",
        "del listaProva[1] #nel metodo del bisogna specificare l'indice dell'elemento che si vuole rimuovere\n",
        "print(listaProva)"
      ],
      "metadata": {
        "id": "1LgKC6MGbUAZ"
      },
      "execution_count": null,
      "outputs": []
    },
    {
      "cell_type": "code",
      "source": [
        "#rimuovere usando pop\n",
        "listaProva.pop(0) #nel metodo pop bisogna specificare l'indice dell'elemento che si vuole rimuovere\n",
        "print(listaProva)"
      ],
      "metadata": {
        "colab": {
          "base_uri": "https://localhost:8080/"
        },
        "id": "_CRDzc-1cFgq",
        "outputId": "c5f9868e-a18a-4bf3-843f-ecb268e1a85a"
      },
      "execution_count": null,
      "outputs": [
        {
          "output_type": "stream",
          "name": "stdout",
          "text": [
            "[45.6, 700, 1249, 5, 10]\n"
          ]
        }
      ]
    },
    {
      "cell_type": "code",
      "source": [
        "#fare la ricerca di un elemento in una lista\n",
        "if 1000 in listaProva:\n",
        "  print(\"presente\")\n",
        "else:\n",
        "  print(\"non presente\")"
      ],
      "metadata": {
        "colab": {
          "base_uri": "https://localhost:8080/"
        },
        "id": "yOSPlDWicMLE",
        "outputId": "e756da9e-b817-48ad-c5b1-c52c8cb95180"
      },
      "execution_count": null,
      "outputs": [
        {
          "output_type": "stream",
          "name": "stdout",
          "text": [
            "non presente\n"
          ]
        }
      ]
    },
    {
      "cell_type": "code",
      "source": [
        "listaMetodi = [15, 30, 45, 60, 75, 90, 105, 1]\n",
        "print(listaMetodi)"
      ],
      "metadata": {
        "id": "MUKCgAa3cdPH"
      },
      "execution_count": null,
      "outputs": []
    },
    {
      "cell_type": "code",
      "source": [
        "#trovare il massimo in questa lista\n",
        "max(listaMetodi)"
      ],
      "metadata": {
        "id": "UuUw6sF2cowC"
      },
      "execution_count": null,
      "outputs": []
    },
    {
      "cell_type": "code",
      "source": [
        "#trovare il minimo in questa lista\n",
        "min(listaMetodi)"
      ],
      "metadata": {
        "id": "B-HTZ8ascuLD"
      },
      "execution_count": null,
      "outputs": []
    },
    {
      "cell_type": "code",
      "source": [
        "#trovare la somma di questa lista\n",
        "sum(listaMetodi)"
      ],
      "metadata": {
        "id": "127eFQqLcyOF"
      },
      "execution_count": null,
      "outputs": []
    },
    {
      "cell_type": "code",
      "source": [
        "#trovare la media di questa lista\n",
        "from statistics import mean\n",
        "mean(listaProva)"
      ],
      "metadata": {
        "id": "5RWTp8Hbc3DP"
      },
      "execution_count": null,
      "outputs": []
    },
    {
      "cell_type": "code",
      "source": [
        "#mettere insieme più liste \n",
        "listaNumero1 = [\"ciao\", True, 40]\n",
        "listaNumero2 = [150, False, \"Maurizio\"]\n",
        "listaSomma = listaNumero1 + listaNumero2\n",
        "print(listaSomma)"
      ],
      "metadata": {
        "id": "_hAUXGnNdAtN"
      },
      "execution_count": null,
      "outputs": []
    },
    {
      "cell_type": "code",
      "source": [
        "#creare una lista di 100 numeri casuali usando la list comprehension\n",
        "import random\n",
        "listaCasuale = [random.randint(1, 101) for numero in range(100)]\n",
        "print(listaCasuale)"
      ],
      "metadata": {
        "id": "Y4KlIhdVeN7F"
      },
      "execution_count": null,
      "outputs": []
    },
    {
      "cell_type": "code",
      "source": [
        "#trovare la lunghezza di una lista \n",
        "len(listaCasuale)"
      ],
      "metadata": {
        "id": "TvueT829e4sW"
      },
      "execution_count": null,
      "outputs": []
    },
    {
      "cell_type": "markdown",
      "source": [
        "tuple (creazione anche con list comprehension, inserimento, modifica, cancellazione, visualizzazione, ricerca, metodi specifici)"
      ],
      "metadata": {
        "id": "eoUpQiJnxVJV"
      }
    },
    {
      "cell_type": "markdown",
      "source": [
        "https://github.com/Riccardolotorto/riepilogoPandasMatplotlibStrutturedati/blob/main/Copia_di_tuple.ipynb"
      ],
      "metadata": {
        "id": "UItoasXae1bs"
      }
    },
    {
      "cell_type": "markdown",
      "source": [
        "set (creazione anche con list comprehension, inserimento, modifica, cancellazione, visualizzazione, ricerca, metodi specifici)"
      ],
      "metadata": {
        "id": "5enXw7_vznk-"
      }
    },
    {
      "cell_type": "markdown",
      "source": [
        "https://github.com/Riccardolotorto/riepilogoPandasMatplotlibStrutturedati/blob/main/InsiemiPython.ipynb"
      ],
      "metadata": {
        "id": "DjtdRLlHe-Rn"
      }
    },
    {
      "cell_type": "markdown",
      "source": [
        "dizionari (creazione anche con list comprehension, inserimento, modifica, cancellazione, visualizzazione, ricerca, metodi specifici)"
      ],
      "metadata": {
        "id": "Fd_ZniI_zo8O"
      }
    },
    {
      "cell_type": "markdown",
      "source": [
        "https://github.com/Riccardolotorto/riepilogoPandasMatplotlibStrutturedati/blob/main/Copia_di_Dizionari.ipynb"
      ],
      "metadata": {
        "id": "VcnTJWXDfV70"
      }
    },
    {
      "cell_type": "markdown",
      "source": [
        "https://github.com/Riccardolotorto/riepilogoPandasMatplotlibStrutturedati/blob/main/Python_dizionari.ipynb"
      ],
      "metadata": {
        "id": "kHYP5XeYfjwe"
      }
    },
    {
      "cell_type": "markdown",
      "source": [
        "criteri per la scelta della struttura dati più adatta all'applicazione"
      ],
      "metadata": {
        "id": "PD49J-Gv0qJ8"
      }
    },
    {
      "cell_type": "code",
      "source": [
        "#una tupla si usa quando si devono salvare valori permanenti e che non devono essere modificati (es: codici fiscali o costanti matematiche)\n",
        "#un insieme (set) viene usato per eliminare i duplicati o per fare operazione di unione o intersezione \n",
        "#un dizionario viene usato per inserire più dati per (es. identificare) una persona con coppie di chiavi e valori (nome: riccardo, cognome: lotorto)\n",
        "#una lista si usa per salvare dei dati che verranno sicuramente modificati, infatti, con una lista si possono fare molte operazioni di aggiunta, modifica e rimozione"
      ],
      "metadata": {
        "id": "aMNiMQR0f55o"
      },
      "execution_count": null,
      "outputs": []
    },
    {
      "cell_type": "markdown",
      "source": [
        "#Pandas"
      ],
      "metadata": {
        "id": "eeMDQKKu1Brz"
      }
    },
    {
      "cell_type": "markdown",
      "source": [
        "creazione del dataframe da file di tipo diverso"
      ],
      "metadata": {
        "id": "7qn3k6JD1D-K"
      }
    },
    {
      "cell_type": "code",
      "source": [
        "import pandas as pd"
      ],
      "metadata": {
        "id": "fYOIoCMchhcM"
      },
      "execution_count": 3,
      "outputs": []
    },
    {
      "cell_type": "code",
      "source": [
        "df = pd.read_csv(\"https://raw.githubusercontent.com/wtitze/4E/main/ristoranti.csv\") #uso read_csv perchè il file su cui devo lavorare è di tipo csv\n",
        "df"
      ],
      "metadata": {
        "id": "xcZ9uc9EhtBw"
      },
      "execution_count": null,
      "outputs": []
    },
    {
      "cell_type": "code",
      "source": [
        "#esistono anche altri tipi di lettura dei file: read_json(file json), read_excel(file excel)"
      ],
      "metadata": {
        "id": "IUmZn2WKjTek"
      },
      "execution_count": null,
      "outputs": []
    },
    {
      "cell_type": "markdown",
      "source": [
        "eliminazione di righe (più metodi se possibile)"
      ],
      "metadata": {
        "id": "T_OZh9c-1KZ0"
      }
    },
    {
      "cell_type": "code",
      "source": [
        "df.drop(0, inplace = True) #lo 0 è l'indice della riga che voglio rimuovere. Inplace true vuol dire che l'eliminazione è definitiva"
      ],
      "metadata": {
        "id": "llieO84Tjc7y"
      },
      "execution_count": null,
      "outputs": []
    },
    {
      "cell_type": "code",
      "source": [
        "df #mostrando il dataframe notiamo che la riga eliminato non c'è più"
      ],
      "metadata": {
        "id": "l0SRHkUzkBi2"
      },
      "execution_count": null,
      "outputs": []
    },
    {
      "cell_type": "markdown",
      "source": [
        "eliminazione di colonne (più metodi se possibile)"
      ],
      "metadata": {
        "id": "xJe3vnfZ1Npr"
      }
    },
    {
      "cell_type": "code",
      "source": [
        "df.drop(\"address\", axis = 1, inplace = True) #address è il nome della colonna che vogliamo rimuovere. Axis 1 indica che si tratta di una colonna che non è quella dell'indice"
      ],
      "metadata": {
        "id": "04jjTfoOkJ0-"
      },
      "execution_count": null,
      "outputs": []
    },
    {
      "cell_type": "code",
      "source": [
        "df"
      ],
      "metadata": {
        "id": "u064JoN8kX5u"
      },
      "execution_count": null,
      "outputs": []
    },
    {
      "cell_type": "markdown",
      "source": [
        "eliminazione di valori nulli (più metodi se possibile)"
      ],
      "metadata": {
        "id": "C1-C6Vjb1PME"
      }
    },
    {
      "cell_type": "code",
      "source": [
        "df.drop(df[df[\"name\"].isnull()].index, inplace = True) #il primo parametro sono gli indici dei valori nulli del nome, quindi quelle righe verranno eliminate"
      ],
      "metadata": {
        "id": "hX6kfq73kwhz"
      },
      "execution_count": null,
      "outputs": []
    },
    {
      "cell_type": "code",
      "source": [
        "df"
      ],
      "metadata": {
        "id": "L-qTeo8ulLWm"
      },
      "execution_count": null,
      "outputs": []
    },
    {
      "cell_type": "markdown",
      "source": [
        "selezione di una serie di righe (più metodi se possibile)"
      ],
      "metadata": {
        "id": "ugUyVMOY1Q5c"
      }
    },
    {
      "cell_type": "code",
      "source": [
        "#mostrare le prime 5 righe \n",
        "df.head()"
      ],
      "metadata": {
        "id": "g3Yznnl_jPWD"
      },
      "execution_count": null,
      "outputs": []
    },
    {
      "cell_type": "code",
      "source": [
        "#mostrare le ultime 5 righe \n",
        "df.tail()"
      ],
      "metadata": {
        "id": "PhHR9lPfjdS9"
      },
      "execution_count": null,
      "outputs": []
    },
    {
      "cell_type": "code",
      "source": [
        "#mostro delle righe dalla 10 alla 20\n",
        "df[10:21]"
      ],
      "metadata": {
        "id": "nuhf8RCMji3z"
      },
      "execution_count": null,
      "outputs": []
    },
    {
      "cell_type": "code",
      "source": [
        "#mostro delle righe dalla 10 alla 20 usando iloc\n",
        "df.iloc[10:21]"
      ],
      "metadata": {
        "id": "4y9OqOtpjpvb"
      },
      "execution_count": null,
      "outputs": []
    },
    {
      "cell_type": "code",
      "source": [
        "#trovo le righe in base ad una condizione \n",
        "df[df[\"borough\"] == \"Manhattan\"].index"
      ],
      "metadata": {
        "id": "uZOj1ViTkIaz"
      },
      "execution_count": null,
      "outputs": []
    },
    {
      "cell_type": "markdown",
      "source": [
        "selezione di una serie di colonne (più metodi se possibile)"
      ],
      "metadata": {
        "id": "ohNqeoCa1Uaj"
      }
    },
    {
      "cell_type": "code",
      "source": [
        "#mostro delle colonne precise\n",
        "df[[\"borough\", \"cuisine\"]]"
      ],
      "metadata": {
        "id": "CRw8VyhvjtlT"
      },
      "execution_count": null,
      "outputs": []
    },
    {
      "cell_type": "code",
      "source": [
        "#mostro una colonna come dataframe \n",
        "df[[\"borough\"]]"
      ],
      "metadata": {
        "id": "DuXtF-AkkeDj"
      },
      "execution_count": null,
      "outputs": []
    },
    {
      "cell_type": "code",
      "source": [
        "#mostro una colonna come serie\n",
        "df[\"borough\"]"
      ],
      "metadata": {
        "id": "XlVLDcBZlLvc"
      },
      "execution_count": null,
      "outputs": []
    },
    {
      "cell_type": "markdown",
      "source": [
        "ricerca di valori in una colonna (più metodi se possibile)"
      ],
      "metadata": {
        "id": "46Nm66A61V-D"
      }
    },
    {
      "cell_type": "code",
      "source": [
        "#ricerca di valori con una condizione \n",
        "df[df[\"restaurant_id\"] > 40356151] #mostro tutte le colonne "
      ],
      "metadata": {
        "id": "BAz8xOsAkVY7"
      },
      "execution_count": null,
      "outputs": []
    },
    {
      "cell_type": "code",
      "source": [
        "#ricerca di valori con una condizione \n",
        "df[df[\"restaurant_id\"] > 40356151][[\"name\"]] #mostro sono la colonna name"
      ],
      "metadata": {
        "id": "XcG6nOLPltf8"
      },
      "execution_count": null,
      "outputs": []
    },
    {
      "cell_type": "code",
      "source": [
        "#ricerca di valori con una condizione \n",
        "df[df[\"restaurant_id\"] > 40356151][[\"name\", \"borough\"]] #mostro due colonne: name e borough"
      ],
      "metadata": {
        "id": "1hDaO79mlx8U"
      },
      "execution_count": null,
      "outputs": []
    },
    {
      "cell_type": "code",
      "source": [
        "#ricerca di valori con due o più condizioni con and (&)\n",
        "df[(df[\"restaurant_id\"] > 40356151) & (df[\"borough\"] == \"Manhattan\")][[\"name\"]]    #ogni condizione deve essere messa tra le parentesi tonde (mostro solo la colonna name)"
      ],
      "metadata": {
        "id": "898xBZcMmERc"
      },
      "execution_count": null,
      "outputs": []
    },
    {
      "cell_type": "code",
      "source": [
        "#ricerca di valori con due o più condizioni con or (|)\n",
        "df[(df[\"borough\"] == \"Brooklyn\") | (df[\"borough\"] == \"Manhattan\")][[\"name\"]]  #in questo caso troverò i ristoranti in questi due quartieri (mostro solo la colonna name)"
      ],
      "metadata": {
        "id": "XBT0V8GWmo7D"
      },
      "execution_count": null,
      "outputs": []
    },
    {
      "cell_type": "markdown",
      "source": [
        "trasformare delle colonne di un dataframe in altre strutture dati (liste, insiemi e dizionari)"
      ],
      "metadata": {
        "id": "CQeAhCvrnJEc"
      }
    },
    {
      "cell_type": "code",
      "source": [
        "df[\"restaurant_id\"] #serie"
      ],
      "metadata": {
        "id": "vjQwKxY8oY30"
      },
      "execution_count": null,
      "outputs": []
    },
    {
      "cell_type": "code",
      "source": [
        "idRistoranti = list(df[\"restaurant_id\"]) #trasformo la serie in una lista\n",
        "print(idRistoranti)"
      ],
      "metadata": {
        "id": "fyIquyZoofVV"
      },
      "execution_count": null,
      "outputs": []
    },
    {
      "cell_type": "code",
      "source": [
        "setIdRistoranti = set(idRistoranti) #trasformo la serie in un insieme per eliminare i duplicati \n",
        "print(setIdRistoranti)"
      ],
      "metadata": {
        "id": "ebwh0588oqqz"
      },
      "execution_count": null,
      "outputs": []
    },
    {
      "cell_type": "code",
      "source": [
        "print(len(idRistoranti))\n",
        "print(len(setIdRistoranti))\n",
        "#le lunghezze sono uguali perchè in questo caso non ci sono duplicati, quindi l'insieme non viene \"accorciato\""
      ],
      "metadata": {
        "id": "fDODFl1ro24D"
      },
      "execution_count": null,
      "outputs": []
    },
    {
      "cell_type": "markdown",
      "source": [
        "ricerca di sottotsringhe in una colonna"
      ],
      "metadata": {
        "id": "8jZ99Hlx15Kh"
      }
    },
    {
      "cell_type": "code",
      "source": [
        "#ricerca di una stringa usando contains\n",
        "df[df[\"name\"].str.contains(\"Pizzeria\", na= False)][[\"name\"]] #na = False serve per non considerare i valori nulli presenti nella colonna su cui sto facendo una condizione"
      ],
      "metadata": {
        "id": "R3D-4rEapY2L"
      },
      "execution_count": null,
      "outputs": []
    },
    {
      "cell_type": "code",
      "source": [
        "#ricerca di una stringa usando startswith \n",
        "df[df[\"name\"].str.startswith(\"Pizzeria\", na= False)][[\"name\"]] #na = False serve per non considerare i valori nulli presenti nella colonna su cui sto facendo una condizione"
      ],
      "metadata": {
        "id": "2G_1N9BLqgaD"
      },
      "execution_count": null,
      "outputs": []
    },
    {
      "cell_type": "code",
      "source": [
        "#ricerca di una stringa usando endswith \n",
        "df[df[\"name\"].str.endswith(\"Restaurant\", na= False)][[\"name\"]] #na = False serve per non considerare i valori nulli presenti nella colonna su cui sto facendo una condizione"
      ],
      "metadata": {
        "id": "IBG6ToCPqu6s"
      },
      "execution_count": null,
      "outputs": []
    },
    {
      "cell_type": "markdown",
      "source": [
        "gestione delle date (da string a datetime e viceversa)"
      ],
      "metadata": {
        "id": "z2OQDO1P3L6f"
      }
    },
    {
      "cell_type": "code",
      "source": [
        "#uso un altro dataframe (usando un file csv) per usare il datatime\n",
        "dfData = pd.read_csv('https://raw.githubusercontent.com/italia/covid19-opendata-vaccini/master/dati/consegne-vaccini-latest.csv') \n",
        "dfData"
      ],
      "metadata": {
        "id": "Tg9uaqBLrpbT"
      },
      "execution_count": null,
      "outputs": []
    },
    {
      "cell_type": "code",
      "source": [
        "#importo le librerie necessarie\n",
        "import datetime\n",
        "from dateutil.relativedelta import relativedelta  \n",
        "sdata = datetime.datetime.now() - relativedelta(months = 6) # calcola la data di 6 mesi fa\n",
        "datas = pd.to_datetime(dfData.data_consegna, format=\"%Y-%m-%d\") # crea una serie contenente le date in forma di datetime"
      ],
      "metadata": {
        "id": "9Ptm3S7gq4Hk"
      },
      "execution_count": 78,
      "outputs": []
    },
    {
      "cell_type": "code",
      "source": [
        "print(datas) #le date sono diventate in forma di datatime e non più in forma di serie"
      ],
      "metadata": {
        "id": "6HSOy_Hgr9Rc"
      },
      "execution_count": null,
      "outputs": []
    },
    {
      "cell_type": "code",
      "source": [
        "#trasformare da datatime in stringhe \n",
        "datas = datas.astype(str)   #trasforma da datatime ad una serie di pandas\n",
        "print(type(datas))"
      ],
      "metadata": {
        "id": "h4oWPyxrskWl"
      },
      "execution_count": null,
      "outputs": []
    },
    {
      "cell_type": "code",
      "source": [
        "print(datas)"
      ],
      "metadata": {
        "id": "qvin5RBltNmj"
      },
      "execution_count": null,
      "outputs": []
    },
    {
      "cell_type": "markdown",
      "source": [
        "funzioni di aggregazione (count, min, max, sum, mean)"
      ],
      "metadata": {
        "id": "fr9SDRpW12eB"
      }
    },
    {
      "cell_type": "code",
      "source": [
        "dfData[dfData[\"numero_dosi\"] == dfData[\"numero_dosi\"].max()].index    #trova la riga dove il numero di dosi è il maggiore"
      ],
      "metadata": {
        "id": "lj-GtpEut-D8"
      },
      "execution_count": null,
      "outputs": []
    },
    {
      "cell_type": "code",
      "source": [
        "dfData[dfData[\"numero_dosi\"] == dfData[\"numero_dosi\"].min()].index  #trova la riga dove il numero di dosi è il minore"
      ],
      "metadata": {
        "id": "miDFqZBywem0"
      },
      "execution_count": null,
      "outputs": []
    },
    {
      "cell_type": "code",
      "source": [
        "dfData[dfData[\"numero_dosi\"] > dfData[\"numero_dosi\"].mean()].index #trova le righe dove il numero di dosi è superiore alla media"
      ],
      "metadata": {
        "id": "Hxt5EpZxwwLs"
      },
      "execution_count": null,
      "outputs": []
    },
    {
      "cell_type": "code",
      "source": [
        "dfData[\"numero_dosi\"].sum() #calcola la somma del numero di dosi"
      ],
      "metadata": {
        "id": "_qyOBvlMw5Hj"
      },
      "execution_count": null,
      "outputs": []
    },
    {
      "cell_type": "markdown",
      "source": [
        "groupby"
      ],
      "metadata": {
        "id": "uzPfqwZEYKd3"
      }
    },
    {
      "cell_type": "code",
      "source": [
        "#groupby serve per raggruppare una determinata colonna per fare delle operazioni (tipo il numero di dosi per ogni fornitore)"
      ],
      "metadata": {
        "id": "D9jU62olxLuz"
      },
      "execution_count": null,
      "outputs": []
    },
    {
      "cell_type": "code",
      "source": [
        "#il numero di dosi per ogni fornitore\n",
        "dfData.groupby(\"forn\")[[\"numero_dosi\"]].sum().reset_index() #reset_index serve per mettere la colonna dell'indice standard (quella numerica)"
      ],
      "metadata": {
        "id": "KZcAQFf-xTZL"
      },
      "execution_count": null,
      "outputs": []
    },
    {
      "cell_type": "code",
      "source": [
        "#il numero di dosi per ogni fornitore ordinato in modo decrescente sul numero di dosi\n",
        "dfData.groupby(\"forn\")[[\"numero_dosi\"]].sum().sort_values(by=\"numero_dosi\", ascending = False).reset_index()"
      ],
      "metadata": {
        "id": "8kCRoGQhxg1j"
      },
      "execution_count": null,
      "outputs": []
    },
    {
      "cell_type": "code",
      "source": [
        "#ESEMPIO IMPORTANTE\n",
        "#il numero di tipi di cucina per ogni quartiere\n",
        "dfCucine = df.groupby([\"borough\", \"cuisine\"])[[\"name\"]].count()  #in questo caso raggruppo due colonne perchè altrimenti conterebbe il numero di ristoranti dato che ogni riga rappresenta un ristorante diverso, quindi devo fare un'altra operazione\n",
        "dfCucine2 = dfCucine.groupby(\"borough\").count()  #creo un altro dataframe che contine il groupby di un altro dataframe.groupby (quindi un groupby dentro un altro groupby)\n",
        "dfCucine2"
      ],
      "metadata": {
        "id": "jPRK9PLoyN1r"
      },
      "execution_count": null,
      "outputs": []
    },
    {
      "cell_type": "code",
      "source": [
        "#fare un groupby su una condizione\n",
        "dfData[dfData[\"ISTAT\"] >= 10].groupby(\"reg\")[[\"numero_dosi\"]].sum()"
      ],
      "metadata": {
        "id": "x9wh3RJNzmZb"
      },
      "execution_count": null,
      "outputs": []
    },
    {
      "cell_type": "markdown",
      "source": [
        "#Matplotlib"
      ],
      "metadata": {
        "id": "-wlEbOmI2MmB"
      }
    },
    {
      "cell_type": "markdown",
      "source": [
        "grafico a barre orizzontali"
      ],
      "metadata": {
        "id": "wFT8UarA2YY5"
      }
    },
    {
      "cell_type": "code",
      "source": [
        "import matplotlib.pyplot as plt #importo la libreria corretta"
      ],
      "metadata": {
        "id": "hTfiNuRE1p8M"
      },
      "execution_count": 82,
      "outputs": []
    },
    {
      "cell_type": "code",
      "source": [
        "fig, ax = plt.subplots(figsize=(20,15))    #crea la forma dove dentro ci sarà il grafico\n",
        "ax.barh(\"stringhe\", \"dati\")  #qui vengono inseriti i dati (prima le stringhe, poi i dati numerici)   P.S: in questo caso dà errore perchè i dati non sono presenti, ma servono per l'esempio \n",
        "ax.set_title('titolo')  #setta il titolo del grafico \n",
        "ax.set_ylabel('titolo y')  #setta il titolo sull'asse y \n",
        "ax.set_xlabel('titolo x') #setta il titolo sull'asse x\n",
        "ax.legend() #serve per mettere la legenda"
      ],
      "metadata": {
        "id": "o5J5rK8W13m8"
      },
      "execution_count": null,
      "outputs": []
    },
    {
      "cell_type": "markdown",
      "source": [
        "grafico a barre verticali"
      ],
      "metadata": {
        "id": "o-41bPuf2dkZ"
      }
    },
    {
      "cell_type": "code",
      "source": [
        "fig, ax = plt.subplots(figsize=(20,15))    #crea la forma dove dentro ci sarà il grafico\n",
        "ax.bar(\"stringhe\", \"dati\")  #qui vengono inseriti i dati (prima le stringhe, poi i dati numerici)   P.S: in questo caso dà errore perchè i dati non sono presenti, ma servono per l'esempio \n",
        "ax.set_title('titolo')  #setta il titolo del grafico \n",
        "ax.set_ylabel('titolo y')  #setta il titolo sull'asse y \n",
        "ax.set_xlabel('titolo x') #setta il titolo sull'asse x\n",
        "ax.legend() #serve per mettere la legenda\n",
        "plt.xticks(rotation=90) #serve per mettere i nomi in verticale"
      ],
      "metadata": {
        "id": "H5ShB3Nh2rVs"
      },
      "execution_count": null,
      "outputs": []
    },
    {
      "cell_type": "code",
      "source": [
        "# color = [\"blue\", \"red\", \"yellow\"]  setta i colori delle barre"
      ],
      "metadata": {
        "id": "gF3RCNcb2zLL"
      },
      "execution_count": null,
      "outputs": []
    },
    {
      "cell_type": "markdown",
      "source": [
        "grafico a torta"
      ],
      "metadata": {
        "id": "cRj0_X-F2fdB"
      }
    },
    {
      "cell_type": "code",
      "source": [
        "plt.figure(figsize=(14, 10))   #crea la figura \n",
        "plt.pie(\"dati\", labels=\"stringhe\", autopct='%1.1f%%') #crea il grafico a torta (prima i dati e poi le stringhe). Autopct = %1.1f%% serve per inserire le percentuali\n",
        "plt.show()"
      ],
      "metadata": {
        "id": "EJ8O5DlC25ID"
      },
      "execution_count": null,
      "outputs": []
    },
    {
      "cell_type": "markdown",
      "source": [
        "altri tipi di grafici"
      ],
      "metadata": {
        "id": "bg83rUIs2hF4"
      }
    },
    {
      "cell_type": "code",
      "source": [
        "#grafico treemap"
      ],
      "metadata": {
        "id": "BiTVNVga3QYr"
      },
      "execution_count": null,
      "outputs": []
    },
    {
      "cell_type": "code",
      "source": [
        "!pip install squarify"
      ],
      "metadata": {
        "id": "5PKrP9tF3SDk"
      },
      "execution_count": null,
      "outputs": []
    },
    {
      "cell_type": "code",
      "source": [
        "import squarify\n",
        "squarify.plot(sizes=\"dati\", label=\"stringhe\", alpha=.8 )  #creo il grafico (alpha è l'opacità dei colori)\n",
        "plt.axis('off')\n",
        "plt.show()"
      ],
      "metadata": {
        "id": "PTjzfMNW3WoT"
      },
      "execution_count": null,
      "outputs": []
    }
  ]
}