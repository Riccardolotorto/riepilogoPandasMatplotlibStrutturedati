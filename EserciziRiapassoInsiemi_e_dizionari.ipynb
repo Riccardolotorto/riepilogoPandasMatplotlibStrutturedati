{
  "nbformat": 4,
  "nbformat_minor": 0,
  "metadata": {
    "colab": {
      "provenance": [],
      "collapsed_sections": [
        "kYbqlWM2fogc",
        "A1RORQRAg9TX"
      ],
      "authorship_tag": "ABX9TyPq6uq6cEfTye1dWbBoj9QE",
      "include_colab_link": true
    },
    "kernelspec": {
      "name": "python3",
      "display_name": "Python 3"
    },
    "language_info": {
      "name": "python"
    }
  },
  "cells": [
    {
      "cell_type": "markdown",
      "metadata": {
        "id": "view-in-github",
        "colab_type": "text"
      },
      "source": [
        "<a href=\"https://colab.research.google.com/github/Riccardolotorto/riepilogoPandasMatplotlibStrutturedati/blob/main/EserciziRiapassoInsiemi_e_dizionari.ipynb\" target=\"_parent\"><img src=\"https://colab.research.google.com/assets/colab-badge.svg\" alt=\"Open In Colab\"/></a>"
      ]
    },
    {
      "cell_type": "markdown",
      "source": [
        "#esercizi insiemi"
      ],
      "metadata": {
        "id": "kYbqlWM2fogc"
      }
    },
    {
      "cell_type": "markdown",
      "source": [
        "1. creare due insiemi con i tifosi delle nazionali dei mondiali: argentina = {\"loto\", \"milella\",\"gere\",\"dipace\"}, brasile = {\"loto\", \"berna\",\"dipace\",\"darienzo\"}"
      ],
      "metadata": {
        "id": "je7Hu0rKftJ1"
      }
    },
    {
      "cell_type": "code",
      "execution_count": 1,
      "metadata": {
        "id": "NdnzLBhZfeMN"
      },
      "outputs": [],
      "source": [
        "argentina = {\"loto\", \"milella\",\"gere\",\"dipace\"}\n",
        "brasile = {\"loto\", \"berna\",\"dipace\",\"darienzo\"}"
      ]
    },
    {
      "cell_type": "markdown",
      "source": [
        "2. creare un insieme che contenga tutti i tifosi"
      ],
      "metadata": {
        "id": "iI7z7dugfyC5"
      }
    },
    {
      "cell_type": "code",
      "source": [
        "tifosi = argentina.union(brasile)\n",
        "print(tifosi)"
      ],
      "metadata": {
        "id": "H6dmlBryf11B"
      },
      "execution_count": null,
      "outputs": []
    },
    {
      "cell_type": "markdown",
      "source": [
        "3. contare quanti sono i tifosi"
      ],
      "metadata": {
        "id": "ZBLgqdmpf2Al"
      }
    },
    {
      "cell_type": "code",
      "source": [
        "len(tifosi)"
      ],
      "metadata": {
        "id": "VSi_V5Bvf5A-"
      },
      "execution_count": null,
      "outputs": []
    },
    {
      "cell_type": "markdown",
      "source": [
        "4. creare un insieme con i tifosi che tifano entrambe le squadre"
      ],
      "metadata": {
        "id": "rEbIz3JBf5Op"
      }
    },
    {
      "cell_type": "code",
      "source": [
        "tutteSquadre = argentina.intersection(brasile)\n",
        "print(tutteSquadre)"
      ],
      "metadata": {
        "id": "1i-uAL95f8fK"
      },
      "execution_count": null,
      "outputs": []
    },
    {
      "cell_type": "markdown",
      "source": [
        "5. visualizzare sono i tifosi dell'argentina"
      ],
      "metadata": {
        "id": "v-utq_VHf8zl"
      }
    },
    {
      "cell_type": "code",
      "source": [
        "soloArgentina = argentina.difference(brasile)\n",
        "print(soloArgentina)"
      ],
      "metadata": {
        "id": "XKylQlZEf_cL"
      },
      "execution_count": null,
      "outputs": []
    },
    {
      "cell_type": "markdown",
      "source": [
        "6. visualizzare solo i tifosi del brasile"
      ],
      "metadata": {
        "id": "I9pDiyE1f_zj"
      }
    },
    {
      "cell_type": "code",
      "source": [
        "soloBrasile = brasile.difference(argentina)\n",
        "print(soloBrasile)"
      ],
      "metadata": {
        "id": "apmBu50GgCGS"
      },
      "execution_count": null,
      "outputs": []
    },
    {
      "cell_type": "markdown",
      "source": [
        "7. aggiungere all'insieme argentina \"luca\""
      ],
      "metadata": {
        "id": "BMPVSRmGgCUk"
      }
    },
    {
      "cell_type": "code",
      "source": [
        "argentina.add(\"luca\")\n",
        "print(argentina)"
      ],
      "metadata": {
        "id": "nP_54BZQg4fT"
      },
      "execution_count": null,
      "outputs": []
    },
    {
      "cell_type": "markdown",
      "source": [
        "8. visualizzare \"presente\" se l'elemento \"armando\" è nell'insieme argentina, altrimenti visualizzare \"non presente\""
      ],
      "metadata": {
        "id": "1blnwbQkg4q-"
      }
    },
    {
      "cell_type": "code",
      "source": [
        "if \"armando\" in argentina:\n",
        "  print(\"presente\")\n",
        "else:\n",
        "  print(\"non presente\")"
      ],
      "metadata": {
        "id": "5fYHI4Hzg6Ys"
      },
      "execution_count": null,
      "outputs": []
    },
    {
      "cell_type": "markdown",
      "source": [
        "#esercizi Dizionari"
      ],
      "metadata": {
        "id": "A1RORQRAg9TX"
      }
    },
    {
      "cell_type": "markdown",
      "source": [
        "**dizionari**"
      ],
      "metadata": {
        "id": "gpx_rV1_g_2x"
      }
    },
    {
      "cell_type": "markdown",
      "source": [
        "1.  creare un dizionario composto dalle seguenti chiavi: via, zona, città."
      ],
      "metadata": {
        "id": "3l9i7s6vhC8d"
      }
    },
    {
      "cell_type": "code",
      "source": [
        "dizionario = {\n",
        "    \"via\": \"via carlo farini\",\n",
        "    \"zona\": \"maciachini\",\n",
        "    \"citta\": \"milano\"\n",
        "}"
      ],
      "metadata": {
        "id": "rwVJbmfUhLby"
      },
      "execution_count": 9,
      "outputs": []
    },
    {
      "cell_type": "markdown",
      "source": [
        "2. visualizzare sono le chiavi del dizionario"
      ],
      "metadata": {
        "id": "Mv4M08PzhLxa"
      }
    },
    {
      "cell_type": "code",
      "source": [
        "for key in dizionario.keys():\n",
        "  print(key)"
      ],
      "metadata": {
        "id": "2ztnRaqZhNvB"
      },
      "execution_count": null,
      "outputs": []
    },
    {
      "cell_type": "markdown",
      "source": [
        "3.  visualizzare le coppie di chiave- valore (senza fare print(dizionario))"
      ],
      "metadata": {
        "id": "T85kWYWfhOB4"
      }
    },
    {
      "cell_type": "code",
      "source": [
        "for k, v in dizionario.items():\n",
        "  print(k, \" - \", v)"
      ],
      "metadata": {
        "id": "_MRGtT_ShQ2R"
      },
      "execution_count": null,
      "outputs": []
    },
    {
      "cell_type": "markdown",
      "source": [
        "4. aggiungere al dizionario la chiave: nome: \"pizzeria\""
      ],
      "metadata": {
        "id": "-RGXOY0MhRCO"
      }
    },
    {
      "cell_type": "code",
      "source": [
        "dizionario[\"nome\"] = \"pizzeria\"\n",
        "print(dizionario)"
      ],
      "metadata": {
        "id": "GtNoG2uRhS2Z"
      },
      "execution_count": null,
      "outputs": []
    },
    {
      "cell_type": "markdown",
      "source": [
        " 5. visualizzare il valore della chiave città"
      ],
      "metadata": {
        "id": "qXnZTuV2hTHe"
      }
    },
    {
      "cell_type": "code",
      "source": [
        "dizionario.get(\"citta\")"
      ],
      "metadata": {
        "id": "YM37a6JEhVZh"
      },
      "execution_count": null,
      "outputs": []
    },
    {
      "cell_type": "markdown",
      "source": [
        "**lista di dizionari**"
      ],
      "metadata": {
        "id": "x29QHOqni3ij"
      }
    },
    {
      "cell_type": "markdown",
      "source": [
        "1.  creare una lista che contenga tre dizionari. Ognuno di essi deve contenere tre chiavi: nome, cognome ed età"
      ],
      "metadata": {
        "id": "HwdNwNbji55Z"
      }
    },
    {
      "cell_type": "code",
      "source": [
        "persone = [\n",
        "    {\n",
        "        \"nome\":\"riccardo\",\n",
        "        \"cognome\":\"lotorto\",\n",
        "        \"eta\": 16\n",
        "    },\n",
        "    {\n",
        "        \"nome\":\"lorenzo\",\n",
        "        \"cognome\":\"nobile\",\n",
        "        \"eta\": 21\n",
        "    },\n",
        "    {\n",
        "        \"nome\":\"gianmaria\",\n",
        "        \"cognome\":\"rossi\",\n",
        "        \"eta\": 19\n",
        "    },\n",
        "]\n",
        "print(persone)"
      ],
      "metadata": {
        "id": "U_3Jh30_jI-V"
      },
      "execution_count": null,
      "outputs": []
    },
    {
      "cell_type": "markdown",
      "source": [
        "2. visualizzare tutti i nomi"
      ],
      "metadata": {
        "id": "b6Ix4w57jhgW"
      }
    },
    {
      "cell_type": "code",
      "source": [
        "for persona in persone:       #persona assume tutti gli elementi della lista (in questo caso sono dizionari)\n",
        "  print(persona[\"nome\"])"
      ],
      "metadata": {
        "id": "ftJIdHgdjmOv"
      },
      "execution_count": null,
      "outputs": []
    },
    {
      "cell_type": "markdown",
      "source": [
        "3. visualizzare solo i nomi dei maggiorenni"
      ],
      "metadata": {
        "id": "Qi6KkVzdjzdN"
      }
    },
    {
      "cell_type": "code",
      "source": [
        "for persona in persone:\n",
        "  if persona[\"eta\"] > 18:\n",
        "    print(persona[\"nome\"])"
      ],
      "metadata": {
        "id": "yfstk56Oj1eY"
      },
      "execution_count": null,
      "outputs": []
    },
    {
      "cell_type": "markdown",
      "source": [
        "4. visualizzare il cognome dal nome inserito dall'utente"
      ],
      "metadata": {
        "id": "5ECyhgoSj9a1"
      }
    },
    {
      "cell_type": "code",
      "source": [
        "nomeInserito = input(\"inserisci il tuo nome: \")\n",
        "for persona in persone: \n",
        "  if persona[\"nome\"] == nomeInserito:\n",
        "    print(persona[\"cognome\"])"
      ],
      "metadata": {
        "id": "a5abU2NOkANl"
      },
      "execution_count": null,
      "outputs": []
    }
  ]
}