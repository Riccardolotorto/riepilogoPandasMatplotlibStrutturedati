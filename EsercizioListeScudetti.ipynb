{
  "nbformat": 4,
  "nbformat_minor": 0,
  "metadata": {
    "colab": {
      "provenance": [],
      "collapsed_sections": [],
      "authorship_tag": "ABX9TyOyWZqYP0hs/qBpEs1M6fpZ",
      "include_colab_link": true
    },
    "kernelspec": {
      "name": "python3",
      "display_name": "Python 3"
    },
    "language_info": {
      "name": "python"
    }
  },
  "cells": [
    {
      "cell_type": "markdown",
      "metadata": {
        "id": "view-in-github",
        "colab_type": "text"
      },
      "source": [
        "<a href=\"https://colab.research.google.com/github/Riccardolotorto/Python/blob/main/EsercizioListeScudetti.ipynb\" target=\"_parent\"><img src=\"https://colab.research.google.com/assets/colab-badge.svg\" alt=\"Open In Colab\"/></a>"
      ]
    },
    {
      "cell_type": "markdown",
      "source": [
        "inserire nella struttura dati corretta le squadre di serie a e gli scudetti corrispondenti"
      ],
      "metadata": {
        "id": "AUlpbFjcBe9R"
      }
    },
    {
      "cell_type": "code",
      "execution_count": 37,
      "metadata": {
        "id": "R3SCb_bSBMG_"
      },
      "outputs": [],
      "source": [
        "squadre = [\"Juventus\", \"Inter\", \"Milan\", \"Napoli\", \"Roma\", \"Lazio\", \"Atalanta\", \"Sassuolo\", \"Fiorentina\", \"Udinese\", \"Verona\", \"Spezia\", \"Torino\", \"Empoli\", \"Lecce\", \"Monza\", \"Cremonese\", \"Salernitana\", \"Bologna\", \"Sampdoria\"]\n",
        "scudetti = [36, 19, 19, 2, 3, 2, 0, 0, 2, 0, 1, 0, 7, 0, 0, 0, 0, 0, 7, 1]"
      ]
    },
    {
      "cell_type": "markdown",
      "source": [
        "calcolare la somma degli scudetti"
      ],
      "metadata": {
        "id": "qqVUHeOaC_ct"
      }
    },
    {
      "cell_type": "code",
      "source": [
        "print(sum(scudetti))"
      ],
      "metadata": {
        "colab": {
          "base_uri": "https://localhost:8080/"
        },
        "id": "HyBDFFWWC_Iq",
        "outputId": "09318ad5-348e-4f85-d23e-94f63a82bb8d"
      },
      "execution_count": 38,
      "outputs": [
        {
          "output_type": "stream",
          "name": "stdout",
          "text": [
            "99\n"
          ]
        }
      ]
    },
    {
      "cell_type": "markdown",
      "source": [
        "calcolare max e min scudetti"
      ],
      "metadata": {
        "id": "vxHtXuryDEPV"
      }
    },
    {
      "cell_type": "code",
      "source": [
        "print(max(scudetti))\n",
        "print(min(scudetti))"
      ],
      "metadata": {
        "colab": {
          "base_uri": "https://localhost:8080/"
        },
        "id": "Jhfi_mrYDIRF",
        "outputId": "09a58f23-c7f4-4525-9419-245a5af424db"
      },
      "execution_count": 39,
      "outputs": [
        {
          "output_type": "stream",
          "name": "stdout",
          "text": [
            "36\n",
            "0\n"
          ]
        }
      ]
    },
    {
      "cell_type": "markdown",
      "source": [
        "calcolare media scudetti"
      ],
      "metadata": {
        "id": "f6VKD0zFDb1j"
      }
    },
    {
      "cell_type": "code",
      "source": [
        "from statistics import mean\n",
        "print(mean(scudetti))"
      ],
      "metadata": {
        "colab": {
          "base_uri": "https://localhost:8080/"
        },
        "id": "veC6kGW7Dbas",
        "outputId": "1a8c0865-f6fd-4fad-8cc9-96eb086bb3b3"
      },
      "execution_count": 40,
      "outputs": [
        {
          "output_type": "stream",
          "name": "stdout",
          "text": [
            "4.95\n"
          ]
        }
      ]
    },
    {
      "cell_type": "markdown",
      "source": [
        "mostrare le squadre che hanno vinto più scudetti della media"
      ],
      "metadata": {
        "id": "nhfoTBAKDjNQ"
      }
    },
    {
      "cell_type": "code",
      "source": [
        "mediaScudetti = mean(scudetti)\n",
        "for nScudetti in scudetti:\n",
        "  if nScudetti > mediaScudetti:\n",
        "    print(squadre[scudetti.index(nScudetti)])"
      ],
      "metadata": {
        "colab": {
          "base_uri": "https://localhost:8080/"
        },
        "id": "YuOUHe7sDon4",
        "outputId": "105d1d3a-f2fc-4842-deb9-7c064269407b"
      },
      "execution_count": 46,
      "outputs": [
        {
          "output_type": "stream",
          "name": "stdout",
          "text": [
            "Juventus\n",
            "Inter\n",
            "Inter\n",
            "Torino\n",
            "Torino\n"
          ]
        }
      ]
    },
    {
      "cell_type": "markdown",
      "source": [
        "mostrare il numero di squadre in seria a"
      ],
      "metadata": {
        "id": "iQf2R1M-Ewwi"
      }
    },
    {
      "cell_type": "code",
      "source": [
        "print(len(squadre))"
      ],
      "metadata": {
        "colab": {
          "base_uri": "https://localhost:8080/"
        },
        "id": "etZVlJPiE04d",
        "outputId": "d99d2239-dd25-4fab-d290-7efdb802da9d"
      },
      "execution_count": 16,
      "outputs": [
        {
          "output_type": "stream",
          "name": "stdout",
          "text": [
            "20\n"
          ]
        }
      ]
    },
    {
      "cell_type": "markdown",
      "source": [
        "invertire la lista scudetti"
      ],
      "metadata": {
        "id": "eXp3tDrOF1D0"
      }
    },
    {
      "cell_type": "code",
      "source": [
        "scudetti.reverse()\n",
        "print(scudetti)"
      ],
      "metadata": {
        "colab": {
          "base_uri": "https://localhost:8080/"
        },
        "id": "st9N6ne0Fxne",
        "outputId": "754cd469-7927-44a1-9772-8431c3e89de3"
      },
      "execution_count": 22,
      "outputs": [
        {
          "output_type": "stream",
          "name": "stdout",
          "text": [
            "[1, 7, 0, 0, 0, 0, 0, 7, 0, 1, 0, 2, 0, 0, 2, 3, 2, 19, 19, 36]\n"
          ]
        }
      ]
    },
    {
      "cell_type": "markdown",
      "source": [
        "controllare se il 100 è presente nella lista scudetti"
      ],
      "metadata": {
        "id": "S_oIGtx8GgKZ"
      }
    },
    {
      "cell_type": "code",
      "source": [
        "100 in scudetti"
      ],
      "metadata": {
        "colab": {
          "base_uri": "https://localhost:8080/"
        },
        "id": "BovFe-BzGj4c",
        "outputId": "a76312a3-3460-4804-927a-ea3a073cd741"
      },
      "execution_count": 26,
      "outputs": [
        {
          "output_type": "execute_result",
          "data": {
            "text/plain": [
              "False"
            ]
          },
          "metadata": {},
          "execution_count": 26
        }
      ]
    },
    {
      "cell_type": "markdown",
      "source": [
        "ESERCIZIO NUMERO 2"
      ],
      "metadata": {
        "id": "QUWoNsCHKyDg"
      }
    },
    {
      "cell_type": "markdown",
      "source": [
        "caricare in una lista 10 numeri casuali compresi tra 1 e 50"
      ],
      "metadata": {
        "id": "Fop3KegSK0Ps"
      }
    },
    {
      "cell_type": "code",
      "source": [
        "import random\n",
        "lista = [random.randint(1, 50) for num in range(10)]\n",
        "print(lista)"
      ],
      "metadata": {
        "colab": {
          "base_uri": "https://localhost:8080/"
        },
        "id": "zLc8UhBoK4l0",
        "outputId": "956ba1ec-0614-4dcd-cdf1-f266a9ba7ac8"
      },
      "execution_count": 8,
      "outputs": [
        {
          "output_type": "stream",
          "name": "stdout",
          "text": [
            "[39, 22, 3, 50, 44, 5, 41, 21, 25, 39]\n"
          ]
        }
      ]
    },
    {
      "cell_type": "markdown",
      "source": [
        "fare la somma degli elementi della lista, poi trovare la media"
      ],
      "metadata": {
        "id": "dhqc-t2CUaw0"
      }
    },
    {
      "cell_type": "code",
      "source": [
        "print(sum(lista))\n",
        "from statistics import mean\n",
        "print(mean(lista))"
      ],
      "metadata": {
        "colab": {
          "base_uri": "https://localhost:8080/"
        },
        "id": "AZyh5MkmUiS3",
        "outputId": "60734c4a-5401-4c8a-c530-a6bf9c7ed15d"
      },
      "execution_count": 3,
      "outputs": [
        {
          "output_type": "stream",
          "name": "stdout",
          "text": [
            "347\n",
            "34.7\n"
          ]
        }
      ]
    },
    {
      "cell_type": "markdown",
      "source": [
        "trovare gli elementi pari della lista e caricarli in un'altra e fare lo stesso coi numeri dispari"
      ],
      "metadata": {
        "id": "wXC7XgxwUpk8"
      }
    },
    {
      "cell_type": "code",
      "source": [
        "listaPari = []\n",
        "listaDispari = []\n",
        "for valore in lista:\n",
        "  if valore % 2 == 0:\n",
        "    listaPari.append(valore)\n",
        "  else:\n",
        "    listaDispari.append(valore)\n",
        "print(listaPari)\n",
        "print(listaDispari)"
      ],
      "metadata": {
        "colab": {
          "base_uri": "https://localhost:8080/"
        },
        "id": "PSh2FVZTU6Ey",
        "outputId": "445fd10a-8db9-497d-c249-9d82f297402c"
      },
      "execution_count": 9,
      "outputs": [
        {
          "output_type": "stream",
          "name": "stdout",
          "text": [
            "[22, 50, 44]\n",
            "[39, 3, 5, 41, 21, 25, 39]\n"
          ]
        }
      ]
    },
    {
      "cell_type": "markdown",
      "source": [
        "aumentare tutti i numeri di 2 dalla posizione 3 alla posizione 8"
      ],
      "metadata": {
        "id": "Qn8JAY6cWT7r"
      }
    },
    {
      "cell_type": "code",
      "source": [
        "lista[3:9] = [lista[i] + 2 for i in range(3, 9)]\n",
        "print(lista)\n"
      ],
      "metadata": {
        "colab": {
          "base_uri": "https://localhost:8080/"
        },
        "id": "03JrxLtHWZDy",
        "outputId": "2d341c73-5647-4719-9200-929f21cab0ab"
      },
      "execution_count": 11,
      "outputs": [
        {
          "output_type": "stream",
          "name": "stdout",
          "text": [
            "[39, 22, 3, 52, 46, 7, 43, 23, 27, 39]\n"
          ]
        }
      ]
    },
    {
      "cell_type": "markdown",
      "source": [
        "contare i numeri pari e i numeri dispari"
      ],
      "metadata": {
        "id": "In5SZ4CSW14p"
      }
    },
    {
      "cell_type": "code",
      "source": [
        "print(len(listaPari))\n",
        "print(len(listaDispari))"
      ],
      "metadata": {
        "colab": {
          "base_uri": "https://localhost:8080/"
        },
        "id": "oXidqR74W4V4",
        "outputId": "07a933b5-758b-4e2a-f445-654cc4398e83"
      },
      "execution_count": 12,
      "outputs": [
        {
          "output_type": "stream",
          "name": "stdout",
          "text": [
            "3\n",
            "7\n"
          ]
        }
      ]
    },
    {
      "cell_type": "markdown",
      "source": [
        "eliminare il contenuto di tutte le liste"
      ],
      "metadata": {
        "id": "LsOWTCZoXFRZ"
      }
    },
    {
      "cell_type": "code",
      "source": [
        "lista.clear()\n",
        "listaPari.clear()\n",
        "listaDispari.clear()"
      ],
      "metadata": {
        "id": "zoio_0wtXIGl"
      },
      "execution_count": null,
      "outputs": []
    }
  ]
}