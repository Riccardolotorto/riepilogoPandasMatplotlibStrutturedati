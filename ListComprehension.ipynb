{
  "nbformat": 4,
  "nbformat_minor": 0,
  "metadata": {
    "colab": {
      "provenance": [],
      "collapsed_sections": [],
      "authorship_tag": "ABX9TyN+nAchXXSlr7xmRMh37iwC",
      "include_colab_link": true
    },
    "kernelspec": {
      "name": "python3",
      "display_name": "Python 3"
    },
    "language_info": {
      "name": "python"
    }
  },
  "cells": [
    {
      "cell_type": "markdown",
      "metadata": {
        "id": "view-in-github",
        "colab_type": "text"
      },
      "source": [
        "<a href=\"https://colab.research.google.com/github/Riccardolotorto/Python/blob/main/ListComprehension.ipynb\" target=\"_parent\"><img src=\"https://colab.research.google.com/assets/colab-badge.svg\" alt=\"Open In Colab\"/></a>"
      ]
    },
    {
      "cell_type": "markdown",
      "source": [
        "List comprehension: è un metodo per caricare dati in una lista utilizzando un ciclo for all'interno della lista stessa"
      ],
      "metadata": {
        "id": "b09itWrCaP1N"
      }
    },
    {
      "cell_type": "markdown",
      "source": [
        "oggetto iterabile: qualsiasi oggetto su cui si può fare un ciclo "
      ],
      "metadata": {
        "id": "FrTfJw3obI08"
      }
    },
    {
      "cell_type": "markdown",
      "source": [
        "for inificato: for dentro un for"
      ],
      "metadata": {
        "id": "hmvKM3yEbpx9"
      }
    },
    {
      "cell_type": "markdown",
      "source": [
        "per poter usare la list comprehension bisogna saper usare il ciclo for"
      ],
      "metadata": {
        "id": "AOYdZDmze6Qj"
      }
    },
    {
      "cell_type": "code",
      "execution_count": null,
      "metadata": {
        "colab": {
          "base_uri": "https://localhost:8080/"
        },
        "id": "cJi9s7tzZrbo",
        "outputId": "b18013cf-f330-4dc0-988e-04ee58efd2ab"
      },
      "outputs": [
        {
          "output_type": "stream",
          "name": "stdout",
          "text": [
            "apple\n",
            "banana\n",
            "cherry\n"
          ]
        }
      ],
      "source": [
        "#mostra gli elementi di una lista\n",
        "fruits = [\"apple\", \"banana\", \"cherry\"]\n",
        "for x in fruits:\n",
        "  print(x)"
      ]
    },
    {
      "cell_type": "code",
      "source": [
        "#mostra le lettere di una parola\n",
        "for x in \"banana\":\n",
        "  print(x)"
      ],
      "metadata": {
        "colab": {
          "base_uri": "https://localhost:8080/"
        },
        "id": "Ts6S1HJxbQr-",
        "outputId": "fbf48956-01d4-451e-e0f7-a1b5bbb5d9fc"
      },
      "execution_count": null,
      "outputs": [
        {
          "output_type": "stream",
          "name": "stdout",
          "text": [
            "b\n",
            "a\n",
            "n\n",
            "a\n",
            "n\n",
            "a\n"
          ]
        }
      ]
    },
    {
      "cell_type": "code",
      "source": [
        "#for dentro un for: mostra sia gli elementi di una lista sia tutte le lettere\n",
        "fruits = [\"apple\", \"banana\", \"cherry\"]\n",
        "for parola in fruits:\n",
        "  print(parola)\n",
        "  for lettera in parola:\n",
        "    print(lettera)\n",
        "    "
      ],
      "metadata": {
        "colab": {
          "base_uri": "https://localhost:8080/"
        },
        "id": "7tfPbeW9bw9U",
        "outputId": "2c9e1c48-7620-49ea-fdb4-c6220e043d4e"
      },
      "execution_count": null,
      "outputs": [
        {
          "output_type": "stream",
          "name": "stdout",
          "text": [
            "apple\n",
            "a\n",
            "p\n",
            "p\n",
            "l\n",
            "e\n",
            "banana\n",
            "b\n",
            "a\n",
            "n\n",
            "a\n",
            "n\n",
            "a\n",
            "cherry\n",
            "c\n",
            "h\n",
            "e\n",
            "r\n",
            "r\n",
            "y\n"
          ]
        }
      ]
    },
    {
      "cell_type": "markdown",
      "source": [
        "funzione range: range(start, stop)\n",
        ",start e stop sono i due parametri obbligatori\n",
        ",c'è anche il paramentro step (che però non è obbligatorio)"
      ],
      "metadata": {
        "id": "1st0NcDgeI00"
      }
    },
    {
      "cell_type": "code",
      "source": [
        "#mostra i numeri da 0 a 5\n",
        "for x in range(6):\n",
        "  print(x)"
      ],
      "metadata": {
        "colab": {
          "base_uri": "https://localhost:8080/"
        },
        "id": "KIBXYr7YdMkM",
        "outputId": "80c3930c-e166-45f9-896a-27d34c1eb561"
      },
      "execution_count": null,
      "outputs": [
        {
          "output_type": "stream",
          "name": "stdout",
          "text": [
            "0\n",
            "1\n",
            "2\n",
            "3\n",
            "4\n",
            "5\n"
          ]
        }
      ]
    },
    {
      "cell_type": "code",
      "source": [
        "#mostra i numeri da 10 a 15\n",
        "for x in range(10, 16):\n",
        "  print(x)"
      ],
      "metadata": {
        "colab": {
          "base_uri": "https://localhost:8080/"
        },
        "id": "U03fkYdrdVCM",
        "outputId": "3e30a105-0b39-475b-f1e4-b480b503fb69"
      },
      "execution_count": null,
      "outputs": [
        {
          "output_type": "stream",
          "name": "stdout",
          "text": [
            "10\n",
            "11\n",
            "12\n",
            "13\n",
            "14\n",
            "15\n"
          ]
        }
      ]
    },
    {
      "cell_type": "code",
      "source": [
        "#mostra i numeri da 10 a 20 a due a due\n",
        "for x in range(10, 21, 2):\n",
        "  print(x)"
      ],
      "metadata": {
        "colab": {
          "base_uri": "https://localhost:8080/"
        },
        "id": "j3X7Lwraeezb",
        "outputId": "0de0f426-a056-41d1-bbcd-9c13015e7fe0"
      },
      "execution_count": null,
      "outputs": [
        {
          "output_type": "stream",
          "name": "stdout",
          "text": [
            "10\n",
            "12\n",
            "14\n",
            "16\n",
            "18\n",
            "20\n"
          ]
        }
      ]
    },
    {
      "cell_type": "code",
      "source": [
        "#mostra i numeri da 21 a 11 andando di -1 in -1\n",
        "for x in range(21, 10, -1):\n",
        "  print(x)"
      ],
      "metadata": {
        "colab": {
          "base_uri": "https://localhost:8080/"
        },
        "id": "imJ9EzhYelwr",
        "outputId": "8e18bdc1-3c57-47a6-952a-73744921ac13"
      },
      "execution_count": null,
      "outputs": [
        {
          "output_type": "stream",
          "name": "stdout",
          "text": [
            "21\n",
            "20\n",
            "19\n",
            "18\n",
            "17\n",
            "16\n",
            "15\n",
            "14\n",
            "13\n",
            "12\n",
            "11\n"
          ]
        }
      ]
    },
    {
      "cell_type": "markdown",
      "source": [
        "inizializzare una lista con i primi 10 numeri pari"
      ],
      "metadata": {
        "id": "inLSV3AJfWQL"
      }
    },
    {
      "cell_type": "code",
      "source": [
        "lista = [numero for numero in range(0, 20, 2)]\n",
        "print(lista)"
      ],
      "metadata": {
        "colab": {
          "base_uri": "https://localhost:8080/"
        },
        "id": "oDmgHVERfZm9",
        "outputId": "112dfc80-39e6-47a6-8719-f36ce17ac6ad"
      },
      "execution_count": null,
      "outputs": [
        {
          "output_type": "stream",
          "name": "stdout",
          "text": [
            "[0, 2, 4, 6, 8, 10, 12, 14, 16, 18]\n"
          ]
        }
      ]
    },
    {
      "cell_type": "markdown",
      "source": [
        "inizializzare una lista con i numeri da 1000 a 2000 (estremi compresi)"
      ],
      "metadata": {
        "id": "ZItZAcCgguXr"
      }
    },
    {
      "cell_type": "code",
      "source": [
        "lista = [numero for numero in range(1000, 2001)]\n",
        "print(lista)"
      ],
      "metadata": {
        "colab": {
          "base_uri": "https://localhost:8080/"
        },
        "id": "7omHm_Yug3es",
        "outputId": "d5ef4103-a709-4773-d370-a25a386d9ca0"
      },
      "execution_count": null,
      "outputs": [
        {
          "output_type": "stream",
          "name": "stdout",
          "text": [
            "[1000, 1001, 1002, 1003, 1004, 1005, 1006, 1007, 1008, 1009, 1010, 1011, 1012, 1013, 1014, 1015, 1016, 1017, 1018, 1019, 1020, 1021, 1022, 1023, 1024, 1025, 1026, 1027, 1028, 1029, 1030, 1031, 1032, 1033, 1034, 1035, 1036, 1037, 1038, 1039, 1040, 1041, 1042, 1043, 1044, 1045, 1046, 1047, 1048, 1049, 1050, 1051, 1052, 1053, 1054, 1055, 1056, 1057, 1058, 1059, 1060, 1061, 1062, 1063, 1064, 1065, 1066, 1067, 1068, 1069, 1070, 1071, 1072, 1073, 1074, 1075, 1076, 1077, 1078, 1079, 1080, 1081, 1082, 1083, 1084, 1085, 1086, 1087, 1088, 1089, 1090, 1091, 1092, 1093, 1094, 1095, 1096, 1097, 1098, 1099, 1100, 1101, 1102, 1103, 1104, 1105, 1106, 1107, 1108, 1109, 1110, 1111, 1112, 1113, 1114, 1115, 1116, 1117, 1118, 1119, 1120, 1121, 1122, 1123, 1124, 1125, 1126, 1127, 1128, 1129, 1130, 1131, 1132, 1133, 1134, 1135, 1136, 1137, 1138, 1139, 1140, 1141, 1142, 1143, 1144, 1145, 1146, 1147, 1148, 1149, 1150, 1151, 1152, 1153, 1154, 1155, 1156, 1157, 1158, 1159, 1160, 1161, 1162, 1163, 1164, 1165, 1166, 1167, 1168, 1169, 1170, 1171, 1172, 1173, 1174, 1175, 1176, 1177, 1178, 1179, 1180, 1181, 1182, 1183, 1184, 1185, 1186, 1187, 1188, 1189, 1190, 1191, 1192, 1193, 1194, 1195, 1196, 1197, 1198, 1199, 1200, 1201, 1202, 1203, 1204, 1205, 1206, 1207, 1208, 1209, 1210, 1211, 1212, 1213, 1214, 1215, 1216, 1217, 1218, 1219, 1220, 1221, 1222, 1223, 1224, 1225, 1226, 1227, 1228, 1229, 1230, 1231, 1232, 1233, 1234, 1235, 1236, 1237, 1238, 1239, 1240, 1241, 1242, 1243, 1244, 1245, 1246, 1247, 1248, 1249, 1250, 1251, 1252, 1253, 1254, 1255, 1256, 1257, 1258, 1259, 1260, 1261, 1262, 1263, 1264, 1265, 1266, 1267, 1268, 1269, 1270, 1271, 1272, 1273, 1274, 1275, 1276, 1277, 1278, 1279, 1280, 1281, 1282, 1283, 1284, 1285, 1286, 1287, 1288, 1289, 1290, 1291, 1292, 1293, 1294, 1295, 1296, 1297, 1298, 1299, 1300, 1301, 1302, 1303, 1304, 1305, 1306, 1307, 1308, 1309, 1310, 1311, 1312, 1313, 1314, 1315, 1316, 1317, 1318, 1319, 1320, 1321, 1322, 1323, 1324, 1325, 1326, 1327, 1328, 1329, 1330, 1331, 1332, 1333, 1334, 1335, 1336, 1337, 1338, 1339, 1340, 1341, 1342, 1343, 1344, 1345, 1346, 1347, 1348, 1349, 1350, 1351, 1352, 1353, 1354, 1355, 1356, 1357, 1358, 1359, 1360, 1361, 1362, 1363, 1364, 1365, 1366, 1367, 1368, 1369, 1370, 1371, 1372, 1373, 1374, 1375, 1376, 1377, 1378, 1379, 1380, 1381, 1382, 1383, 1384, 1385, 1386, 1387, 1388, 1389, 1390, 1391, 1392, 1393, 1394, 1395, 1396, 1397, 1398, 1399, 1400, 1401, 1402, 1403, 1404, 1405, 1406, 1407, 1408, 1409, 1410, 1411, 1412, 1413, 1414, 1415, 1416, 1417, 1418, 1419, 1420, 1421, 1422, 1423, 1424, 1425, 1426, 1427, 1428, 1429, 1430, 1431, 1432, 1433, 1434, 1435, 1436, 1437, 1438, 1439, 1440, 1441, 1442, 1443, 1444, 1445, 1446, 1447, 1448, 1449, 1450, 1451, 1452, 1453, 1454, 1455, 1456, 1457, 1458, 1459, 1460, 1461, 1462, 1463, 1464, 1465, 1466, 1467, 1468, 1469, 1470, 1471, 1472, 1473, 1474, 1475, 1476, 1477, 1478, 1479, 1480, 1481, 1482, 1483, 1484, 1485, 1486, 1487, 1488, 1489, 1490, 1491, 1492, 1493, 1494, 1495, 1496, 1497, 1498, 1499, 1500, 1501, 1502, 1503, 1504, 1505, 1506, 1507, 1508, 1509, 1510, 1511, 1512, 1513, 1514, 1515, 1516, 1517, 1518, 1519, 1520, 1521, 1522, 1523, 1524, 1525, 1526, 1527, 1528, 1529, 1530, 1531, 1532, 1533, 1534, 1535, 1536, 1537, 1538, 1539, 1540, 1541, 1542, 1543, 1544, 1545, 1546, 1547, 1548, 1549, 1550, 1551, 1552, 1553, 1554, 1555, 1556, 1557, 1558, 1559, 1560, 1561, 1562, 1563, 1564, 1565, 1566, 1567, 1568, 1569, 1570, 1571, 1572, 1573, 1574, 1575, 1576, 1577, 1578, 1579, 1580, 1581, 1582, 1583, 1584, 1585, 1586, 1587, 1588, 1589, 1590, 1591, 1592, 1593, 1594, 1595, 1596, 1597, 1598, 1599, 1600, 1601, 1602, 1603, 1604, 1605, 1606, 1607, 1608, 1609, 1610, 1611, 1612, 1613, 1614, 1615, 1616, 1617, 1618, 1619, 1620, 1621, 1622, 1623, 1624, 1625, 1626, 1627, 1628, 1629, 1630, 1631, 1632, 1633, 1634, 1635, 1636, 1637, 1638, 1639, 1640, 1641, 1642, 1643, 1644, 1645, 1646, 1647, 1648, 1649, 1650, 1651, 1652, 1653, 1654, 1655, 1656, 1657, 1658, 1659, 1660, 1661, 1662, 1663, 1664, 1665, 1666, 1667, 1668, 1669, 1670, 1671, 1672, 1673, 1674, 1675, 1676, 1677, 1678, 1679, 1680, 1681, 1682, 1683, 1684, 1685, 1686, 1687, 1688, 1689, 1690, 1691, 1692, 1693, 1694, 1695, 1696, 1697, 1698, 1699, 1700, 1701, 1702, 1703, 1704, 1705, 1706, 1707, 1708, 1709, 1710, 1711, 1712, 1713, 1714, 1715, 1716, 1717, 1718, 1719, 1720, 1721, 1722, 1723, 1724, 1725, 1726, 1727, 1728, 1729, 1730, 1731, 1732, 1733, 1734, 1735, 1736, 1737, 1738, 1739, 1740, 1741, 1742, 1743, 1744, 1745, 1746, 1747, 1748, 1749, 1750, 1751, 1752, 1753, 1754, 1755, 1756, 1757, 1758, 1759, 1760, 1761, 1762, 1763, 1764, 1765, 1766, 1767, 1768, 1769, 1770, 1771, 1772, 1773, 1774, 1775, 1776, 1777, 1778, 1779, 1780, 1781, 1782, 1783, 1784, 1785, 1786, 1787, 1788, 1789, 1790, 1791, 1792, 1793, 1794, 1795, 1796, 1797, 1798, 1799, 1800, 1801, 1802, 1803, 1804, 1805, 1806, 1807, 1808, 1809, 1810, 1811, 1812, 1813, 1814, 1815, 1816, 1817, 1818, 1819, 1820, 1821, 1822, 1823, 1824, 1825, 1826, 1827, 1828, 1829, 1830, 1831, 1832, 1833, 1834, 1835, 1836, 1837, 1838, 1839, 1840, 1841, 1842, 1843, 1844, 1845, 1846, 1847, 1848, 1849, 1850, 1851, 1852, 1853, 1854, 1855, 1856, 1857, 1858, 1859, 1860, 1861, 1862, 1863, 1864, 1865, 1866, 1867, 1868, 1869, 1870, 1871, 1872, 1873, 1874, 1875, 1876, 1877, 1878, 1879, 1880, 1881, 1882, 1883, 1884, 1885, 1886, 1887, 1888, 1889, 1890, 1891, 1892, 1893, 1894, 1895, 1896, 1897, 1898, 1899, 1900, 1901, 1902, 1903, 1904, 1905, 1906, 1907, 1908, 1909, 1910, 1911, 1912, 1913, 1914, 1915, 1916, 1917, 1918, 1919, 1920, 1921, 1922, 1923, 1924, 1925, 1926, 1927, 1928, 1929, 1930, 1931, 1932, 1933, 1934, 1935, 1936, 1937, 1938, 1939, 1940, 1941, 1942, 1943, 1944, 1945, 1946, 1947, 1948, 1949, 1950, 1951, 1952, 1953, 1954, 1955, 1956, 1957, 1958, 1959, 1960, 1961, 1962, 1963, 1964, 1965, 1966, 1967, 1968, 1969, 1970, 1971, 1972, 1973, 1974, 1975, 1976, 1977, 1978, 1979, 1980, 1981, 1982, 1983, 1984, 1985, 1986, 1987, 1988, 1989, 1990, 1991, 1992, 1993, 1994, 1995, 1996, 1997, 1998, 1999, 2000]\n"
          ]
        }
      ]
    },
    {
      "cell_type": "markdown",
      "source": [
        "inizializzare una lista con i numeri da 100 a 0 (estremi esclusi)"
      ],
      "metadata": {
        "id": "26MvDZSphNmE"
      }
    },
    {
      "cell_type": "code",
      "source": [
        "lista = [numero for numero in range(99, 0, -1)]\n",
        "print(lista)"
      ],
      "metadata": {
        "colab": {
          "base_uri": "https://localhost:8080/"
        },
        "id": "rJAlcuP6hSDT",
        "outputId": "b7c33077-8fda-44fa-a192-54bba58fb71f"
      },
      "execution_count": null,
      "outputs": [
        {
          "output_type": "stream",
          "name": "stdout",
          "text": [
            "[99, 98, 97, 96, 95, 94, 93, 92, 91, 90, 89, 88, 87, 86, 85, 84, 83, 82, 81, 80, 79, 78, 77, 76, 75, 74, 73, 72, 71, 70, 69, 68, 67, 66, 65, 64, 63, 62, 61, 60, 59, 58, 57, 56, 55, 54, 53, 52, 51, 50, 49, 48, 47, 46, 45, 44, 43, 42, 41, 40, 39, 38, 37, 36, 35, 34, 33, 32, 31, 30, 29, 28, 27, 26, 25, 24, 23, 22, 21, 20, 19, 18, 17, 16, 15, 14, 13, 12, 11, 10, 9, 8, 7, 6, 5, 4, 3, 2, 1]\n"
          ]
        }
      ]
    },
    {
      "cell_type": "markdown",
      "source": [
        "scrivere un programma che permetta all'utente di cariare una lista con i primi n numeri interi, con n inserito dall'utente. Calcolare poi la somma degli elementi presenti nella lista"
      ],
      "metadata": {
        "id": "Q8roV10_hzJ7"
      }
    },
    {
      "cell_type": "code",
      "source": [
        "numeroInserito = int(input(\"inserire un numero: \"))\n",
        "lista = [numero for numero in range(1, numeroInserito + 1)]\n",
        "print(lista)\n",
        "print(\"la somma è:\", sum(lista))"
      ],
      "metadata": {
        "colab": {
          "base_uri": "https://localhost:8080/"
        },
        "id": "Qd5nMvnliDMm",
        "outputId": "d03b023d-a9f4-42b4-8398-e221a93cf392"
      },
      "execution_count": null,
      "outputs": [
        {
          "output_type": "stream",
          "name": "stdout",
          "text": [
            "inserire un numero: 5\n",
            "[1, 2, 3, 4, 5]\n",
            "la somma è: 15\n"
          ]
        }
      ]
    },
    {
      "cell_type": "code",
      "source": [
        "n1 = 10 \n",
        "n2 = 8 \n",
        "massimo = n1 if n1 > n2 else n2\n",
        "print(massimo)"
      ],
      "metadata": {
        "colab": {
          "base_uri": "https://localhost:8080/"
        },
        "id": "S6TqzYANmh5K",
        "outputId": "6ccd57a9-3561-4a8c-f517-743e9d6604fe"
      },
      "execution_count": null,
      "outputs": [
        {
          "output_type": "stream",
          "name": "stdout",
          "text": [
            "10\n"
          ]
        }
      ]
    },
    {
      "cell_type": "code",
      "source": [
        "n1 = 10 \n",
        "n2 = 8 \n",
        "if n1 > n2:\n",
        "  massimo = n1\n",
        "else:\n",
        "  massimo = n2\n",
        "print(massimo)"
      ],
      "metadata": {
        "colab": {
          "base_uri": "https://localhost:8080/"
        },
        "id": "p33gtn50nME5",
        "outputId": "3ad24ded-20a5-484e-cc19-c82aa3d5b1dd"
      },
      "execution_count": null,
      "outputs": [
        {
          "output_type": "stream",
          "name": "stdout",
          "text": [
            "10\n"
          ]
        }
      ]
    },
    {
      "cell_type": "markdown",
      "source": [
        "caricare in una lista i primi 100 numeri interi, visualizzare la lista e caricare in un'altra lista solo i multipli di 5 presenti nella prima lista"
      ],
      "metadata": {
        "id": "z1ngbsvhnxDp"
      }
    },
    {
      "cell_type": "code",
      "source": [
        "lista = [numero for numero in range(101)]\n",
        "print(lista)\n",
        "lista2 = []\n",
        "for elemento in lista:\n",
        "  if elemento % 5 == 0:\n",
        "    lista2.append(elemento)\n",
        "print(lista2)"
      ],
      "metadata": {
        "colab": {
          "base_uri": "https://localhost:8080/"
        },
        "id": "XH5PqRd9n9-x",
        "outputId": "9e1afe50-efb7-436a-d303-315a7d5516fb"
      },
      "execution_count": null,
      "outputs": [
        {
          "output_type": "stream",
          "name": "stdout",
          "text": [
            "[0, 1, 2, 3, 4, 5, 6, 7, 8, 9, 10, 11, 12, 13, 14, 15, 16, 17, 18, 19, 20, 21, 22, 23, 24, 25, 26, 27, 28, 29, 30, 31, 32, 33, 34, 35, 36, 37, 38, 39, 40, 41, 42, 43, 44, 45, 46, 47, 48, 49, 50, 51, 52, 53, 54, 55, 56, 57, 58, 59, 60, 61, 62, 63, 64, 65, 66, 67, 68, 69, 70, 71, 72, 73, 74, 75, 76, 77, 78, 79, 80, 81, 82, 83, 84, 85, 86, 87, 88, 89, 90, 91, 92, 93, 94, 95, 96, 97, 98, 99, 100]\n",
            "[0, 5, 10, 15, 20, 25, 30, 35, 40, 45, 50, 55, 60, 65, 70, 75, 80, 85, 90, 95, 100]\n"
          ]
        }
      ]
    },
    {
      "cell_type": "markdown",
      "source": [
        "prendere in considerazione i dati su temperature e precipitazioni della verifica e trovare:\n",
        "1- le ore dove la probabilità è 0\n",
        "2- le ore dove la temperatura è superiore a 20 gradi"
      ],
      "metadata": {
        "id": "h4Nadg0nrjZc"
      }
    },
    {
      "cell_type": "code",
      "source": [
        "T = [11, 11, 10, 9, 11, 12, 12, 12, 13, 14, 15, 17, 19, 21, 24, 24, 24, 22, 20, 18, 16, 14, 12, 11]\n",
        "P = [90, 90, 90, 70, 70, 30, 30, 10, 10, 0, 0, 0, 0, 0, 0, 0, 0, 0, 0, 5, 10, 15, 20, 25]\n",
        "ora = 1\n",
        "for precipitazione in P:\n",
        "  if precipitazione == 0:\n",
        "    print(ora)\n",
        "  ora += 1\n",
        "print()\n",
        "ora = 1\n",
        "for temperatura in T:\n",
        "  if temperatura >= 20:\n",
        "    print(ora)\n",
        "  ora += 1"
      ],
      "metadata": {
        "colab": {
          "base_uri": "https://localhost:8080/"
        },
        "id": "f2oiMMROriiI",
        "outputId": "b468d1b7-02b1-46e9-c582-9c7b23a36205"
      },
      "execution_count": 68,
      "outputs": [
        {
          "output_type": "stream",
          "name": "stdout",
          "text": [
            "10\n",
            "11\n",
            "12\n",
            "13\n",
            "14\n",
            "15\n",
            "16\n",
            "17\n",
            "18\n",
            "19\n",
            "\n",
            "14\n",
            "15\n",
            "16\n",
            "17\n",
            "18\n",
            "19\n"
          ]
        }
      ]
    },
    {
      "cell_type": "markdown",
      "source": [
        "scrivere un programma che aumenti di un grado tutte le temperature comprese tra le 10 e le 18 "
      ],
      "metadata": {
        "id": "X43_CbOewZPH"
      }
    },
    {
      "cell_type": "code",
      "source": [
        "for aumento in range(9, 18):\n",
        "  T[aumento] += 1\n",
        "print(T)"
      ],
      "metadata": {
        "id": "STVRHpZ2wuYH",
        "colab": {
          "base_uri": "https://localhost:8080/"
        },
        "outputId": "cf3759fc-d08d-4974-9b04-3c411cd4265f"
      },
      "execution_count": 56,
      "outputs": [
        {
          "output_type": "stream",
          "name": "stdout",
          "text": [
            "[11, 11, 10, 9, 11, 12, 12, 12, 13, 15, 16, 18, 20, 22, 25, 25, 25, 23, 20, 18, 16, 14, 12, 11]\n"
          ]
        }
      ]
    },
    {
      "cell_type": "code",
      "source": [
        "#soluzione sbagliata perché fa vedere solo le temperature aumentate \n",
        "T1 = [T[i] + 1 for i in range(9, 18)]\n",
        "print(T1)"
      ],
      "metadata": {
        "colab": {
          "base_uri": "https://localhost:8080/"
        },
        "id": "8JhjZQtdZ5n-",
        "outputId": "94cf28ee-82e7-4daf-d969-83ffb42afb48"
      },
      "execution_count": 62,
      "outputs": [
        {
          "output_type": "stream",
          "name": "stdout",
          "text": [
            "[15, 16, 18, 20, 22, 25, 25, 25, 23]\n"
          ]
        }
      ]
    },
    {
      "cell_type": "code",
      "source": [
        "#soluzione giusta usando la list comprehension\n",
        "T[9:18] = [T[i] + 1 for i in range(9, 18)]\n",
        "print(T)"
      ],
      "metadata": {
        "colab": {
          "base_uri": "https://localhost:8080/"
        },
        "id": "PLX6j03_bGG0",
        "outputId": "a01959cb-ab03-462b-c022-19c852946129"
      },
      "execution_count": 60,
      "outputs": [
        {
          "output_type": "stream",
          "name": "stdout",
          "text": [
            "[11, 11, 10, 9, 11, 12, 12, 12, 13, 15, 16, 18, 20, 22, 25, 25, 25, 23, 20, 18, 16, 14, 12, 11]\n"
          ]
        }
      ]
    },
    {
      "cell_type": "markdown",
      "source": [
        "scrivere un programma che conti il numero di volte in cui la temperatura è stata maggiore di 15 gradi e minore di 20 "
      ],
      "metadata": {
        "id": "KT63GTvPwuoG"
      }
    },
    {
      "cell_type": "code",
      "source": [
        "conto = 0 \n",
        "for contatore in T:\n",
        "  if contatore >= 15 and contatore <= 20:\n",
        "      conto = conto + 1\n",
        "print(conto)"
      ],
      "metadata": {
        "id": "DPG2ZAllxAbW",
        "colab": {
          "base_uri": "https://localhost:8080/"
        },
        "outputId": "b7555e2a-562e-400f-e714-8ba08adfaf17"
      },
      "execution_count": null,
      "outputs": [
        {
          "output_type": "stream",
          "name": "stdout",
          "text": [
            "6\n"
          ]
        }
      ]
    },
    {
      "cell_type": "markdown",
      "source": [
        "scrivere un programma che per ogni ora sommi i valori della temperatura e quelli delle precipitazione"
      ],
      "metadata": {
        "id": "9qFIy4TvxAuG"
      }
    },
    {
      "cell_type": "code",
      "source": [
        "somma = []\n",
        "for i in range(0, 24):\n",
        "  somma.append(T[i] + P[i])\n",
        "print(somma)"
      ],
      "metadata": {
        "id": "P5bS7JP-xMd_",
        "colab": {
          "base_uri": "https://localhost:8080/"
        },
        "outputId": "64d63724-9ac8-4d16-a4d9-a6eeaf817b1f"
      },
      "execution_count": 67,
      "outputs": [
        {
          "output_type": "stream",
          "name": "stdout",
          "text": [
            "[101, 101, 100, 79, 81, 42, 42, 22, 23, 14, 15, 17, 19, 21, 24, 24, 24, 22, 20, 23, 26, 29, 32, 36]\n"
          ]
        }
      ]
    },
    {
      "cell_type": "code",
      "source": [
        "#forma ridotta usando la list comprehension\n",
        "somma = [T[i] + P[i] for i in range(len(T))]\n",
        "print(somma)"
      ],
      "metadata": {
        "colab": {
          "base_uri": "https://localhost:8080/"
        },
        "id": "Vu79Ek18l0Ka",
        "outputId": "e4a18a81-dc3b-4edc-a9ba-4675fc78f6c4"
      },
      "execution_count": 70,
      "outputs": [
        {
          "output_type": "stream",
          "name": "stdout",
          "text": [
            "[101, 101, 100, 79, 81, 42, 42, 22, 23, 14, 15, 17, 19, 21, 24, 24, 24, 22, 20, 23, 26, 29, 32, 36]\n"
          ]
        }
      ]
    },
    {
      "cell_type": "markdown",
      "source": [
        "visualizzare una lista contente 20 numeri interi casuali compresi tra 20 e 30"
      ],
      "metadata": {
        "id": "ju5jdSWAm25r"
      }
    },
    {
      "cell_type": "code",
      "source": [
        "import random\n",
        "casuali = []\n",
        "for j in range(20):\n",
        "  casuali.append(random.randint(20, 30))\n",
        "print(casuali)"
      ],
      "metadata": {
        "colab": {
          "base_uri": "https://localhost:8080/"
        },
        "id": "doUkPLAkm1fi",
        "outputId": "dd180110-91fe-4879-c30c-db8df969d088"
      },
      "execution_count": 76,
      "outputs": [
        {
          "output_type": "stream",
          "name": "stdout",
          "text": [
            "[22, 24, 20, 24, 27, 29, 23, 21, 24, 28, 28, 20, 25, 24, 29, 21, 24, 20, 29, 27]\n"
          ]
        }
      ]
    },
    {
      "cell_type": "code",
      "source": [
        "#metodo con la list comprehension\n",
        "import random \n",
        "casuale = [random.randint(20, 30) for j in range(20)]\n",
        "print(casuale)"
      ],
      "metadata": {
        "colab": {
          "base_uri": "https://localhost:8080/"
        },
        "id": "bj9EvTtvoXEy",
        "outputId": "2491cd80-32d0-4785-dc42-6feb33f7072f"
      },
      "execution_count": 81,
      "outputs": [
        {
          "output_type": "stream",
          "name": "stdout",
          "text": [
            "[20, 21, 30, 27, 24, 24, 24, 29, 30, 30, 29, 27, 30, 22, 29, 28, 21, 24, 28, 23]\n"
          ]
        }
      ]
    },
    {
      "cell_type": "code",
      "source": [
        "#metodo usando il metodo randrange\n",
        "import random \n",
        "casuale = [random.randrange(20, 31) for j in range(20)]\n",
        "print(casuale)"
      ],
      "metadata": {
        "colab": {
          "base_uri": "https://localhost:8080/"
        },
        "id": "I2QuiOi7qYrh",
        "outputId": "9bcd29fc-0d7b-4328-b149-95bf4e2c2216"
      },
      "execution_count": 80,
      "outputs": [
        {
          "output_type": "stream",
          "name": "stdout",
          "text": [
            "[21, 28, 24, 25, 23, 27, 20, 24, 27, 23, 30, 25, 28, 21, 20, 26, 26, 24, 29, 23]\n"
          ]
        }
      ]
    },
    {
      "cell_type": "markdown",
      "source": [
        "generare 100 numeri casuali interi da memorizzare in una lista. Creare poi altre due liste, una contente valori pari e l'altra i valori dispari"
      ],
      "metadata": {
        "id": "x6rt2fz_qsDj"
      }
    },
    {
      "cell_type": "code",
      "source": [
        "import random \n",
        "casuale100 = [random.randint(1, 100) for j in range(100)]\n",
        "print(casuale100)\n",
        "nPari = []\n",
        "nDispari = []\n",
        "for pari in casuale100:\n",
        "  if pari % 2 == 0:\n",
        "    nPari.append(pari)\n",
        "  else: \n",
        "    nDispari.append(pari)\n",
        "print(nPari)\n",
        "print(nDispari)"
      ],
      "metadata": {
        "colab": {
          "base_uri": "https://localhost:8080/"
        },
        "id": "iwRv9h5Qq7Sw",
        "outputId": "9a25c92f-4ae6-4094-8377-b5be3b208db5"
      },
      "execution_count": 89,
      "outputs": [
        {
          "output_type": "stream",
          "name": "stdout",
          "text": [
            "[61, 55, 67, 58, 74, 44, 47, 65, 80, 20, 96, 66, 55, 69, 2, 70, 16, 33, 93, 100, 7, 10, 23, 58, 56, 81, 17, 18, 11, 55, 45, 23, 70, 35, 91, 56, 40, 87, 58, 56, 87, 20, 58, 73, 97, 96, 36, 8, 55, 31, 17, 15, 88, 10, 33, 79, 94, 90, 100, 73, 87, 71, 84, 4, 75, 54, 97, 49, 14, 22, 13, 6, 99, 89, 60, 81, 89, 44, 60, 86, 30, 3, 9, 33, 44, 50, 52, 76, 92, 25, 83, 29, 35, 11, 28, 60, 98, 43, 59, 82]\n",
            "[58, 74, 44, 80, 20, 96, 66, 2, 70, 16, 100, 10, 58, 56, 18, 70, 56, 40, 58, 56, 20, 58, 96, 36, 8, 88, 10, 94, 90, 100, 84, 4, 54, 14, 22, 6, 60, 44, 60, 86, 30, 44, 50, 52, 76, 92, 28, 60, 98, 82]\n",
            "[61, 55, 67, 47, 65, 55, 69, 33, 93, 7, 23, 81, 17, 11, 55, 45, 23, 35, 91, 87, 87, 73, 97, 55, 31, 17, 15, 33, 79, 73, 87, 71, 75, 97, 49, 13, 99, 89, 81, 89, 3, 9, 33, 25, 83, 29, 35, 11, 43, 59]\n"
          ]
        }
      ]
    }
  ]
}