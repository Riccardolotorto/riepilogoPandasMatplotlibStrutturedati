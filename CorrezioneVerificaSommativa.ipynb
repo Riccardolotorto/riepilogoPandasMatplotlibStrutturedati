{
  "nbformat": 4,
  "nbformat_minor": 0,
  "metadata": {
    "colab": {
      "provenance": [],
      "collapsed_sections": [
        "0VFLzFT8Anal"
      ],
      "authorship_tag": "ABX9TyN+abVQLTlt2Vd/dtqFBH5J",
      "include_colab_link": true
    },
    "kernelspec": {
      "name": "python3",
      "display_name": "Python 3"
    },
    "language_info": {
      "name": "python"
    }
  },
  "cells": [
    {
      "cell_type": "markdown",
      "metadata": {
        "id": "view-in-github",
        "colab_type": "text"
      },
      "source": [
        "<a href=\"https://colab.research.google.com/github/Riccardolotorto/riepilogoPandasMatplotlibStrutturedati/blob/main/CorrezioneVerificaSommativa.ipynb\" target=\"_parent\"><img src=\"https://colab.research.google.com/assets/colab-badge.svg\" alt=\"Open In Colab\"/></a>"
      ]
    },
    {
      "cell_type": "markdown",
      "source": [
        "#esercizio 1"
      ],
      "metadata": {
        "id": "0VFLzFT8Anal"
      }
    },
    {
      "cell_type": "markdown",
      "source": [
        "Un gruppo di amici ha trascorso il ponte di sant’Ambrogio presso una famosa località sciistica e hanno voluto creare una cassa comune in cui mettere, al bisogno, i soldi da utilizzare per tutte le spese (vitto, alloggio, trasporti, impianti sciistici, …). In particolare, i contributi dei vari amici sono stati i seguenti:\n",
        "Aldo ha contribuito diverse volte, versando 10€, 20€, 40€, 100€ e 5€\n",
        "Anche Gianni ha contribuito diverse volte, versando 50€, 50€, 25€ e 30€\n",
        "Andrea ha dato due soli contributi, versando 200€ e 150€\n",
        "Miki infine ha versato molto spesso poche cifre: 5€, 5€, 10€, 15€, 5€, 5€, 10€, 5€ e 20€\n",
        "Scegliere una struttura dati (una sola) che possa contenere tutte le informazioni e chiamarla “cassaComune”. Utilizzare poi questa struttura dati e scrivere il codice per estrarre le seguenti informazioni\n"
      ],
      "metadata": {
        "id": "YkqaVh1hBgPQ"
      }
    },
    {
      "cell_type": "code",
      "source": [
        "#metodo con un solo dizionario\n",
        "cassaComune = {\"Aldo\": [10, 20, 40, 100, 5],\n",
        "               \"Gianni\": [50, 50, 25, 30],\n",
        "               \"Andrea\": [200, 150],\n",
        "               \"Miki\": [5, 5, 10, 15, 5, 5, 10, 5, 20]}"
      ],
      "metadata": {
        "id": "AgNuueg1BrNM"
      },
      "execution_count": 1,
      "outputs": []
    },
    {
      "cell_type": "code",
      "execution_count": null,
      "metadata": {
        "id": "F8egDLOAASOq"
      },
      "outputs": [],
      "source": [
        "#gli ultimi due versamenti di ogni amico: visualizzare in nome e i versamenti\n",
        "for amico, versamenti in cassaComune.items():\n",
        "  print(amico, \"-\", versamenti[-2:])"
      ]
    },
    {
      "cell_type": "code",
      "source": [
        "#il totale versato da ogni amico: visualizzare in nome e il totale\n",
        "for amico, versamenti in cassaComune.items():\n",
        "  print(amico, \"-\", sum(versamenti))"
      ],
      "metadata": {
        "id": "GZmzKCpqDO2c"
      },
      "execution_count": null,
      "outputs": []
    },
    {
      "cell_type": "code",
      "source": [
        "#l’amico che ha versato di più\n",
        "listaSoldi = []\n",
        "for amico, versamenti in cassaComune.items():\n",
        "  listaSoldi.append(sum(versamenti))\n",
        "massimo = max(listaSoldi)\n",
        "for amico, versamenti in cassaComune.items():\n",
        "  if sum(versamenti) == massimo:\n",
        "    print(amico)"
      ],
      "metadata": {
        "id": "DD4kMWHrDWIU"
      },
      "execution_count": null,
      "outputs": []
    },
    {
      "cell_type": "code",
      "source": [
        "#dato il nome di un amico, inserito dall’utente, visualizzare i suoi versamenti a partire dal minore fino al maggiore. Controllare che il nome dell’amico sia presente, altrimenti dare un messaggio di errore opportuno\n",
        "ni = input(\"inserire un nome: \")\n",
        "if ni in cassaComune.keys():\n",
        "  print(ni, \"-\", sorted(cassaComune[ni]))\n",
        "else:\n",
        "  print(\"il nome non è presente\")"
      ],
      "metadata": {
        "id": "dteL1MGPD-39"
      },
      "execution_count": null,
      "outputs": []
    },
    {
      "cell_type": "code",
      "source": [
        "#Andrea ha ottenuto un rimborso premio delle sue spese: eliminarlo dalla struttura dati\n",
        "del cassaComune[\"Andrea\"]"
      ],
      "metadata": {
        "id": "OiHVDfZWGqkl"
      },
      "execution_count": 14,
      "outputs": []
    },
    {
      "cell_type": "code",
      "source": [
        "#metodo lista di dizionari\n",
        "cassaComune2 = [\n",
        "    {\n",
        "        \"nome\":\"Aldo\",\n",
        "        \"contributi\": [10, 20, 40, 100, 5]\n",
        "    },\n",
        "    {\n",
        "        \"nome\":\"Gianni\",\n",
        "        \"contributi\": [50, 50, 25, 30]\n",
        "    },\n",
        "    {\n",
        "        \"nome\":\"Andrea\",\n",
        "        \"contributi\": [200, 150]\n",
        "    },\n",
        "    {\n",
        "        \"nome\":\"Miki\",\n",
        "        \"contributi\": [5, 5, 10, 15, 5, 5, 10, 5, 20]\n",
        "    }\n",
        "]"
      ],
      "metadata": {
        "id": "H8YLkH08HL88"
      },
      "execution_count": 16,
      "outputs": []
    },
    {
      "cell_type": "code",
      "source": [
        "#gli ultimi due versamenti di ogni amico: visualizzare in nome e i versamenti\n",
        "for indice in range(len(cassaComune2)):\n",
        "  print(cassaComune2[indice][\"nome\"], cassaComune2[indice][\"contributi\"][-2:])"
      ],
      "metadata": {
        "id": "ps-s4Z4tHh-c"
      },
      "execution_count": null,
      "outputs": []
    },
    {
      "cell_type": "code",
      "source": [
        "#il totale versato da ogni amico: visualizzare in nome e il totale\n",
        "for indice in range(len(cassaComune2)):\n",
        "  print(cassaComune2[indice][\"nome\"], sum(cassaComune2[indice][\"contributi\"]))"
      ],
      "metadata": {
        "id": "TLvRfY1IH6OE"
      },
      "execution_count": null,
      "outputs": []
    },
    {
      "cell_type": "code",
      "source": [
        "#l’amico che ha versato di più\n",
        "listaVersamenti = [sum(cassaComune2[indice][\"contributi\"]) for indice in range(len(cassaComune2))]\n",
        "massimo = max(listaVersamenti)\n",
        "for dizionario in cassaComune2:\n",
        "  if massimo == sum(dizionario[\"contributi\"]):\n",
        "      print(dizionario[\"nome\"])"
      ],
      "metadata": {
        "id": "qasCzCOYIf4e"
      },
      "execution_count": null,
      "outputs": []
    },
    {
      "cell_type": "code",
      "source": [
        "#dato il nome di un amico, inserito dall’utente, visualizzare i suoi versamenti a partire dal minore fino al maggiore. Controllare che il nome dell’amico sia presente, altrimenti dare un messaggio di errore opportuno\n",
        "ni = input(\"inserire un nome: \")\n",
        "x = False\n",
        "for amici in cassaComune2:\n",
        "  if ni == amici[\"nome\"]:\n",
        "    print(sorted(amici[\"contributi\"]))\n",
        "    x = True\n",
        "if x == False:\n",
        "  print(\"nome non presente\")"
      ],
      "metadata": {
        "id": "xjt93V1xOYGs"
      },
      "execution_count": null,
      "outputs": []
    },
    {
      "cell_type": "code",
      "source": [
        "ni = input(\"inserire un nome: \")\n",
        "x = False\n",
        "i = 0\n",
        "while x == False and i < len(cassaComune2): \n",
        "  if ni == cassaComune2[i][\"nome\"]:\n",
        "    print(sorted(cassaComune2[i][\"contributi\"]))\n",
        "    x = True\n",
        "  i += 1\n",
        "if x == False:\n",
        "  print(\"nome non presente\")"
      ],
      "metadata": {
        "id": "9ZEC6z7KQfC8"
      },
      "execution_count": null,
      "outputs": []
    },
    {
      "cell_type": "code",
      "source": [
        "#Andrea ha ottenuto un rimborso premio delle sue spese: eliminarlo dalla struttura dati\n",
        "for indice in range(len(cassaComune2)):\n",
        "  if cassaComune2[indice][\"nome\"] == \"Andrea\":\n",
        "    del cassaComune2[indice]"
      ],
      "metadata": {
        "id": "1qVXtuZKRzV7"
      },
      "execution_count": 39,
      "outputs": []
    },
    {
      "cell_type": "code",
      "source": [
        "cassaComune2"
      ],
      "metadata": {
        "id": "pXsWnygBSEb7"
      },
      "execution_count": null,
      "outputs": []
    },
    {
      "cell_type": "markdown",
      "source": [
        "#esercizio 2"
      ],
      "metadata": {
        "id": "6Toyzq6nSr8b"
      }
    },
    {
      "cell_type": "code",
      "source": [
        "#Utilizzare la list comprehension per caricare una lista con 100 numeri casuali compresi tra 1 e 20 (estremi inclusi)\n",
        "import random\n",
        "lista = [random.randint(1, 21) for numero in range(100)]\n",
        "print(lista)"
      ],
      "metadata": {
        "colab": {
          "base_uri": "https://localhost:8080/"
        },
        "id": "5NKTLTvlStV0",
        "outputId": "9be314b1-eef4-4524-d652-91018565244b"
      },
      "execution_count": 46,
      "outputs": [
        {
          "output_type": "stream",
          "name": "stdout",
          "text": [
            "[2, 20, 5, 9, 11, 4, 10, 10, 11, 17, 9, 9, 9, 5, 15, 11, 16, 9, 20, 9, 11, 14, 1, 20, 14, 4, 4, 10, 12, 15, 4, 21, 5, 1, 12, 21, 13, 18, 12, 6, 15, 12, 1, 3, 4, 18, 5, 11, 4, 10, 5, 6, 8, 10, 1, 1, 6, 13, 8, 17, 21, 18, 20, 15, 4, 18, 21, 13, 1, 16, 17, 2, 8, 15, 21, 16, 18, 17, 8, 16, 20, 14, 1, 19, 3, 8, 9, 4, 2, 14, 17, 19, 18, 20, 15, 19, 1, 19, 20, 21]\n"
          ]
        }
      ]
    },
    {
      "cell_type": "code",
      "source": [
        "#Scrivere il codice per caricare in una opportuna struttura dati (una sola struttura dati) il numero di volte che ogni numero si ripete. Ad esempio se la lista contenesse [4, 5, 4, 2, 4, 5] bisognerebbe memorizzare nella struttura dati il fatto che il 4 si ripete tre volte, il 5 due volte, il 2 una volta sola. Chiamare la struttura dati “ripetizioni”\n",
        "ripetizioni = {lista[indice]: lista.count(lista[indice]) for indice in range(len(lista))}\n",
        "print(ripetizioni)"
      ],
      "metadata": {
        "id": "uEI6HavSS5_D"
      },
      "execution_count": null,
      "outputs": []
    },
    {
      "cell_type": "code",
      "source": [
        "#Visualizzare l’elenco dei numeri della struttura dati nella forma <numero> - <numeroRipetizioni> ordinandolo sul numero.\n",
        "for key, value in ripetizioni.items():\n",
        "  print(\"il numero \", key, \" si ripete \", value, \" volte\")"
      ],
      "metadata": {
        "id": "WtaRhc39T6GE"
      },
      "execution_count": null,
      "outputs": []
    },
    {
      "cell_type": "code",
      "source": [
        "#Visualizzare l’elenco precedente ordinandolo in ordine decrescente sul numero di ripetizioni\n",
        "dati = dict(sorted(ripetizioni.items(), key=lambda item: item[1]))\n",
        "for k, v in dati.items():\n",
        "  print(k, \" è stato ripetuto \", v, \" volte\")"
      ],
      "metadata": {
        "id": "L_0TCagJUgKL"
      },
      "execution_count": null,
      "outputs": []
    },
    {
      "cell_type": "markdown",
      "source": [
        "#esercizio 3"
      ],
      "metadata": {
        "id": "Jd4QQfPxXsDL"
      }
    },
    {
      "cell_type": "code",
      "source": [
        "from google.colab import drive\n",
        "drive.mount('/content/drive')"
      ],
      "metadata": {
        "colab": {
          "base_uri": "https://localhost:8080/"
        },
        "id": "ULxDMGI1ZLkj",
        "outputId": "f622f85a-08ff-4253-95e0-54d3e9f56c96"
      },
      "execution_count": 74,
      "outputs": [
        {
          "output_type": "stream",
          "name": "stdout",
          "text": [
            "Mounted at /content/drive\n"
          ]
        }
      ]
    },
    {
      "cell_type": "code",
      "source": [
        "#1\n",
        "import pandas as pd\n",
        "df = pd.read_csv(\"/content/drive/MyDrive/Colab Notebooks/df_3.csv\")\n",
        "df"
      ],
      "metadata": {
        "id": "rKdf-IKeZOyj"
      },
      "execution_count": null,
      "outputs": []
    },
    {
      "cell_type": "code",
      "source": [
        "dfAnno = df.groupby(\"Year\")[[\"Name\"]].count().reset_index()"
      ],
      "metadata": {
        "id": "-mjaZNPDZWOj"
      },
      "execution_count": 76,
      "outputs": []
    },
    {
      "cell_type": "code",
      "source": [
        "#grafico giusto (stringhe e non numeri)\n",
        "import matplotlib.pyplot as plt\n",
        "anni = dfAnno[\"Year\"]\n",
        "nLinguaggi = dfAnno[\"Name\"]\n",
        "fig, ax = plt.subplots(figsize=(30,20))\n",
        "ax.barh(anni, nLinguaggi, label='numero di linguaggi di programmazione', color = [\"red\", \"blue\", \"green\", \"yellow\", \"gray\"])\n",
        "ax.set_title('numero di linguaggi di programmazione inventati negli anni')\n",
        "ax.set_xlabel('numero di linguaggi di programmazione')\n",
        "ax.set_ylabel('anni')"
      ],
      "metadata": {
        "id": "u16R9-XMZX-0"
      },
      "execution_count": null,
      "outputs": []
    }
  ]
}