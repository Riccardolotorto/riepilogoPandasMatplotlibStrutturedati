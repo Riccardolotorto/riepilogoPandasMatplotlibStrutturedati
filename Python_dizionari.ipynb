{
  "nbformat": 4,
  "nbformat_minor": 0,
  "metadata": {
    "colab": {
      "provenance": [],
      "include_colab_link": true
    },
    "kernelspec": {
      "name": "python3",
      "display_name": "Python 3"
    },
    "language_info": {
      "name": "python"
    }
  },
  "cells": [
    {
      "cell_type": "markdown",
      "metadata": {
        "id": "view-in-github",
        "colab_type": "text"
      },
      "source": [
        "<a href=\"https://colab.research.google.com/github/Riccardolotorto/riepilogoPandasMatplotlibStrutturedati/blob/main/Python_dizionari.ipynb\" target=\"_parent\"><img src=\"https://colab.research.google.com/assets/colab-badge.svg\" alt=\"Open In Colab\"/></a>"
      ]
    },
    {
      "cell_type": "code",
      "source": [
        "dizionarioITEN = {'uno': 'one', 'due': 'two', 'tre': 'three', 'quattro': 'four'} #modo 1 per creare un dizionario \n",
        "dizionarioITEN"
      ],
      "metadata": {
        "colab": {
          "base_uri": "https://localhost:8080/"
        },
        "id": "87BikGKrh_3J",
        "outputId": "280e11de-92a9-440f-c747-aaa4c10cfe2f"
      },
      "execution_count": 1,
      "outputs": [
        {
          "output_type": "execute_result",
          "data": {
            "text/plain": [
              "{'uno': 'one', 'due': 'two', 'tre': 'three', 'quattro': 'four'}"
            ]
          },
          "metadata": {},
          "execution_count": 1
        }
      ]
    },
    {
      "cell_type": "code",
      "source": [
        "dizionarioITEN = dict(uno = 'one', due = 'two', tre = 'three', quattro = 'four') #modo 2 per creare un dizionario \n",
        "dizionarioITEN"
      ],
      "metadata": {
        "colab": {
          "base_uri": "https://localhost:8080/"
        },
        "id": "KCVnF4VShfdQ",
        "outputId": "8f938bd6-b629-4dc3-cf6f-2db623c22a19"
      },
      "execution_count": 2,
      "outputs": [
        {
          "output_type": "execute_result",
          "data": {
            "text/plain": [
              "{'uno': 'one', 'due': 'two', 'tre': 'three', 'quattro': 'four'}"
            ]
          },
          "metadata": {},
          "execution_count": 2
        }
      ]
    },
    {
      "cell_type": "code",
      "source": [
        "dizionarioITEN = dict([('uno', 'one'), ('due', 'two'), ('tre', 'three'), ('quattro', 'four')]) #modo 3 per creare un dizionario \n",
        "dizionarioITEN"
      ],
      "metadata": {
        "colab": {
          "base_uri": "https://localhost:8080/"
        },
        "id": "t2WjPDoDiKrb",
        "outputId": "20f49a0e-cbbe-48b6-f034-3273a691ce84"
      },
      "execution_count": 3,
      "outputs": [
        {
          "output_type": "execute_result",
          "data": {
            "text/plain": [
              "{'uno': 'one', 'due': 'two', 'tre': 'three', 'quattro': 'four'}"
            ]
          },
          "metadata": {},
          "execution_count": 3
        }
      ]
    },
    {
      "cell_type": "code",
      "source": [
        "numeriItaliani = ['uno', 'due', 'tre', 'quattro']"
      ],
      "metadata": {
        "id": "M2FygeFxdPkW"
      },
      "execution_count": 4,
      "outputs": []
    },
    {
      "cell_type": "code",
      "source": [
        "englishNumbers = ['one', 'two', 'three', 'four']"
      ],
      "metadata": {
        "id": "rP_0WP6-dYv2"
      },
      "execution_count": 5,
      "outputs": []
    },
    {
      "cell_type": "code",
      "source": [
        "dizionarioITEN = dict((numeroItaliano, englishNumber) for numeroItaliano, englishNumber in zip(numeriItaliani, englishNumbers)) #modo 4 per creare un dizionario (zip mette insieme due cose abbinandoli 1 a 1: in questo caso due liste)\n",
        "dizionarioITEN"
      ],
      "metadata": {
        "colab": {
          "base_uri": "https://localhost:8080/"
        },
        "id": "YD2XVuoEdgsg",
        "outputId": "bd271b8a-6eb0-4c0e-833b-0eae68a30a28"
      },
      "execution_count": 6,
      "outputs": [
        {
          "output_type": "execute_result",
          "data": {
            "text/plain": [
              "{'uno': 'one', 'due': 'two', 'tre': 'three', 'quattro': 'four'}"
            ]
          },
          "metadata": {},
          "execution_count": 6
        }
      ]
    },
    {
      "cell_type": "code",
      "source": [
        "len(dizionarioITEN) #lunghezza del dizionario (conta le chiavi)"
      ],
      "metadata": {
        "colab": {
          "base_uri": "https://localhost:8080/"
        },
        "id": "T8XFfup8gwut",
        "outputId": "a7c36ca5-b4db-429b-f679-57ce1fb50b37"
      },
      "execution_count": 7,
      "outputs": [
        {
          "output_type": "execute_result",
          "data": {
            "text/plain": [
              "4"
            ]
          },
          "metadata": {},
          "execution_count": 7
        }
      ]
    },
    {
      "cell_type": "code",
      "source": [
        "dizionarioITEN['cinque'] = 'five' #aggiungere una chiave e il corrispondente valore al dizionario \n",
        "dizionarioITEN "
      ],
      "metadata": {
        "colab": {
          "base_uri": "https://localhost:8080/"
        },
        "id": "S4hCQZrseBBU",
        "outputId": "1ce8c2c4-d90e-4d0a-b43c-d68dc9a90fae"
      },
      "execution_count": 8,
      "outputs": [
        {
          "output_type": "execute_result",
          "data": {
            "text/plain": [
              "{'uno': 'one',\n",
              " 'due': 'two',\n",
              " 'tre': 'three',\n",
              " 'quattro': 'four',\n",
              " 'cinque': 'five'}"
            ]
          },
          "metadata": {},
          "execution_count": 8
        }
      ]
    },
    {
      "cell_type": "code",
      "source": [
        "#non si possono mettere chiavi uguali nel dizinario, mentre valori uguali si\n",
        "#se metto due chiavi uguali viene presa solo l'ultima"
      ],
      "metadata": {
        "id": "lq8u-2kYB0Z2"
      },
      "execution_count": null,
      "outputs": []
    },
    {
      "cell_type": "code",
      "source": [
        "dizionarioITEN['due'] #mostra il valore della chiave nominata"
      ],
      "metadata": {
        "colab": {
          "base_uri": "https://localhost:8080/",
          "height": 35
        },
        "id": "RHIH5t1WeMS7",
        "outputId": "7deadcb6-aeaf-4b39-b05b-3017af0d7ff9"
      },
      "execution_count": 9,
      "outputs": [
        {
          "output_type": "execute_result",
          "data": {
            "text/plain": [
              "'two'"
            ],
            "application/vnd.google.colaboratory.intrinsic+json": {
              "type": "string"
            }
          },
          "metadata": {},
          "execution_count": 9
        }
      ]
    },
    {
      "cell_type": "code",
      "source": [
        "dizionarioITEN['dues'] #dà errore perchè non è presente la chiave nel dizionario"
      ],
      "metadata": {
        "colab": {
          "base_uri": "https://localhost:8080/",
          "height": 165
        },
        "id": "arVcDDIbeTZ7",
        "outputId": "7e62019a-997a-46a9-a34f-3d3023fc9cec"
      },
      "execution_count": 10,
      "outputs": [
        {
          "output_type": "error",
          "ename": "KeyError",
          "evalue": "ignored",
          "traceback": [
            "\u001b[0;31m---------------------------------------------------------------------------\u001b[0m",
            "\u001b[0;31mKeyError\u001b[0m                                  Traceback (most recent call last)",
            "\u001b[0;32m<ipython-input-10-cb3927ba2706>\u001b[0m in \u001b[0;36m<module>\u001b[0;34m\u001b[0m\n\u001b[0;32m----> 1\u001b[0;31m \u001b[0mdizionarioITEN\u001b[0m\u001b[0;34m[\u001b[0m\u001b[0;34m'dues'\u001b[0m\u001b[0;34m]\u001b[0m \u001b[0;31m#dà errore perchè non è presente la chiave nel dizionario\u001b[0m\u001b[0;34m\u001b[0m\u001b[0;34m\u001b[0m\u001b[0m\n\u001b[0m",
            "\u001b[0;31mKeyError\u001b[0m: 'dues'"
          ]
        }
      ]
    },
    {
      "cell_type": "code",
      "source": [
        "if 'dues' in dizionarioITEN.keys(): #faccio un controllo se la chiave è presente nel dizionario usando il metodo keys()\n",
        "  print(dizionarioITEN['dues'])\n",
        "else:\n",
        "  print('chiave non presente')"
      ],
      "metadata": {
        "colab": {
          "base_uri": "https://localhost:8080/"
        },
        "id": "Dtv3BR8Mei31",
        "outputId": "f6f55853-9e01-4455-db80-a1719293f497"
      },
      "execution_count": null,
      "outputs": [
        {
          "output_type": "stream",
          "name": "stdout",
          "text": [
            "chiave non presente\n"
          ]
        }
      ]
    },
    {
      "cell_type": "code",
      "source": [
        "if 'dues' in dizionarioITEN: ##faccio un controllo se la chiave è presente nel dizionario\n",
        "  print(dizionarioITEN['dues'])\n",
        "else:\n",
        "  print('chiave non presente')"
      ],
      "metadata": {
        "colab": {
          "base_uri": "https://localhost:8080/"
        },
        "id": "BTHNollLf8jD",
        "outputId": "894388a2-c37a-4d99-daa7-63404c5d2426"
      },
      "execution_count": null,
      "outputs": [
        {
          "output_type": "stream",
          "name": "stdout",
          "text": [
            "chiave non presente\n"
          ]
        }
      ]
    },
    {
      "cell_type": "code",
      "source": [
        "dizionarioITEN.get('dues', 'chiave non presente') #altro modo per controllare la presenza di una chiave usando il metodo get (senza if). Metodo che mostra il valore della chiave inserita se c'è, altrimenti mostfa che non è presente"
      ],
      "metadata": {
        "colab": {
          "base_uri": "https://localhost:8080/",
          "height": 36
        },
        "id": "QwYcz9Mqi8GV",
        "outputId": "bb7ebac7-79dc-4c7e-b302-59568e4f068e"
      },
      "execution_count": null,
      "outputs": [
        {
          "output_type": "execute_result",
          "data": {
            "text/plain": [
              "'chiave non presente'"
            ],
            "application/vnd.google.colaboratory.intrinsic+json": {
              "type": "string"
            }
          },
          "metadata": {},
          "execution_count": 45
        }
      ]
    },
    {
      "cell_type": "code",
      "source": [
        "dizionarioITEN.setdefault('sei', 'six') #se la chiave c'è mi restituisce il suo valore, se non c'è la inserisce"
      ],
      "metadata": {
        "colab": {
          "base_uri": "https://localhost:8080/",
          "height": 35
        },
        "id": "XpbsodFTjiq1",
        "outputId": "556ff90c-948e-43f5-8f70-77c8280f35de"
      },
      "execution_count": 12,
      "outputs": [
        {
          "output_type": "execute_result",
          "data": {
            "text/plain": [
              "'six'"
            ],
            "application/vnd.google.colaboratory.intrinsic+json": {
              "type": "string"
            }
          },
          "metadata": {},
          "execution_count": 12
        }
      ]
    },
    {
      "cell_type": "code",
      "source": [
        "dizionarioITEN"
      ],
      "metadata": {
        "colab": {
          "base_uri": "https://localhost:8080/"
        },
        "id": "eCGdgbEeDPqW",
        "outputId": "86d9c78b-a44e-4f42-c073-00e084706ccb"
      },
      "execution_count": 13,
      "outputs": [
        {
          "output_type": "execute_result",
          "data": {
            "text/plain": [
              "{'uno': 'one',\n",
              " 'due': 'two',\n",
              " 'tre': 'three',\n",
              " 'quattro': 'four',\n",
              " 'cinque': 'five',\n",
              " 'sei': 'six'}"
            ]
          },
          "metadata": {},
          "execution_count": 13
        }
      ]
    },
    {
      "cell_type": "code",
      "source": [
        "dizionarioITEN.setdefault('due') #la chiave è presente, quindi mi restituisce il suo valore"
      ],
      "metadata": {
        "colab": {
          "base_uri": "https://localhost:8080/",
          "height": 35
        },
        "id": "lK2aDS1WDUwl",
        "outputId": "f588ba65-4b82-4bf0-e41c-75e11f7eede0"
      },
      "execution_count": 14,
      "outputs": [
        {
          "output_type": "execute_result",
          "data": {
            "text/plain": [
              "'two'"
            ],
            "application/vnd.google.colaboratory.intrinsic+json": {
              "type": "string"
            }
          },
          "metadata": {},
          "execution_count": 14
        }
      ]
    },
    {
      "cell_type": "code",
      "source": [
        "if 'two' in dizionarioITEN.values(): #faccio il controllo se un valore è presente nel dizionario \n",
        "  print('valore presente')\n",
        "else:\n",
        "  print('valore non presente')"
      ],
      "metadata": {
        "colab": {
          "base_uri": "https://localhost:8080/"
        },
        "id": "W3mMv40Nebqk",
        "outputId": "4f65c3a9-3fd8-480d-a16b-fe91bffb7c10"
      },
      "execution_count": null,
      "outputs": [
        {
          "output_type": "stream",
          "name": "stdout",
          "text": [
            "valore presente\n"
          ]
        }
      ]
    },
    {
      "cell_type": "code",
      "source": [
        "for number in dizionarioITEN.values(): #mostra tutti i valori\n",
        "  print(number)"
      ],
      "metadata": {
        "colab": {
          "base_uri": "https://localhost:8080/"
        },
        "id": "V7hk9LhFff15",
        "outputId": "705916c2-5492-4b79-af59-184133eaa3cc"
      },
      "execution_count": null,
      "outputs": [
        {
          "output_type": "stream",
          "name": "stdout",
          "text": [
            "one\n",
            "two\n",
            "three\n",
            "four\n",
            "five\n",
            "six\n"
          ]
        }
      ]
    },
    {
      "cell_type": "code",
      "source": [
        "for key in dizionarioITEN.keys(): #mostra tutte le chiavi\n",
        "  print(key)"
      ],
      "metadata": {
        "colab": {
          "base_uri": "https://localhost:8080/"
        },
        "id": "Bt3HmlW6D_rN",
        "outputId": "fa6b3312-f10d-451c-dc74-dc205224ad6f"
      },
      "execution_count": 15,
      "outputs": [
        {
          "output_type": "stream",
          "name": "stdout",
          "text": [
            "uno\n",
            "due\n",
            "tre\n",
            "quattro\n",
            "cinque\n",
            "sei\n"
          ]
        }
      ]
    },
    {
      "cell_type": "code",
      "source": [
        "for numero, number in dizionarioITEN.items(): #mostra tutte le coppie chiave-valore (items)\n",
        "  print(numero, '-', number)"
      ],
      "metadata": {
        "colab": {
          "base_uri": "https://localhost:8080/"
        },
        "id": "PduutaFzfpVE",
        "outputId": "799af217-36a8-4876-e205-38f8b7048aba"
      },
      "execution_count": null,
      "outputs": [
        {
          "output_type": "stream",
          "name": "stdout",
          "text": [
            "uno - one\n",
            "due - two\n",
            "tre - three\n",
            "quattro - four\n",
            "cinque - five\n",
            "sei - six\n"
          ]
        }
      ]
    },
    {
      "cell_type": "code",
      "source": [
        "for numero in dizionarioITEN: #mostra tutte le coppie chiave-valore senza usare il metoto items\n",
        "  print(numero, '-', dizionarioITEN[numero])"
      ],
      "metadata": {
        "colab": {
          "base_uri": "https://localhost:8080/"
        },
        "id": "jJ9JxcqZgN4V",
        "outputId": "30c72553-731d-45c5-d3fb-0aa886458cbc"
      },
      "execution_count": null,
      "outputs": [
        {
          "output_type": "stream",
          "name": "stdout",
          "text": [
            "uno - one\n",
            "due - two\n",
            "tre - three\n",
            "quattro - four\n",
            "cinque - five\n",
            "sei - six\n"
          ]
        }
      ]
    },
    {
      "cell_type": "markdown",
      "source": [
        "**lista di dizionari**"
      ],
      "metadata": {
        "id": "EyU5LW4qEr4l"
      }
    },
    {
      "cell_type": "code",
      "source": [
        "studenti3E = [\n",
        "    {\n",
        "        \"nome\":\"riccardo\",\n",
        "        \"città\": \"bresso\"\n",
        "    },\n",
        "    {\n",
        "        \"nome\":\"lorenzo\",\n",
        "        \"città\": \"milano\"\n",
        "    },\n",
        "    {\n",
        "        \"nome\":\"fabio\",\n",
        "        \"città\": \"seveso\"\n",
        "    },\n",
        "]\n",
        "print(studenti3E)"
      ],
      "metadata": {
        "id": "GpocbJ8REuGl"
      },
      "execution_count": null,
      "outputs": []
    },
    {
      "cell_type": "code",
      "source": [
        "len(studenti3E)"
      ],
      "metadata": {
        "id": "vtKeOWPjFs8F"
      },
      "execution_count": null,
      "outputs": []
    },
    {
      "cell_type": "code",
      "source": [
        "for studente in studenti3E: #mostro tutti i dizionari all'interno della lista\n",
        "  print(studente)"
      ],
      "metadata": {
        "id": "y-7pD0PMJYlU"
      },
      "execution_count": null,
      "outputs": []
    },
    {
      "cell_type": "code",
      "source": [
        "for studente in studenti3E: #mostro tutti i nomi degli studenti\n",
        "  print(studente[\"nome\"])"
      ],
      "metadata": {
        "colab": {
          "base_uri": "https://localhost:8080/"
        },
        "id": "uKBtA1rSJuws",
        "outputId": "3d966d43-f9a8-4b8c-bc89-fba4279d8031"
      },
      "execution_count": 24,
      "outputs": [
        {
          "output_type": "stream",
          "name": "stdout",
          "text": [
            "riccardo\n",
            "lorenzo\n",
            "fabio\n"
          ]
        }
      ]
    },
    {
      "cell_type": "code",
      "source": [
        "studenti3Ebis = [\n",
        "    {\n",
        "        \"generalità\": {                #in questo caso il valore della chiave è un dizionario\n",
        "            \"nome\":\"riccardo\",\n",
        "            \"cognome\":\"lotorto\"\n",
        "        },\n",
        "        \"città\": \"bresso\"\n",
        "    },\n",
        "    {\n",
        "        \"generalità\": {\n",
        "            \"nome\":\"filippo\",\n",
        "            \"cognome\":\"neri\"\n",
        "        },\n",
        "        \"città\": \"milano\"\n",
        "    },\n",
        "    {\n",
        "        \"generalità\": {\n",
        "            \"nome\":\"george\",\n",
        "            \"cognome\":\"avasiloae\"\n",
        "        },\n",
        "        \"città\": \"seveso\"\n",
        "    },\n",
        "]"
      ],
      "metadata": {
        "id": "7qKH_jwjKTnV"
      },
      "execution_count": 26,
      "outputs": []
    },
    {
      "cell_type": "code",
      "source": [
        "for studentebis in studenti3Ebis: #mostro tutti i dizionari\n",
        "  print(studentebis)"
      ],
      "metadata": {
        "id": "Ua9WPp73K4Dl"
      },
      "execution_count": null,
      "outputs": []
    },
    {
      "cell_type": "code",
      "source": [
        "for studentebis in studenti3Ebis: #mostro tutti i nomi\n",
        "  print(studentebis[\"generalità\"][\"nome\"])"
      ],
      "metadata": {
        "id": "sueXIlImLCeV"
      },
      "execution_count": null,
      "outputs": []
    },
    {
      "cell_type": "code",
      "source": [
        "studenti3Ebis[1][\"generalità\"][\"nome\"] #nome del secondo studente"
      ],
      "metadata": {
        "id": "6XgZbnFMLtJ9"
      },
      "execution_count": null,
      "outputs": []
    },
    {
      "cell_type": "code",
      "source": [
        "studenti3Etris = [\n",
        "    {\n",
        "        \"generalità\": {               \n",
        "            \"nome\":\"riccardo\",\n",
        "            \"cognome\":\"lotorto\"\n",
        "        },\n",
        "        \"città\": \"bresso\",\n",
        "        \"telefono\": [                #lista come valore di una chiave di un dizionario\n",
        "            \"365789212\",\n",
        "            \"367561528\"\n",
        "        ]\n",
        "    },\n",
        "    {\n",
        "        \"generalità\": {\n",
        "            \"nome\":\"filippo\",\n",
        "            \"cognome\":\"neri\"\n",
        "        },\n",
        "        \"città\": \"milano\",\n",
        "        \"telefono\": [\n",
        "            \"789488484\",\n",
        "            \"376345837\"\n",
        "        ]\n",
        "    },\n",
        "    {\n",
        "        \"generalità\": {\n",
        "            \"nome\":\"george\",\n",
        "            \"cognome\":\"avasiloae\"\n",
        "        },\n",
        "        \"città\": \"seveso\",\n",
        "        \"telefono\": [\n",
        "            \"389939393\",\n",
        "            \"312304349\"\n",
        "        ]\n",
        "    },\n",
        "]"
      ],
      "metadata": {
        "id": "NHzRemrDMoLG"
      },
      "execution_count": 35,
      "outputs": []
    },
    {
      "cell_type": "code",
      "source": [
        "studenti3Etris[1][\"telefono\"][0] #primo numero di telefono del secondo studente"
      ],
      "metadata": {
        "colab": {
          "base_uri": "https://localhost:8080/",
          "height": 35
        },
        "id": "mjVyploMNT8t",
        "outputId": "84ef273a-f3e3-47a7-8150-62b98b7aa5e7"
      },
      "execution_count": 37,
      "outputs": [
        {
          "output_type": "execute_result",
          "data": {
            "text/plain": [
              "'789488484'"
            ],
            "application/vnd.google.colaboratory.intrinsic+json": {
              "type": "string"
            }
          },
          "metadata": {},
          "execution_count": 37
        }
      ]
    }
  ]
}