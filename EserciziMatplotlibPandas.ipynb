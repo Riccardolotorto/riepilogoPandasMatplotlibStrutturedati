{
  "nbformat": 4,
  "nbformat_minor": 0,
  "metadata": {
    "colab": {
      "provenance": [],
      "authorship_tag": "ABX9TyMOJn9RBNtmQgd6NINjS5IC",
      "include_colab_link": true
    },
    "kernelspec": {
      "name": "python3",
      "display_name": "Python 3"
    },
    "language_info": {
      "name": "python"
    }
  },
  "cells": [
    {
      "cell_type": "markdown",
      "metadata": {
        "id": "view-in-github",
        "colab_type": "text"
      },
      "source": [
        "<a href=\"https://colab.research.google.com/github/Riccardolotorto/Python/blob/main/EserciziMatplotlibPandas.ipynb\" target=\"_parent\"><img src=\"https://colab.research.google.com/assets/colab-badge.svg\" alt=\"Open In Colab\"/></a>"
      ]
    },
    {
      "cell_type": "markdown",
      "source": [
        "caricare il file "
      ],
      "metadata": {
        "id": "7-VDf2j-DwWR"
      }
    },
    {
      "cell_type": "code",
      "execution_count": 2,
      "metadata": {
        "id": "yeZlEC4tDq8d"
      },
      "outputs": [],
      "source": [
        "import pandas as pd "
      ]
    },
    {
      "cell_type": "code",
      "source": [
        "df = pd.read_csv(\"https://raw.githubusercontent.com/pcm-dpc/COVID-19/master/dati-province/dpc-covid19-ita-province-20221119.csv\")\n",
        "df"
      ],
      "metadata": {
        "id": "jClA2fOGD3wo"
      },
      "execution_count": null,
      "outputs": []
    },
    {
      "cell_type": "markdown",
      "source": [
        "1. il numero di casi totali in Lombardia"
      ],
      "metadata": {
        "id": "HVq6Nw46EF-n"
      }
    },
    {
      "cell_type": "code",
      "source": [
        "df[df[\"denominazione_regione\"] == \"Lombardia\"][\"totale_casi\"].sum()"
      ],
      "metadata": {
        "colab": {
          "base_uri": "https://localhost:8080/"
        },
        "id": "hqxyly2_EHwO",
        "outputId": "ece4ba0a-ba7b-4159-8670-644a2b2de8bd"
      },
      "execution_count": 4,
      "outputs": [
        {
          "output_type": "execute_result",
          "data": {
            "text/plain": [
              "3886751"
            ]
          },
          "metadata": {},
          "execution_count": 4
        }
      ]
    },
    {
      "cell_type": "markdown",
      "source": [
        "2. il numero di casi totali in ogni regione. Ordinare in ordine decrescente in base al numero di casi"
      ],
      "metadata": {
        "id": "5R5COaQJEm65"
      }
    },
    {
      "cell_type": "code",
      "source": [
        "df.groupby(\"denominazione_regione\")[\"totale_casi\"].sum().reset_index().sort_values(by=\"totale_casi\", ascending = False)"
      ],
      "metadata": {
        "id": "iYROnoMxEoz4"
      },
      "execution_count": null,
      "outputs": []
    },
    {
      "cell_type": "markdown",
      "source": [
        "3. le regioni che hanno più di un milione di casi"
      ],
      "metadata": {
        "id": "12Qo7W9WE_JP"
      }
    },
    {
      "cell_type": "code",
      "source": [
        "dfgroup = df.groupby(\"denominazione_regione\")[\"totale_casi\"].sum().reset_index()\n",
        "dfgroup[dfgroup[\"totale_casi\"] > 1000000][[\"denominazione_regione\"]]"
      ],
      "metadata": {
        "id": "kraLaCRGFB-f"
      },
      "execution_count": null,
      "outputs": []
    },
    {
      "cell_type": "markdown",
      "source": [
        "4. il numero di casi in Italia"
      ],
      "metadata": {
        "id": "DZHlgC0RFfrH"
      }
    },
    {
      "cell_type": "code",
      "source": [
        "df[df[\"stato\"] == \"ITA\"][\"totale_casi\"].sum()"
      ],
      "metadata": {
        "colab": {
          "base_uri": "https://localhost:8080/"
        },
        "id": "1zz4DG7sFjZX",
        "outputId": "4d08ba99-d954-4f3e-989d-ef6924783b25"
      },
      "execution_count": 7,
      "outputs": [
        {
          "output_type": "execute_result",
          "data": {
            "text/plain": [
              "24099206"
            ]
          },
          "metadata": {},
          "execution_count": 7
        }
      ]
    },
    {
      "cell_type": "markdown",
      "source": [
        "5. la percentuale di casi in ogni regione rispetto al totale dei casi in Italia"
      ],
      "metadata": {
        "id": "FC-SJhadFtQO"
      }
    },
    {
      "cell_type": "code",
      "source": [
        "dfgroup2 = df.groupby(\"denominazione_regione\")[[\"totale_casi\"]].sum()\n",
        "dfgroup2[\"totale_casi\"]/df[\"totale_casi\"].sum() * 100"
      ],
      "metadata": {
        "id": "Zp7byrAIHvvQ"
      },
      "execution_count": null,
      "outputs": []
    },
    {
      "cell_type": "markdown",
      "source": [
        "**grafici**"
      ],
      "metadata": {
        "id": "0Iqovh0CH4T_"
      }
    },
    {
      "cell_type": "markdown",
      "source": [
        "6. un grafico a barre verticali per la richiesta numero 2"
      ],
      "metadata": {
        "id": "Y9zf-Jk1H1c3"
      }
    },
    {
      "cell_type": "code",
      "source": [
        "import matplotlib.pyplot as plt"
      ],
      "metadata": {
        "id": "ub_8TMMqH683"
      },
      "execution_count": 9,
      "outputs": []
    },
    {
      "cell_type": "code",
      "source": [
        "#salvo i dati\n",
        "dfgroup3 = df.groupby(\"denominazione_regione\")[\"totale_casi\"].sum().reset_index().sort_values(by=\"totale_casi\", ascending = False)\n",
        "regione = dfgroup3[\"denominazione_regione\"]\n",
        "dati1 = dfgroup3[\"totale_casi\"]\n",
        "\n",
        "#imposto il grafico\n",
        "fig, ax = plt.subplots(figsize=(20,15))\n",
        "ax.bar(regione, dati1, label='totale casi in ogni regione')\n",
        "ax.set_title('il numero totale di casi in ogni regione italiana')\n",
        "ax.set_ylabel('casi (in milioni)')\n",
        "ax.set_xlabel('regioni')\n",
        "ax.legend()\n",
        "plt.xticks(rotation=90) #serve per mettere i nomi in verticale"
      ],
      "metadata": {
        "id": "Ts_HAq3NI9mW"
      },
      "execution_count": null,
      "outputs": []
    },
    {
      "cell_type": "markdown",
      "source": [
        "7.  un grafico a barre orizzontali per la richiesta numero 2"
      ],
      "metadata": {
        "id": "NXvtDCJzLT1m"
      }
    },
    {
      "cell_type": "code",
      "source": [
        "dfgroup3 = df.groupby(\"denominazione_regione\")[\"totale_casi\"].sum().reset_index().sort_values(by=\"totale_casi\", ascending = False)\n",
        "regione = dfgroup3[\"denominazione_regione\"]\n",
        "dati2 = dfgroup3[\"totale_casi\"]\n",
        "\n",
        "#imposto il grafico\n",
        "fig, ax = plt.subplots(figsize=(40,20))\n",
        "ax.barh(regione, dati2, label='totale casi in ogni regione')\n",
        "ax.set_title('il numero totale di casi in ogni regione italiana')\n",
        "ax.set_xlabel('casi (in milioni)')\n",
        "ax.set_ylabel('regioni')\n",
        "ax.legend()"
      ],
      "metadata": {
        "id": "qNSzJN5xLVwX"
      },
      "execution_count": null,
      "outputs": []
    },
    {
      "cell_type": "markdown",
      "source": [
        "8. un grafico a torta per la richiesta numero 5"
      ],
      "metadata": {
        "id": "oUc5qXP3Lnvn"
      }
    },
    {
      "cell_type": "code",
      "source": [
        "dfgroup4 = df.groupby(\"denominazione_regione\")[\"totale_casi\"].sum().reset_index()\n",
        "regione2 = dfgroup4[\"denominazione_regione\"]\n",
        "dati3 = dfgroup4[\"totale_casi\"]\n",
        "\n",
        "#imposto il grafico a torta\n",
        "plt.figure(figsize=(14, 10))\n",
        "plt.pie(dati3, labels=regione2, autopct='%1.1f%%') \n",
        "plt.show()"
      ],
      "metadata": {
        "id": "i8DZBzj-LpT2"
      },
      "execution_count": null,
      "outputs": []
    }
  ]
}