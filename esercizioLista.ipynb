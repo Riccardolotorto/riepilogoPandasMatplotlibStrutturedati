{
  "nbformat": 4,
  "nbformat_minor": 0,
  "metadata": {
    "colab": {
      "provenance": [],
      "collapsed_sections": [],
      "authorship_tag": "ABX9TyMbLFXgOi7AjTERLvgYLIKP",
      "include_colab_link": true
    },
    "kernelspec": {
      "name": "python3",
      "display_name": "Python 3"
    },
    "language_info": {
      "name": "python"
    }
  },
  "cells": [
    {
      "cell_type": "markdown",
      "metadata": {
        "id": "view-in-github",
        "colab_type": "text"
      },
      "source": [
        "<a href=\"https://colab.research.google.com/github/Riccardolotorto/Python/blob/main/esercizioLista.ipynb\" target=\"_parent\"><img src=\"https://colab.research.google.com/assets/colab-badge.svg\" alt=\"Open In Colab\"/></a>"
      ]
    },
    {
      "cell_type": "code",
      "execution_count": null,
      "metadata": {
        "id": "d4GHh7oCRpo-"
      },
      "outputs": [],
      "source": [
        "nomi = [\"Luca\", \"Carlo\", \"Maria\", \"Angela\", \"Stefano\", \"Davide\"]\n",
        "altezze = [1.80, 1.67, 1.75, 1.68, 1.81, 1.78]\n",
        "pesi = [77, 48, 81, 55, 90, 70]"
      ]
    },
    {
      "cell_type": "markdown",
      "source": [
        "far inserire all'utente un nome e fornire il peso e l'altezza dello studente inserito"
      ],
      "metadata": {
        "id": "UeT6Iuo0SivJ"
      }
    },
    {
      "cell_type": "code",
      "source": [
        "nomeStudente = input(\"inserisci il nome dello studente: \")\n",
        "print(altezze[nomi.index(nomeStudente)])\n",
        "print(pesi[nomi.index(nomeStudente)])"
      ],
      "metadata": {
        "colab": {
          "base_uri": "https://localhost:8080/"
        },
        "id": "_m_-t0OaSnYU",
        "outputId": "6a2a4c17-6169-4bbd-ae1d-1bee084997dc"
      },
      "execution_count": null,
      "outputs": [
        {
          "output_type": "stream",
          "name": "stdout",
          "text": [
            "inserisci il nome dello studente: Luca\n",
            "1.8\n",
            "77\n"
          ]
        }
      ]
    },
    {
      "cell_type": "markdown",
      "source": [
        "visualizzare il nome dello studente più alto"
      ],
      "metadata": {
        "id": "O52iHVGxUl-B"
      }
    },
    {
      "cell_type": "code",
      "source": [
        "altezzaMassima = max(altezze)\n",
        "print(altezzaMassima)\n",
        "posizioneAltezzaMassima = altezze.index(altezzaMassima)\n",
        "print(posizioneAltezzaMassima)\n",
        "print(nomi[altezze.index(altezzaMassima)])"
      ],
      "metadata": {
        "colab": {
          "base_uri": "https://localhost:8080/"
        },
        "id": "0irPCkS3Un9R",
        "outputId": "11399e7d-18b5-42b0-de14-9496291f05de"
      },
      "execution_count": null,
      "outputs": [
        {
          "output_type": "stream",
          "name": "stdout",
          "text": [
            "1.81\n",
            "4\n",
            "Stefano\n"
          ]
        }
      ]
    },
    {
      "cell_type": "markdown",
      "source": [
        "visualizzare il nome dello studente più magro"
      ],
      "metadata": {
        "id": "EuIMzTsfV3nh"
      }
    },
    {
      "cell_type": "code",
      "source": [
        "pesoMinimo = min(pesi)\n",
        "print(pesoMinimo)\n",
        "posizionePesoMinimo = pesi.index(pesoMinimo)\n",
        "print(posizionePesoMinimo)\n",
        "print(nomi[pesi.index(pesoMinimo)])"
      ],
      "metadata": {
        "colab": {
          "base_uri": "https://localhost:8080/"
        },
        "id": "9GjJPjFDV6Wg",
        "outputId": "b210961b-5035-4383-9d11-dfaade085fe8"
      },
      "execution_count": null,
      "outputs": [
        {
          "output_type": "stream",
          "name": "stdout",
          "text": [
            "48\n",
            "1\n",
            "Carlo\n"
          ]
        }
      ]
    },
    {
      "cell_type": "markdown",
      "source": [
        "far inserire il nome di uno studente e calcolare il suo IMC"
      ],
      "metadata": {
        "id": "l3TSu0ccWTYp"
      }
    },
    {
      "cell_type": "code",
      "source": [
        "#peso / (altezza * altezza)\n",
        "nomeStudente = input(\"inserisci il nome dello studente: \")\n",
        "IMC = pesi[nomi.index(nomeStudente)] / (altezze[nomi.index(nomeStudente)] * altezze[nomi.index(nomeStudente)])\n",
        "print(IMC)"
      ],
      "metadata": {
        "colab": {
          "base_uri": "https://localhost:8080/"
        },
        "id": "4GLRvL5cWT8p",
        "outputId": "07d2baf3-8ae2-4064-ddfd-7f55cd5bdc90"
      },
      "execution_count": null,
      "outputs": [
        {
          "output_type": "stream",
          "name": "stdout",
          "text": [
            "inserisci il nome dello studente: Stefano\n",
            "27.471688898385274\n"
          ]
        }
      ]
    },
    {
      "cell_type": "markdown",
      "source": [
        "calcolare il peso medio degli studenti"
      ],
      "metadata": {
        "id": "reimlJoHZF2Z"
      }
    },
    {
      "cell_type": "code",
      "source": [
        "from statistics import mean\n",
        "print(mean(pesi))"
      ],
      "metadata": {
        "colab": {
          "base_uri": "https://localhost:8080/"
        },
        "id": "I3-kSr3lZJ3Z",
        "outputId": "c856a885-dec5-47f7-9ff4-e8e2318310e5"
      },
      "execution_count": null,
      "outputs": [
        {
          "output_type": "stream",
          "name": "stdout",
          "text": [
            "70.16666666666667\n"
          ]
        }
      ]
    },
    {
      "cell_type": "markdown",
      "source": [
        "visualizzare il numero di studenti"
      ],
      "metadata": {
        "id": "QXzjrXNcZjj8"
      }
    },
    {
      "cell_type": "code",
      "source": [
        "print(len(nomi))"
      ],
      "metadata": {
        "colab": {
          "base_uri": "https://localhost:8080/"
        },
        "id": "wkYgwFPkZkTR",
        "outputId": "bfc4d2d6-a616-4dc8-ad1f-2c54429d4684"
      },
      "execution_count": null,
      "outputs": [
        {
          "output_type": "stream",
          "name": "stdout",
          "text": [
            "6\n"
          ]
        }
      ]
    },
    {
      "cell_type": "markdown",
      "source": [
        "aggiungere lo studente Marco che pesa 76 Kg ed è alto 1.90"
      ],
      "metadata": {
        "id": "rDCGH-gPZos6"
      }
    },
    {
      "cell_type": "code",
      "source": [
        "nomi.append(\"Marco\")\n",
        "altezze.append(1.90)\n",
        "pesi.append(76)\n",
        "print(nomi, altezze, pesi)"
      ],
      "metadata": {
        "colab": {
          "base_uri": "https://localhost:8080/"
        },
        "id": "ftJvY8paZsx5",
        "outputId": "bcbaa8cc-76f1-4dd0-9466-1fc13c8ee151"
      },
      "execution_count": null,
      "outputs": [
        {
          "output_type": "stream",
          "name": "stdout",
          "text": [
            "['Luca', 'Carlo', 'Maria', 'Angela', 'Stefano', 'Davide', 'Marco'] [1.8, 1.67, 1.75, 1.68, 1.81, 1.78, 1.9] [77, 48, 81, 55, 90, 70, 76]\n"
          ]
        }
      ]
    },
    {
      "cell_type": "markdown",
      "source": [
        " eliminare le informazioni riguardanti Maria"
      ],
      "metadata": {
        "id": "u1mGoiCBZ7Xx"
      }
    },
    {
      "cell_type": "code",
      "source": [
        "posizioneMaria = nomi.index(\"Maria\")\n",
        "nomi.pop(posizioneMaria)\n",
        "altezze.pop(posizioneMaria)\n",
        "pesi.pop(posizioneMaria)\n",
        "print(nomi, altezze, pesi)"
      ],
      "metadata": {
        "colab": {
          "base_uri": "https://localhost:8080/"
        },
        "id": "s6ShXvp4Z8Nh",
        "outputId": "b9baacd9-8ded-4a9f-ed82-2df37aa15ae5"
      },
      "execution_count": null,
      "outputs": [
        {
          "output_type": "stream",
          "name": "stdout",
          "text": [
            "['Luca', 'Carlo', 'Angela', 'Stefano', 'Davide', 'Marco'] [1.8, 1.67, 1.68, 1.81, 1.78, 1.9] [77, 48, 55, 90, 70, 76]\n"
          ]
        }
      ]
    }
  ]
}