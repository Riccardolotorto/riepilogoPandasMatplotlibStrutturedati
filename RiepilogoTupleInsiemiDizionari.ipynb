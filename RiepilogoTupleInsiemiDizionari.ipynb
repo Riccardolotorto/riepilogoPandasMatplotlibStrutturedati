{
  "nbformat": 4,
  "nbformat_minor": 0,
  "metadata": {
    "colab": {
      "provenance": [],
      "collapsed_sections": [
        "zJ49L2420mfW",
        "gursHfWM0knV",
        "nFo6SrkWKK6B",
        "M5PuER_nxARM"
      ],
      "authorship_tag": "ABX9TyMckAAP+uUrFIeaX9uyYndQ",
      "include_colab_link": true
    },
    "kernelspec": {
      "name": "python3",
      "display_name": "Python 3"
    },
    "language_info": {
      "name": "python"
    }
  },
  "cells": [
    {
      "cell_type": "markdown",
      "metadata": {
        "id": "view-in-github",
        "colab_type": "text"
      },
      "source": [
        "<a href=\"https://colab.research.google.com/github/Riccardolotorto/Documentazione/blob/main/RiepilogoTupleInsiemiDizionari.ipynb\" target=\"_parent\"><img src=\"https://colab.research.google.com/assets/colab-badge.svg\" alt=\"Open In Colab\"/></a>"
      ]
    },
    {
      "cell_type": "markdown",
      "source": [
        "#tuple"
      ],
      "metadata": {
        "id": "zJ49L2420mfW"
      }
    },
    {
      "cell_type": "markdown",
      "source": [
        "https://github.com/Riccardolotorto/Documentazione/blob/main/Copia_di_tuple.ipynb"
      ],
      "metadata": {
        "id": "sA_I3oFGJrQf"
      }
    },
    {
      "cell_type": "code",
      "execution_count": null,
      "metadata": {
        "id": "2m1MSjXbzCr0"
      },
      "outputs": [],
      "source": [
        "lista1 = [\"mela\", \"arancia\", \"banana\"]"
      ]
    },
    {
      "cell_type": "code",
      "source": [
        "tupla1 = (\"mela\", \"arancia\", \"banana\")"
      ],
      "metadata": {
        "id": "ZIp0GckwzPSU"
      },
      "execution_count": null,
      "outputs": []
    },
    {
      "cell_type": "code",
      "source": [
        "tupla2 = (\"mela\", )"
      ],
      "metadata": {
        "id": "F5qXRNOSzfsk"
      },
      "execution_count": null,
      "outputs": []
    },
    {
      "cell_type": "code",
      "source": [
        "#aggiungiamo l'uva alla lista\n",
        "lista1.append(\"uva\")\n",
        "print(lista1)"
      ],
      "metadata": {
        "colab": {
          "base_uri": "https://localhost:8080/"
        },
        "id": "N14bol5pzqZE",
        "outputId": "f460f559-b3a9-432c-c7ba-336b8dbe4317"
      },
      "execution_count": null,
      "outputs": [
        {
          "output_type": "stream",
          "name": "stdout",
          "text": [
            "['mela', 'arancia', 'banana', 'uva']\n"
          ]
        }
      ]
    },
    {
      "cell_type": "code",
      "source": [
        "#ordinare una lista\n",
        "lista1.sort()\n",
        "print(lista1)"
      ],
      "metadata": {
        "id": "wW5vha6zz7rU"
      },
      "execution_count": null,
      "outputs": []
    },
    {
      "cell_type": "code",
      "source": [
        "#le tuple si usano per salvare dei dati che sono fissi sempre (es. codici fiscali, costanti metematiche)"
      ],
      "metadata": {
        "id": "Zo_NZk9w0FEM"
      },
      "execution_count": null,
      "outputs": []
    },
    {
      "cell_type": "markdown",
      "source": [
        "#insiemi"
      ],
      "metadata": {
        "id": "gursHfWM0knV"
      }
    },
    {
      "cell_type": "markdown",
      "source": [
        "https://github.com/Riccardolotorto/Documentazione/blob/main/InsiemiPython.ipynb"
      ],
      "metadata": {
        "id": "0jZPQ8YeJ6fQ"
      }
    },
    {
      "cell_type": "code",
      "source": [
        "milella = {\"banana\",\"kiwi\",\"arancia\"}"
      ],
      "metadata": {
        "id": "oc6AIREB0l5k"
      },
      "execution_count": null,
      "outputs": []
    },
    {
      "cell_type": "code",
      "source": [
        "avasiloae = {\"pera\",\"uva\",\"kiwi\"}"
      ],
      "metadata": {
        "id": "xmde5_W30zqU"
      },
      "execution_count": null,
      "outputs": []
    },
    {
      "cell_type": "markdown",
      "source": [
        "![IntersezioneInsiemi.jpg](data:image/jpeg;base64,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)"
      ],
      "metadata": {
        "id": "fCYQL35m553X"
      }
    },
    {
      "cell_type": "code",
      "source": [
        "#quali sono i frutti che piacciano ad entrambi?\n",
        "fruttiComuni = milella.intersection(avasiloae)\n",
        "print(fruttiComuni)"
      ],
      "metadata": {
        "colab": {
          "base_uri": "https://localhost:8080/"
        },
        "id": "2KepGpYf05oT",
        "outputId": "5e233121-d51e-4b7a-b40b-806535afa40e"
      },
      "execution_count": null,
      "outputs": [
        {
          "output_type": "stream",
          "name": "stdout",
          "text": [
            "{'kiwi'}\n"
          ]
        }
      ]
    },
    {
      "cell_type": "markdown",
      "source": [
        "![UnioneInsiemi.jpg](data:image/jpeg;base64,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)"
      ],
      "metadata": {
        "id": "Uh9PlAJM5820"
      }
    },
    {
      "cell_type": "code",
      "source": [
        "#tutti frutti che piacciono ad entrambi\n",
        "tuttiFrutti = milella.union(avasiloae)\n",
        "print(tuttiFrutti)"
      ],
      "metadata": {
        "colab": {
          "base_uri": "https://localhost:8080/"
        },
        "id": "0xX4S-bg2dOz",
        "outputId": "ec56497a-54cb-42ed-a21f-be93c321980c"
      },
      "execution_count": null,
      "outputs": [
        {
          "output_type": "stream",
          "name": "stdout",
          "text": [
            "{'arancia', 'banana', 'kiwi', 'pera', 'uva'}\n"
          ]
        }
      ]
    },
    {
      "cell_type": "markdown",
      "source": [
        "![DifferenceInsiemi.jpg](data:image/jpeg;base64,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)"
      ],
      "metadata": {
        "id": "QSXuLoDF7ozr"
      }
    },
    {
      "cell_type": "code",
      "source": [
        "#frutti che piacciono a milella, ma non ad avasiloae\n",
        "#il metodo difference va a prendere gli elementi che sono presenti solo in un insieme, non prendendo anche l'intersezione\n",
        "fruttiMilella = milella.difference(avasiloae)\n",
        "print(fruttiMilella)"
      ],
      "metadata": {
        "colab": {
          "base_uri": "https://localhost:8080/"
        },
        "id": "FMPJ-wA54F2D",
        "outputId": "8049b9ad-02ed-416d-9454-013b4375c174"
      },
      "execution_count": null,
      "outputs": [
        {
          "output_type": "stream",
          "name": "stdout",
          "text": [
            "{'arancia', 'banana'}\n"
          ]
        }
      ]
    },
    {
      "cell_type": "code",
      "source": [
        "#frutti che piacciono a loro, tranne i frutti in comunne\n",
        "fruttiMilella = milella.symmetric_difference(avasiloae)\n",
        "print(fruttiMilella)"
      ],
      "metadata": {
        "colab": {
          "base_uri": "https://localhost:8080/"
        },
        "id": "lU5JhBZu3GIU",
        "outputId": "2143075d-0523-46d5-f27d-649f9480e364"
      },
      "execution_count": null,
      "outputs": [
        {
          "output_type": "stream",
          "name": "stdout",
          "text": [
            "{'arancia', 'pera', 'uva', 'banana'}\n"
          ]
        }
      ]
    },
    {
      "cell_type": "code",
      "source": [
        "milella.add(\"fragola\")\n",
        "print(milella)"
      ],
      "metadata": {
        "colab": {
          "base_uri": "https://localhost:8080/"
        },
        "id": "cW45AUib5gxs",
        "outputId": "a386930b-ee43-40ff-cdf7-8afdc8baff70"
      },
      "execution_count": null,
      "outputs": [
        {
          "output_type": "stream",
          "name": "stdout",
          "text": [
            "{'fragola', 'kiwi', 'arancia', 'banana'}\n"
          ]
        }
      ]
    },
    {
      "cell_type": "code",
      "source": [
        "milella.remove(\"kiwi\")\n",
        "print(milella)"
      ],
      "metadata": {
        "colab": {
          "base_uri": "https://localhost:8080/"
        },
        "id": "44V8oEa65sQD",
        "outputId": "cf9b4edc-8a40-48d6-a1ed-d4b1036d47fe"
      },
      "execution_count": null,
      "outputs": [
        {
          "output_type": "stream",
          "name": "stdout",
          "text": [
            "{'fragola', 'arancia', 'banana'}\n"
          ]
        }
      ]
    },
    {
      "cell_type": "code",
      "source": [
        "#elimino tutti i duplicati da una lista usando il metodo set, che elimina i duplicati\n",
        "frutta = list(set([\"uva\", \"mela\", \"uva\", \"uva\", \"mela\", \"kiwi\", \"mela\"]))\n",
        "print(frutta)"
      ],
      "metadata": {
        "colab": {
          "base_uri": "https://localhost:8080/"
        },
        "id": "n2SN9Toc6HFD",
        "outputId": "1fc88ce5-2fb2-4b6f-fe2e-9a04973b1600"
      },
      "execution_count": null,
      "outputs": [
        {
          "output_type": "stream",
          "name": "stdout",
          "text": [
            "['kiwi', 'uva', 'mela']\n"
          ]
        }
      ]
    },
    {
      "cell_type": "code",
      "source": [
        "#trasformo la lista in una tupla\n",
        "frutta = tuple(frutta)\n",
        "print(frutta)"
      ],
      "metadata": {
        "colab": {
          "base_uri": "https://localhost:8080/"
        },
        "id": "ERrrhDkE60iT",
        "outputId": "d712a1a4-9b48-48f9-bd52-4a3497c21640"
      },
      "execution_count": null,
      "outputs": [
        {
          "output_type": "stream",
          "name": "stdout",
          "text": [
            "('kiwi', 'uva', 'mela')\n"
          ]
        }
      ]
    },
    {
      "cell_type": "markdown",
      "source": [
        "**esercizi**"
      ],
      "metadata": {
        "id": "UXd28yBU9P3N"
      }
    },
    {
      "cell_type": "code",
      "source": [
        "#creare una lista con le squadre della 3e\n",
        "squadreClasse = [\"milan\", \"inter\", \"milan\", \"juve\", \"napoli\", \"napoli\"]"
      ],
      "metadata": {
        "id": "9Dp70_1p7sWD"
      },
      "execution_count": null,
      "outputs": []
    },
    {
      "cell_type": "code",
      "source": [
        "#creare una nuova lista senza duplicati\n",
        "squadreSenzaDuplicati = list(set(squadreClasse))\n",
        "print(squadreSenzaDuplicati)"
      ],
      "metadata": {
        "colab": {
          "base_uri": "https://localhost:8080/"
        },
        "id": "_1JLWx4E8O-c",
        "outputId": "4cd94b12-f4db-4a1a-d51d-926898650988"
      },
      "execution_count": null,
      "outputs": [
        {
          "output_type": "stream",
          "name": "stdout",
          "text": [
            "['juve', 'milan', 'inter', 'napoli']\n"
          ]
        }
      ]
    },
    {
      "cell_type": "code",
      "source": [
        "#creare un insieme con gli studenti che tifano milan\n",
        "studentimilan = {\"darienzo\", \"bernasconi\", \"geremicca\"}"
      ],
      "metadata": {
        "id": "gl2R_ZRs8ue6"
      },
      "execution_count": null,
      "outputs": []
    },
    {
      "cell_type": "code",
      "source": [
        "#creare un insieme con gli studenti che tifano inter\n",
        "studentiinter = {\"lotorto\", \"milella\", \"bernasconi\"}"
      ],
      "metadata": {
        "id": "9q7oMhtr87U7"
      },
      "execution_count": null,
      "outputs": []
    },
    {
      "cell_type": "code",
      "source": [
        "#creare un insieme con l'elenco degli studenti e contarne quanti ce ne sono\n",
        "studenti = studentimilan.union(studentiinter)\n",
        "print(studenti)\n",
        "print(len(studenti))"
      ],
      "metadata": {
        "colab": {
          "base_uri": "https://localhost:8080/"
        },
        "id": "tfBqQVe79FDE",
        "outputId": "124772d7-52bb-4e82-d76e-44732f75841a"
      },
      "execution_count": null,
      "outputs": [
        {
          "output_type": "stream",
          "name": "stdout",
          "text": [
            "{'darienzo', 'bernasconi', 'geremicca', 'lotorto', 'milella'}\n",
            "5\n"
          ]
        }
      ]
    },
    {
      "cell_type": "code",
      "source": [
        "#creare un insieme con gli studenti che tifano due squadre\n",
        "studentiDuesquadre = studentimilan.intersection(studentiinter)\n",
        "print(studentiDuesquadre)"
      ],
      "metadata": {
        "colab": {
          "base_uri": "https://localhost:8080/"
        },
        "id": "35K4Up_I9kOb",
        "outputId": "6e7b77e3-c215-4904-83e6-c81e97ba4bdf"
      },
      "execution_count": null,
      "outputs": [
        {
          "output_type": "stream",
          "name": "stdout",
          "text": [
            "{'bernasconi'}\n"
          ]
        }
      ]
    },
    {
      "cell_type": "code",
      "source": [
        "#creare un insieme che non tifano milan\n",
        "studentiSoloInter = studentiinter.difference(studentimilan)\n",
        "print(studentiSoloInter)"
      ],
      "metadata": {
        "colab": {
          "base_uri": "https://localhost:8080/"
        },
        "id": "7T9lotS4-DK7",
        "outputId": "80965a49-9759-4bcd-ad1f-ddd7f814e479"
      },
      "execution_count": null,
      "outputs": [
        {
          "output_type": "stream",
          "name": "stdout",
          "text": [
            "{'lotorto', 'milella'}\n"
          ]
        }
      ]
    },
    {
      "cell_type": "markdown",
      "source": [
        "#dizionari"
      ],
      "metadata": {
        "id": "nFo6SrkWKK6B"
      }
    },
    {
      "cell_type": "markdown",
      "source": [
        "https://github.com/Riccardolotorto/Documentazione/blob/main/Copia_di_Dizionari.ipynb"
      ],
      "metadata": {
        "id": "uaTNz6WWKM7w"
      }
    },
    {
      "cell_type": "markdown",
      "source": [
        "#esercizi di riepilogo"
      ],
      "metadata": {
        "id": "M5PuER_nxARM"
      }
    },
    {
      "cell_type": "markdown",
      "source": [
        "1. si vogliono memorizzare le informazioni rigurdanti alcune nazioni dell'unione europea. Di ogni nazione si vogliono memorizzare il nome, la capitale, la superficie e la popolazione. \n",
        "Caricare le informazioni nella struttura dati ritenuta più opportuna.\n",
        "Scrivere poi il codice per avere le seguenti informazioni:\n",
        "-dato il nome di una nazione, tutte le sue informazioni\n",
        "-dato il nome di una capitale, visualizzare la nazione a cui appartiene \n",
        "-visualizzare il nome della nazione più estesa (max superficie)\n",
        "-visualizzare la media delle popolazioni delle nazioni presenti"
      ],
      "metadata": {
        "id": "JTLo0w_cxDab"
      }
    },
    {
      "cell_type": "code",
      "source": [
        "#inserire i dati nei dizionari\n",
        "nazioni = [\n",
        "  {\n",
        "      \"nome\":\"italia\",\n",
        "      \"capitale\":\"roma\",\n",
        "      \"superficie\":301230,\n",
        "      \"popolazione\":60000000\n",
        "  },\n",
        "  {\n",
        "      \"nome\":\"francia\",\n",
        "      \"capitale\":\"parigi\",\n",
        "      \"superficie\":543940,\n",
        "      \"popolazione\":67500000\n",
        "  },\n",
        "  {\n",
        "      \"nome\":\"spagna\",\n",
        "      \"capitale\":\"madrid\",\n",
        "      \"superficie\":505990,\n",
        "      \"popolazione\":47330000\n",
        "  },\n",
        "  {\n",
        "      \"nome\":\"portogallo\",\n",
        "      \"capitale\":\"lisbona\",\n",
        "      \"superficie\":92212,\n",
        "      \"popolazione\":10300000\n",
        "  },\n",
        "  {\n",
        "      \"nome\":\"germania\",\n",
        "      \"capitale\":\"berlino\",\n",
        "      \"superficie\":357588,\n",
        "      \"popolazione\":83130000\n",
        "  },\n",
        "  {\n",
        "      \"nome\":\"olanda\",\n",
        "      \"capitale\":\"amsterdam\",\n",
        "      \"superficie\":41543,\n",
        "      \"popolazione\":17530000\n",
        "  },\n",
        "  {\n",
        "      \"nome\":\"belgio\",\n",
        "      \"capitale\":\"bruxelles\",\n",
        "      \"superficie\":30688,\n",
        "      \"popolazione\":11590000\n",
        "  },\n",
        "  {\n",
        "      \"nome\":\"austria\",\n",
        "      \"capitale\":\"vienna\",\n",
        "      \"superficie\":83871,\n",
        "      \"popolazione\":8900000\n",
        "  },\n",
        "  {\n",
        "      \"nome\":\"grecia\",\n",
        "      \"capitale\":\"atene\",\n",
        "      \"superficie\":131957,\n",
        "      \"popolazione\":10600000\n",
        "  },\n",
        "  {\n",
        "      \"nome\":\"slovenia\",\n",
        "      \"capitale\":\"lubiana\",\n",
        "      \"superficie\":20273,\n",
        "      \"popolazione\":2100000\n",
        "  }\n",
        "]\n",
        "print(nazioni)"
      ],
      "metadata": {
        "colab": {
          "base_uri": "https://localhost:8080/"
        },
        "id": "G9msQ6MyxCmt",
        "outputId": "913aa27a-0a59-4716-8ad3-8a72f43bce0a"
      },
      "execution_count": null,
      "outputs": [
        {
          "output_type": "stream",
          "name": "stdout",
          "text": [
            "[{'nome': 'italia', 'capitale': 'roma', 'superficie': 301230, 'popolazione': 60000000}, {'nome': 'francia', 'capitale': 'parigi', 'superficie': 543940, 'popolazione': 67500000}, {'nome': 'spagna', 'capitale': 'madrid', 'superficie': 505990, 'popolazione': 47330000}, {'nome': 'portogallo', 'capitale': 'lisbona', 'superficie': 92212, 'popolazione': 10300000}, {'nome': 'germania', 'capitale': 'berlino', 'superficie': 357588, 'popolazione': 83130000}, {'nome': 'olanda', 'capitale': 'amsterdam', 'superficie': 41543, 'popolazione': 17530000}, {'nome': 'belgio', 'capitale': 'bruxelles', 'superficie': 30688, 'popolazione': 11590000}, {'nome': 'austria', 'capitale': 'vienna', 'superficie': 83871, 'popolazione': 8900000}, {'nome': 'grecia', 'capitale': 'atene', 'superficie': 131957, 'popolazione': 10600000}, {'nome': 'slovenia', 'capitale': 'lubiana', 'superficie': 20273, 'popolazione': 2100000}]\n"
          ]
        }
      ]
    },
    {
      "cell_type": "code",
      "source": [
        "#nazioni[2] è un dizionario, [\"capitale\"] è una chiave del dizionario\n",
        "nazioni[2][\"capitale\"]"
      ],
      "metadata": {
        "colab": {
          "base_uri": "https://localhost:8080/",
          "height": 35
        },
        "id": "ke4U79zW1fjT",
        "outputId": "21d720ab-498f-4a78-948d-606675ccd652"
      },
      "execution_count": null,
      "outputs": [
        {
          "output_type": "execute_result",
          "data": {
            "text/plain": [
              "'madrid'"
            ],
            "application/vnd.google.colaboratory.intrinsic+json": {
              "type": "string"
            }
          },
          "metadata": {},
          "execution_count": 11
        }
      ]
    },
    {
      "cell_type": "code",
      "source": [
        "#tutte le capitali\n",
        "for indice in range(len(nazioni)):\n",
        "  print(nazioni[indice][\"capitale\"])"
      ],
      "metadata": {
        "colab": {
          "base_uri": "https://localhost:8080/"
        },
        "id": "5M5HHRPs5iuT",
        "outputId": "7f4ae26e-5143-442d-8830-67449ddc6d88"
      },
      "execution_count": null,
      "outputs": [
        {
          "output_type": "stream",
          "name": "stdout",
          "text": [
            "roma\n",
            "parigi\n",
            "madrid\n",
            "lisbona\n",
            "berlino\n",
            "amsterdam\n",
            "bruxelles\n",
            "vienna\n",
            "atene\n",
            "lubiana\n"
          ]
        }
      ]
    },
    {
      "cell_type": "code",
      "source": [
        "#metodo più veloce per tutte le capitali\n",
        "for nazione in nazioni:\n",
        "  print(nazione[\"capitale\"])"
      ],
      "metadata": {
        "colab": {
          "base_uri": "https://localhost:8080/"
        },
        "id": "sJe4VHfm6Ts1",
        "outputId": "a0ccf2d9-c6b9-4fc9-ebcb-156bfcbf086b"
      },
      "execution_count": null,
      "outputs": [
        {
          "output_type": "stream",
          "name": "stdout",
          "text": [
            "roma\n",
            "parigi\n",
            "madrid\n",
            "lisbona\n",
            "berlino\n",
            "amsterdam\n",
            "bruxelles\n",
            "vienna\n",
            "atene\n",
            "lubiana\n"
          ]
        }
      ]
    },
    {
      "cell_type": "code",
      "source": [
        "#visulizzare tutte le informazioni della nazione inserita\n",
        "nazione_inserita = input(\"inserisci una nazione: \")\n",
        "for indice in range(len(nazioni)):\n",
        "  if nazione_inserita == nazioni[indice][\"nome\"]:\n",
        "    print(nazioni[indice])"
      ],
      "metadata": {
        "colab": {
          "base_uri": "https://localhost:8080/"
        },
        "id": "ukOSrn9E7NiD",
        "outputId": "76354a09-bff9-4c6f-d54b-55f3d7ce9d1b"
      },
      "execution_count": null,
      "outputs": [
        {
          "output_type": "stream",
          "name": "stdout",
          "text": [
            "inserisci una nazione: italia\n",
            "{'nome': 'italia', 'capitale': 'roma', 'superficie': 301230, 'popolazione': 60000000}\n"
          ]
        }
      ]
    },
    {
      "cell_type": "code",
      "source": [
        "#visualizzare la nazione della capitale inserita\n",
        "capitale_inserita = input(\"inserire una capitale: \")\n",
        "for indice in range(len(nazioni)):\n",
        "  if capitale_inserita == nazioni[indice][\"capitale\"]:\n",
        "    print(nazioni[indice][\"nome\"])"
      ],
      "metadata": {
        "colab": {
          "base_uri": "https://localhost:8080/"
        },
        "id": "nfiLfklg80dj",
        "outputId": "c47f88df-0a40-4dc6-bb21-b7f2d5d56b07"
      },
      "execution_count": null,
      "outputs": [
        {
          "output_type": "stream",
          "name": "stdout",
          "text": [
            "inserire una capitale: parigi\n",
            "francia\n"
          ]
        }
      ]
    },
    {
      "cell_type": "code",
      "source": [
        "#visualizzare la nazione con la maggiori superficie\n",
        "superfici = [nazioni[indice][\"superficie\"] for indice in range(len(nazioni))]\n",
        "superficieMax = max(superfici)\n",
        "for indice in range(len(nazioni)):\n",
        "  if superficieMax == nazioni[indice][\"superficie\"]:\n",
        "    print(nazioni[indice][\"nome\"])"
      ],
      "metadata": {
        "colab": {
          "base_uri": "https://localhost:8080/"
        },
        "id": "kw4NDi_r9Ldc",
        "outputId": "e31bc100-1d3d-4dad-bca0-fdcab01996c0"
      },
      "execution_count": null,
      "outputs": [
        {
          "output_type": "stream",
          "name": "stdout",
          "text": [
            "francia\n"
          ]
        }
      ]
    },
    {
      "cell_type": "code",
      "source": [
        "#visualizzare il valore medio delle popolazioni delle nazioni \n",
        "from statistics import mean\n",
        "popolazioni = [nazioni[indice][\"popolazione\"] for indice in range(len(nazioni))]\n",
        "mediaPopolazioni = mean(popolazioni)\n",
        "print(mediaPopolazioni)"
      ],
      "metadata": {
        "colab": {
          "base_uri": "https://localhost:8080/"
        },
        "id": "oF_DWf9LB6Dj",
        "outputId": "6a18b13b-4b31-40cf-eb67-6c4b2a42c30f"
      },
      "execution_count": null,
      "outputs": [
        {
          "output_type": "stream",
          "name": "stdout",
          "text": [
            "31898000\n"
          ]
        }
      ]
    },
    {
      "cell_type": "markdown",
      "source": [
        "2. memorizzare in un'opportuna struttura dati i nomi di 10 città europee e in un'altra struttura dati i nomi di 10 capitali. \n",
        "Scrivere poi il codice necessario per avere i nomi delle città che sono anche capitali. "
      ],
      "metadata": {
        "id": "KJJSpXK0xHOD"
      }
    },
    {
      "cell_type": "code",
      "source": [
        "#memorizzare i dati in due insiemi\n",
        "città = {\"milano\", \"parigi\", \"zurigo\", \"madrid\", \"porto\", \"roma\", \"san pietroburgo\", \"stoccolma\", \"anversa\"}\n",
        "capitali = {\"roma\", \"berlino\", \"madrid\", \"minsk\", \"parigi\", \"lisbona\", \"amsterdam\", \"stoccolma\", \"oslo\", \"bruxelles\"}"
      ],
      "metadata": {
        "id": "Jp_u1boUxJvE"
      },
      "execution_count": null,
      "outputs": []
    },
    {
      "cell_type": "code",
      "source": [
        "#trovare le città che sono anche capitali (trovare le città che sono presenti in entrambi gli insiemi)\n",
        "#usare gli insiemi per trovare i dati comuni\n",
        "cittàcapitali = list(città.intersection(capitali))\n",
        "print(cittàcapitali)"
      ],
      "metadata": {
        "colab": {
          "base_uri": "https://localhost:8080/"
        },
        "id": "WO7LrVuDA1y7",
        "outputId": "24592ab5-ad2a-4f4a-f36c-41cf4955a38f"
      },
      "execution_count": null,
      "outputs": [
        {
          "output_type": "stream",
          "name": "stdout",
          "text": [
            "['stoccolma', 'madrid', 'parigi', 'roma']\n"
          ]
        }
      ]
    }
  ]
}